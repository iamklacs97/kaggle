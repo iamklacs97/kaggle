{
 "cells": [
  {
   "cell_type": "markdown",
   "id": "53539829",
   "metadata": {
    "_cell_guid": "b1076dfc-b9ad-4769-8c92-a6c4dae69d19",
    "_uuid": "8f2839f25d086af736a60e9eeb907d3b93b6e0e5",
    "papermill": {
     "duration": 0.015257,
     "end_time": "2023-12-23T02:34:52.269108",
     "exception": false,
     "start_time": "2023-12-23T02:34:52.253851",
     "status": "completed"
    },
    "tags": []
   },
   "source": [
    "# Linking writing processes to writing quality\n",
    "\n",
    "Notebook by Kyle Lacson"
   ]
  },
  {
   "cell_type": "markdown",
   "id": "09e4b25b",
   "metadata": {
    "papermill": {
     "duration": 0.01441,
     "end_time": "2023-12-23T02:34:52.298986",
     "exception": false,
     "start_time": "2023-12-23T02:34:52.284576",
     "status": "completed"
    },
    "tags": []
   },
   "source": [
    "## I. Import Modules and Libraries"
   ]
  },
  {
   "cell_type": "code",
   "execution_count": 1,
   "id": "c5d4db2f",
   "metadata": {
    "execution": {
     "iopub.execute_input": "2023-12-23T02:34:52.330037Z",
     "iopub.status.busy": "2023-12-23T02:34:52.329739Z",
     "iopub.status.idle": "2023-12-23T02:34:53.970923Z",
     "shell.execute_reply": "2023-12-23T02:34:53.969935Z"
    },
    "papermill": {
     "duration": 1.659088,
     "end_time": "2023-12-23T02:34:53.973149",
     "exception": false,
     "start_time": "2023-12-23T02:34:52.314061",
     "status": "completed"
    },
    "tags": []
   },
   "outputs": [
    {
     "name": "stderr",
     "output_type": "stream",
     "text": [
      "/opt/conda/lib/python3.10/site-packages/scipy/__init__.py:146: UserWarning: A NumPy version >=1.16.5 and <1.23.0 is required for this version of SciPy (detected version 1.24.3\n",
      "  warnings.warn(f\"A NumPy version >={np_minversion} and <{np_maxversion}\"\n"
     ]
    }
   ],
   "source": [
    "import pandas as pd \n",
    "import numpy as np\n",
    "import seaborn as sns \n",
    "import matplotlib.pyplot as plt \n",
    "import os\n",
    "import gc\n",
    "import warnings\n",
    "warnings.filterwarnings('ignore')"
   ]
  },
  {
   "cell_type": "markdown",
   "id": "0256d742",
   "metadata": {
    "papermill": {
     "duration": 0.01598,
     "end_time": "2023-12-23T02:34:54.004405",
     "exception": false,
     "start_time": "2023-12-23T02:34:53.988425",
     "status": "completed"
    },
    "tags": []
   },
   "source": [
    "## II. Setup directories and/or files"
   ]
  },
  {
   "cell_type": "code",
   "execution_count": 2,
   "id": "82ae3ba5",
   "metadata": {
    "execution": {
     "iopub.execute_input": "2023-12-23T02:34:54.036125Z",
     "iopub.status.busy": "2023-12-23T02:34:54.035750Z",
     "iopub.status.idle": "2023-12-23T02:34:54.043018Z",
     "shell.execute_reply": "2023-12-23T02:34:54.042212Z"
    },
    "papermill": {
     "duration": 0.024972,
     "end_time": "2023-12-23T02:34:54.044938",
     "exception": false,
     "start_time": "2023-12-23T02:34:54.019966",
     "status": "completed"
    },
    "tags": []
   },
   "outputs": [
    {
     "data": {
      "text/plain": [
       "['sample_submission.csv',\n",
       " 'test_logs.csv',\n",
       " 'train_scores.csv',\n",
       " 'train_logs.csv']"
      ]
     },
     "execution_count": 2,
     "metadata": {},
     "output_type": "execute_result"
    }
   ],
   "source": [
    "# - Setup and change base directory\n",
    "base_dir = r'/kaggle/input/linking-writing-processes-to-writing-quality'\n",
    "os.chdir(base_dir)\n",
    "os.listdir(os.getcwd())"
   ]
  },
  {
   "cell_type": "code",
   "execution_count": 3,
   "id": "9591e8f7",
   "metadata": {
    "execution": {
     "iopub.execute_input": "2023-12-23T02:34:54.076124Z",
     "iopub.status.busy": "2023-12-23T02:34:54.075871Z",
     "iopub.status.idle": "2023-12-23T02:34:59.087777Z",
     "shell.execute_reply": "2023-12-23T02:34:59.086791Z"
    },
    "papermill": {
     "duration": 5.030048,
     "end_time": "2023-12-23T02:34:59.090030",
     "exception": false,
     "start_time": "2023-12-23T02:34:54.059982",
     "status": "completed"
    },
    "tags": []
   },
   "outputs": [
    {
     "name": "stdout",
     "output_type": "stream",
     "text": [
      "5.005460977554321\n"
     ]
    }
   ],
   "source": [
    "# - Importing csv files - pyarrow engine loads 2x as fast\n",
    "import time\n",
    "start = time.time()\n",
    "for i in os.listdir(os.getcwd()):\n",
    "    if i == 'sample_submission.csv':\n",
    "        sample = pd.read_csv(i, engine = 'pyarrow')\n",
    "    elif i == 'test_logs.csv':\n",
    "        test_logs = pd.read_csv(i, engine = 'pyarrow')\n",
    "    elif i == 'train_scores.csv':\n",
    "        train_score = pd.read_csv(i, engine = 'pyarrow')\n",
    "    elif i == 'train_logs.csv':\n",
    "        train_logs = pd.read_csv(i, engine = 'pyarrow')\n",
    "    else:\n",
    "        print(i)\n",
    "end = time.time()\n",
    "print(end - start)"
   ]
  },
  {
   "cell_type": "code",
   "execution_count": 4,
   "id": "77397cd6",
   "metadata": {
    "execution": {
     "iopub.execute_input": "2023-12-23T02:34:59.122107Z",
     "iopub.status.busy": "2023-12-23T02:34:59.121805Z",
     "iopub.status.idle": "2023-12-23T02:34:59.616223Z",
     "shell.execute_reply": "2023-12-23T02:34:59.615407Z"
    },
    "papermill": {
     "duration": 0.512917,
     "end_time": "2023-12-23T02:34:59.618480",
     "exception": false,
     "start_time": "2023-12-23T02:34:59.105563",
     "status": "completed"
    },
    "tags": []
   },
   "outputs": [],
   "source": [
    "# - Creating a copy of train_logs \n",
    "train_logs_copy = train_logs.copy()"
   ]
  },
  {
   "cell_type": "markdown",
   "id": "2bd816c3",
   "metadata": {
    "papermill": {
     "duration": 0.014931,
     "end_time": "2023-12-23T02:34:59.649052",
     "exception": false,
     "start_time": "2023-12-23T02:34:59.634121",
     "status": "completed"
    },
    "tags": []
   },
   "source": [
    "## III. Explore data"
   ]
  },
  {
   "cell_type": "markdown",
   "id": "383209a8",
   "metadata": {
    "execution": {
     "iopub.execute_input": "2023-12-18T18:22:31.711458Z",
     "iopub.status.busy": "2023-12-18T18:22:31.711058Z",
     "iopub.status.idle": "2023-12-18T18:22:31.716886Z",
     "shell.execute_reply": "2023-12-18T18:22:31.715793Z",
     "shell.execute_reply.started": "2023-12-18T18:22:31.711425Z"
    },
    "papermill": {
     "duration": 0.014727,
     "end_time": "2023-12-23T02:34:59.678858",
     "exception": false,
     "start_time": "2023-12-23T02:34:59.664131",
     "status": "completed"
    },
    "tags": []
   },
   "source": [
    "### III.i Train logs"
   ]
  },
  {
   "cell_type": "code",
   "execution_count": 5,
   "id": "aa12c5f2",
   "metadata": {
    "execution": {
     "iopub.execute_input": "2023-12-23T02:34:59.710341Z",
     "iopub.status.busy": "2023-12-23T02:34:59.709950Z",
     "iopub.status.idle": "2023-12-23T02:35:00.761495Z",
     "shell.execute_reply": "2023-12-23T02:35:00.760499Z"
    },
    "papermill": {
     "duration": 1.0696,
     "end_time": "2023-12-23T02:35:00.763515",
     "exception": false,
     "start_time": "2023-12-23T02:34:59.693915",
     "status": "completed"
    },
    "tags": []
   },
   "outputs": [
    {
     "data": {
      "image/png": "[encoded data removed]",
      "text/plain": [
       "<Figure size 640x480 with 1 Axes>"
      ]
     },
     "metadata": {},
     "output_type": "display_data"
    }
   ],
   "source": [
    "train_logs.event_id.plot(kind = 'box');"
   ]
  },
  {
   "cell_type": "code",
   "execution_count": 6,
   "id": "636314da",
   "metadata": {
    "execution": {
     "iopub.execute_input": "2023-12-23T02:35:00.836082Z",
     "iopub.status.busy": "2023-12-23T02:35:00.835518Z",
     "iopub.status.idle": "2023-12-23T02:35:09.457181Z",
     "shell.execute_reply": "2023-12-23T02:35:09.456289Z"
    },
    "papermill": {
     "duration": 8.679868,
     "end_time": "2023-12-23T02:35:09.459361",
     "exception": false,
     "start_time": "2023-12-23T02:35:00.779493",
     "status": "completed"
    },
    "tags": []
   },
   "outputs": [
    {
     "data": {
      "text/html": [
       "<div>\n",
       "<style scoped>\n",
       "    .dataframe tbody tr th:only-of-type {\n",
       "        vertical-align: middle;\n",
       "    }\n",
       "\n",
       "    .dataframe tbody tr th {\n",
       "        vertical-align: top;\n",
       "    }\n",
       "\n",
       "    .dataframe thead th {\n",
       "        text-align: right;\n",
       "    }\n",
       "</style>\n",
       "<table border=\"1\" class=\"dataframe\">\n",
       "  <thead>\n",
       "    <tr style=\"text-align: right;\">\n",
       "      <th></th>\n",
       "      <th>id</th>\n",
       "      <th>activity</th>\n",
       "      <th>down_event</th>\n",
       "      <th>up_event</th>\n",
       "      <th>text_change</th>\n",
       "    </tr>\n",
       "  </thead>\n",
       "  <tbody>\n",
       "    <tr>\n",
       "      <th>count</th>\n",
       "      <td>8387387</td>\n",
       "      <td>8387387</td>\n",
       "      <td>8387387</td>\n",
       "      <td>8387387</td>\n",
       "      <td>8387387</td>\n",
       "    </tr>\n",
       "    <tr>\n",
       "      <th>unique</th>\n",
       "      <td>2465</td>\n",
       "      <td>50</td>\n",
       "      <td>131</td>\n",
       "      <td>130</td>\n",
       "      <td>4099</td>\n",
       "    </tr>\n",
       "    <tr>\n",
       "      <th>top</th>\n",
       "      <td>d3fef198</td>\n",
       "      <td>Input</td>\n",
       "      <td>q</td>\n",
       "      <td>q</td>\n",
       "      <td>q</td>\n",
       "    </tr>\n",
       "    <tr>\n",
       "      <th>freq</th>\n",
       "      <td>12876</td>\n",
       "      <td>6711310</td>\n",
       "      <td>5352915</td>\n",
       "      <td>5352388</td>\n",
       "      <td>6113973</td>\n",
       "    </tr>\n",
       "  </tbody>\n",
       "</table>\n",
       "</div>"
      ],
      "text/plain": [
       "              id activity down_event up_event text_change\n",
       "count    8387387  8387387    8387387  8387387     8387387\n",
       "unique      2465       50        131      130        4099\n",
       "top     d3fef198    Input          q        q           q\n",
       "freq       12876  6711310    5352915  5352388     6113973"
      ]
     },
     "execution_count": 6,
     "metadata": {},
     "output_type": "execute_result"
    }
   ],
   "source": [
    "train_logs.describe(include = 'object')"
   ]
  },
  {
   "cell_type": "markdown",
   "id": "e4bcdbe6",
   "metadata": {
    "papermill": {
     "duration": 0.015429,
     "end_time": "2023-12-23T02:35:09.490873",
     "exception": false,
     "start_time": "2023-12-23T02:35:09.475444",
     "status": "completed"
    },
    "tags": []
   },
   "source": [
    "### III.ii Text Change Column"
   ]
  },
  {
   "cell_type": "code",
   "execution_count": 7,
   "id": "7f6fffab",
   "metadata": {
    "execution": {
     "iopub.execute_input": "2023-12-23T02:35:09.523475Z",
     "iopub.status.busy": "2023-12-23T02:35:09.523203Z",
     "iopub.status.idle": "2023-12-23T02:35:25.070062Z",
     "shell.execute_reply": "2023-12-23T02:35:25.068685Z"
    },
    "papermill": {
     "duration": 15.567451,
     "end_time": "2023-12-23T02:35:25.074015",
     "exception": false,
     "start_time": "2023-12-23T02:35:09.506564",
     "status": "completed"
    },
    "tags": []
   },
   "outputs": [
    {
     "name": "stdout",
     "output_type": "stream",
     "text": [
      "Text change input: \"q\" occurs 72.89% of the time.\n"
     ]
    },
    {
     "data": {
      "image/png": "[encoded data removed]",
      "text/plain": [
       "<Figure size 640x480 with 1 Axes>"
      ]
     },
     "metadata": {},
     "output_type": "display_data"
    }
   ],
   "source": [
    "# - Breakdown text_change column as there are many unique values\n",
    "'''\n",
    "Function: Update text change column and provide a visual understanding of the column.\n",
    "''' \n",
    "def text_change_column():\n",
    "    train_logs.text_change.value_counts()[:10].plot(kind = 'pie');\n",
    "    print(f'Text change input: \"{train_logs.text_change.value_counts().index[0]}\" occurs {round(train_logs.text_change.value_counts()[0]/train_logs.shape[0],4)*100}% of the time.')\n",
    "    pd.options.display.float_format = '{:.3f}'.format\n",
    "    text_change_series = list(train_logs.text_change.value_counts())\n",
    "    text_change_percentage = list(train_logs.text_change.value_counts().map(lambda x: round(x,4) / train_logs.shape[0]))\n",
    "    text_change_df = pd.DataFrame(data = {'Value_count': text_change_series, 'Percentage_of_total': text_change_percentage}, index = train_logs.text_change.value_counts().index)\n",
    "    text_change_keep_df = text_change_df[text_change_df.Percentage_of_total > 0.001].style.background_gradient()\n",
    "    \n",
    "    # - Text_change column change\n",
    "    text_change_keep_df.index\n",
    "    train_logs.text_change = train_logs.text_change.map(lambda x: x if x in text_change_keep_df.index else 'Other')\n",
    "    \n",
    "    return train_logs\n",
    "\n",
    "# - init text_change columns change\n",
    "train_logs = text_change_column()"
   ]
  },
  {
   "cell_type": "markdown",
   "id": "b5cbdb29",
   "metadata": {
    "papermill": {
     "duration": 0.0343,
     "end_time": "2023-12-23T02:35:25.146919",
     "exception": false,
     "start_time": "2023-12-23T02:35:25.112619",
     "status": "completed"
    },
    "tags": []
   },
   "source": [
    "## III.ii Down Event and Up Event columns"
   ]
  },
  {
   "cell_type": "code",
   "execution_count": 8,
   "id": "45d19231",
   "metadata": {
    "execution": {
     "iopub.execute_input": "2023-12-23T02:35:25.180342Z",
     "iopub.status.busy": "2023-12-23T02:35:25.179959Z",
     "iopub.status.idle": "2023-12-23T02:35:25.186223Z",
     "shell.execute_reply": "2023-12-23T02:35:25.185367Z"
    },
    "papermill": {
     "duration": 0.025135,
     "end_time": "2023-12-23T02:35:25.188161",
     "exception": false,
     "start_time": "2023-12-23T02:35:25.163026",
     "status": "completed"
    },
    "tags": []
   },
   "outputs": [],
   "source": [
    "# - Breakdown down event and up event unique values composition\n",
    "'''\n",
    "Function: Create a dataframe that shows the 0.1% usage of all unique values.\n",
    "'''\n",
    "def column_value_count(column_name):\n",
    "    val_count = train_logs[column_name].value_counts()\n",
    "    percentage_of_total = train_logs[column_name].value_counts().map(lambda x: x / train_logs.shape[0])\n",
    "    df = pd.DataFrame(data = {'Value_count': val_count, 'Percentage_of_total': percentage_of_total}, index = train_logs[column_name].value_counts().index)\n",
    "    df = df[df['Percentage_of_total'] > 0.001].style.background_gradient(cmap = 'YlOrRd') # 0.1% threshold composition\n",
    "    return df"
   ]
  },
  {
   "cell_type": "code",
   "execution_count": 9,
   "id": "d9318fe7",
   "metadata": {
    "execution": {
     "iopub.execute_input": "2023-12-23T02:35:25.221566Z",
     "iopub.status.busy": "2023-12-23T02:35:25.221315Z",
     "iopub.status.idle": "2023-12-23T02:35:27.918644Z",
     "shell.execute_reply": "2023-12-23T02:35:27.917788Z"
    },
    "papermill": {
     "duration": 2.716327,
     "end_time": "2023-12-23T02:35:27.920751",
     "exception": false,
     "start_time": "2023-12-23T02:35:25.204424",
     "status": "completed"
    },
    "tags": []
   },
   "outputs": [
    {
     "data": {
      "text/html": [
       "<style type=\"text/css\">\n",
       "#T_78e30_row0_col0, #T_78e30_row0_col1 {\n",
       "  background-color: #800026;\n",
       "  color: #f1f1f1;\n",
       "}\n",
       "#T_78e30_row1_col0, #T_78e30_row1_col1 {\n",
       "  background-color: #fedd7f;\n",
       "  color: #000000;\n",
       "}\n",
       "#T_78e30_row2_col0, #T_78e30_row2_col1 {\n",
       "  background-color: #ffe58f;\n",
       "  color: #000000;\n",
       "}\n",
       "#T_78e30_row3_col0, #T_78e30_row3_col1 {\n",
       "  background-color: #fff7b7;\n",
       "  color: #000000;\n",
       "}\n",
       "#T_78e30_row4_col0, #T_78e30_row4_col1 {\n",
       "  background-color: #fffcc5;\n",
       "  color: #000000;\n",
       "}\n",
       "#T_78e30_row5_col0, #T_78e30_row5_col1 {\n",
       "  background-color: #fffdc8;\n",
       "  color: #000000;\n",
       "}\n",
       "#T_78e30_row6_col0, #T_78e30_row6_col1, #T_78e30_row7_col0, #T_78e30_row7_col1 {\n",
       "  background-color: #fffec9;\n",
       "  color: #000000;\n",
       "}\n",
       "#T_78e30_row8_col0, #T_78e30_row8_col1 {\n",
       "  background-color: #fffecb;\n",
       "  color: #000000;\n",
       "}\n",
       "#T_78e30_row9_col0, #T_78e30_row9_col1, #T_78e30_row10_col0, #T_78e30_row10_col1, #T_78e30_row11_col0, #T_78e30_row11_col1, #T_78e30_row12_col0, #T_78e30_row12_col1, #T_78e30_row13_col0, #T_78e30_row13_col1, #T_78e30_row14_col0, #T_78e30_row14_col1 {\n",
       "  background-color: #ffffcc;\n",
       "  color: #000000;\n",
       "}\n",
       "</style>\n",
       "<table id=\"T_78e30\">\n",
       "  <thead>\n",
       "    <tr>\n",
       "      <th class=\"blank level0\" >&nbsp;</th>\n",
       "      <th id=\"T_78e30_level0_col0\" class=\"col_heading level0 col0\" >Value_count</th>\n",
       "      <th id=\"T_78e30_level0_col1\" class=\"col_heading level0 col1\" >Percentage_of_total</th>\n",
       "    </tr>\n",
       "    <tr>\n",
       "      <th class=\"index_name level0\" >down_event</th>\n",
       "      <th class=\"blank col0\" >&nbsp;</th>\n",
       "      <th class=\"blank col1\" >&nbsp;</th>\n",
       "    </tr>\n",
       "  </thead>\n",
       "  <tbody>\n",
       "    <tr>\n",
       "      <th id=\"T_78e30_level0_row0\" class=\"row_heading level0 row0\" >q</th>\n",
       "      <td id=\"T_78e30_row0_col0\" class=\"data row0 col0\" >5352915</td>\n",
       "      <td id=\"T_78e30_row0_col1\" class=\"data row0 col1\" >0.638210</td>\n",
       "    </tr>\n",
       "    <tr>\n",
       "      <th id=\"T_78e30_level0_row1\" class=\"row_heading level0 row1\" >Space</th>\n",
       "      <td id=\"T_78e30_row1_col0\" class=\"data row1 col0\" >1204406</td>\n",
       "      <td id=\"T_78e30_row1_col1\" class=\"data row1 col1\" >0.143597</td>\n",
       "    </tr>\n",
       "    <tr>\n",
       "      <th id=\"T_78e30_level0_row2\" class=\"row_heading level0 row2\" >Backspace</th>\n",
       "      <td id=\"T_78e30_row2_col0\" class=\"data row2 col0\" >961706</td>\n",
       "      <td id=\"T_78e30_row2_col1\" class=\"data row2 col1\" >0.114661</td>\n",
       "    </tr>\n",
       "    <tr>\n",
       "      <th id=\"T_78e30_level0_row3\" class=\"row_heading level0 row3\" >Shift</th>\n",
       "      <td id=\"T_78e30_row3_col0\" class=\"data row3 col0\" >333988</td>\n",
       "      <td id=\"T_78e30_row3_col1\" class=\"data row3 col1\" >0.039820</td>\n",
       "    </tr>\n",
       "    <tr>\n",
       "      <th id=\"T_78e30_level0_row4\" class=\"row_heading level0 row4\" >ArrowRight</th>\n",
       "      <td id=\"T_78e30_row4_col0\" class=\"data row4 col0\" >121333</td>\n",
       "      <td id=\"T_78e30_row4_col1\" class=\"data row4 col1\" >0.014466</td>\n",
       "    </tr>\n",
       "    <tr>\n",
       "      <th id=\"T_78e30_level0_row5\" class=\"row_heading level0 row5\" >Leftclick</th>\n",
       "      <td id=\"T_78e30_row5_col0\" class=\"data row5 col0\" >90829</td>\n",
       "      <td id=\"T_78e30_row5_col1\" class=\"data row5 col1\" >0.010829</td>\n",
       "    </tr>\n",
       "    <tr>\n",
       "      <th id=\"T_78e30_level0_row6\" class=\"row_heading level0 row6\" >ArrowLeft</th>\n",
       "      <td id=\"T_78e30_row6_col0\" class=\"data row6 col0\" >63216</td>\n",
       "      <td id=\"T_78e30_row6_col1\" class=\"data row6 col1\" >0.007537</td>\n",
       "    </tr>\n",
       "    <tr>\n",
       "      <th id=\"T_78e30_level0_row7\" class=\"row_heading level0 row7\" >.</th>\n",
       "      <td id=\"T_78e30_row7_col0\" class=\"data row7 col0\" >59428</td>\n",
       "      <td id=\"T_78e30_row7_col1\" class=\"data row7 col1\" >0.007085</td>\n",
       "    </tr>\n",
       "    <tr>\n",
       "      <th id=\"T_78e30_level0_row8\" class=\"row_heading level0 row8\" >,</th>\n",
       "      <td id=\"T_78e30_row8_col0\" class=\"data row8 col0\" >46686</td>\n",
       "      <td id=\"T_78e30_row8_col1\" class=\"data row8 col1\" >0.005566</td>\n",
       "    </tr>\n",
       "    <tr>\n",
       "      <th id=\"T_78e30_level0_row9\" class=\"row_heading level0 row9\" >ArrowDown</th>\n",
       "      <td id=\"T_78e30_row9_col0\" class=\"data row9 col0\" >30868</td>\n",
       "      <td id=\"T_78e30_row9_col1\" class=\"data row9 col1\" >0.003680</td>\n",
       "    </tr>\n",
       "    <tr>\n",
       "      <th id=\"T_78e30_level0_row10\" class=\"row_heading level0 row10\" >ArrowUp</th>\n",
       "      <td id=\"T_78e30_row10_col0\" class=\"data row10 col0\" >28188</td>\n",
       "      <td id=\"T_78e30_row10_col1\" class=\"data row10 col1\" >0.003361</td>\n",
       "    </tr>\n",
       "    <tr>\n",
       "      <th id=\"T_78e30_level0_row11\" class=\"row_heading level0 row11\" >Enter</th>\n",
       "      <td id=\"T_78e30_row11_col0\" class=\"data row11 col0\" >22650</td>\n",
       "      <td id=\"T_78e30_row11_col1\" class=\"data row11 col1\" >0.002700</td>\n",
       "    </tr>\n",
       "    <tr>\n",
       "      <th id=\"T_78e30_level0_row12\" class=\"row_heading level0 row12\" >CapsLock</th>\n",
       "      <td id=\"T_78e30_row12_col0\" class=\"data row12 col0\" >12502</td>\n",
       "      <td id=\"T_78e30_row12_col1\" class=\"data row12 col1\" >0.001491</td>\n",
       "    </tr>\n",
       "    <tr>\n",
       "      <th id=\"T_78e30_level0_row13\" class=\"row_heading level0 row13\" >'</th>\n",
       "      <td id=\"T_78e30_row13_col0\" class=\"data row13 col0\" >11144</td>\n",
       "      <td id=\"T_78e30_row13_col1\" class=\"data row13 col1\" >0.001329</td>\n",
       "    </tr>\n",
       "    <tr>\n",
       "      <th id=\"T_78e30_level0_row14\" class=\"row_heading level0 row14\" >Delete</th>\n",
       "      <td id=\"T_78e30_row14_col0\" class=\"data row14 col0\" >10965</td>\n",
       "      <td id=\"T_78e30_row14_col1\" class=\"data row14 col1\" >0.001307</td>\n",
       "    </tr>\n",
       "  </tbody>\n",
       "</table>\n"
      ],
      "text/plain": [
       "<pandas.io.formats.style.Styler at 0x7e6efc096440>"
      ]
     },
     "execution_count": 9,
     "metadata": {},
     "output_type": "execute_result"
    }
   ],
   "source": [
    "# # - Down event unique count breakdown \n",
    "down_event_keep_df = column_value_count('down_event')\n",
    "down_event_keep_df"
   ]
  },
  {
   "cell_type": "code",
   "execution_count": 10,
   "id": "3974c820",
   "metadata": {
    "execution": {
     "iopub.execute_input": "2023-12-23T02:35:27.955360Z",
     "iopub.status.busy": "2023-12-23T02:35:27.955066Z",
     "iopub.status.idle": "2023-12-23T02:35:30.626525Z",
     "shell.execute_reply": "2023-12-23T02:35:30.625660Z"
    },
    "papermill": {
     "duration": 2.690997,
     "end_time": "2023-12-23T02:35:30.628654",
     "exception": false,
     "start_time": "2023-12-23T02:35:27.937657",
     "status": "completed"
    },
    "tags": []
   },
   "outputs": [
    {
     "data": {
      "text/html": [
       "<style type=\"text/css\">\n",
       "#T_4a429_row0_col0, #T_4a429_row0_col1 {\n",
       "  background-color: #800026;\n",
       "  color: #f1f1f1;\n",
       "}\n",
       "#T_4a429_row1_col0, #T_4a429_row1_col1 {\n",
       "  background-color: #fedd7f;\n",
       "  color: #000000;\n",
       "}\n",
       "#T_4a429_row2_col0, #T_4a429_row2_col1 {\n",
       "  background-color: #ffe58f;\n",
       "  color: #000000;\n",
       "}\n",
       "#T_4a429_row3_col0, #T_4a429_row3_col1 {\n",
       "  background-color: #fff7b7;\n",
       "  color: #000000;\n",
       "}\n",
       "#T_4a429_row4_col0, #T_4a429_row4_col1 {\n",
       "  background-color: #fffcc5;\n",
       "  color: #000000;\n",
       "}\n",
       "#T_4a429_row5_col0, #T_4a429_row5_col1 {\n",
       "  background-color: #fffdc8;\n",
       "  color: #000000;\n",
       "}\n",
       "#T_4a429_row6_col0, #T_4a429_row6_col1, #T_4a429_row7_col0, #T_4a429_row7_col1 {\n",
       "  background-color: #fffec9;\n",
       "  color: #000000;\n",
       "}\n",
       "#T_4a429_row8_col0, #T_4a429_row8_col1 {\n",
       "  background-color: #fffecb;\n",
       "  color: #000000;\n",
       "}\n",
       "#T_4a429_row9_col0, #T_4a429_row9_col1, #T_4a429_row10_col0, #T_4a429_row10_col1, #T_4a429_row11_col0, #T_4a429_row11_col1, #T_4a429_row12_col0, #T_4a429_row12_col1, #T_4a429_row13_col0, #T_4a429_row13_col1, #T_4a429_row14_col0, #T_4a429_row14_col1 {\n",
       "  background-color: #ffffcc;\n",
       "  color: #000000;\n",
       "}\n",
       "</style>\n",
       "<table id=\"T_4a429\">\n",
       "  <thead>\n",
       "    <tr>\n",
       "      <th class=\"blank level0\" >&nbsp;</th>\n",
       "      <th id=\"T_4a429_level0_col0\" class=\"col_heading level0 col0\" >Value_count</th>\n",
       "      <th id=\"T_4a429_level0_col1\" class=\"col_heading level0 col1\" >Percentage_of_total</th>\n",
       "    </tr>\n",
       "    <tr>\n",
       "      <th class=\"index_name level0\" >up_event</th>\n",
       "      <th class=\"blank col0\" >&nbsp;</th>\n",
       "      <th class=\"blank col1\" >&nbsp;</th>\n",
       "    </tr>\n",
       "  </thead>\n",
       "  <tbody>\n",
       "    <tr>\n",
       "      <th id=\"T_4a429_level0_row0\" class=\"row_heading level0 row0\" >q</th>\n",
       "      <td id=\"T_4a429_row0_col0\" class=\"data row0 col0\" >5352388</td>\n",
       "      <td id=\"T_4a429_row0_col1\" class=\"data row0 col1\" >0.638147</td>\n",
       "    </tr>\n",
       "    <tr>\n",
       "      <th id=\"T_4a429_level0_row1\" class=\"row_heading level0 row1\" >Space</th>\n",
       "      <td id=\"T_4a429_row1_col0\" class=\"data row1 col0\" >1204406</td>\n",
       "      <td id=\"T_4a429_row1_col1\" class=\"data row1 col1\" >0.143597</td>\n",
       "    </tr>\n",
       "    <tr>\n",
       "      <th id=\"T_4a429_level0_row2\" class=\"row_heading level0 row2\" >Backspace</th>\n",
       "      <td id=\"T_4a429_row2_col0\" class=\"data row2 col0\" >961706</td>\n",
       "      <td id=\"T_4a429_row2_col1\" class=\"data row2 col1\" >0.114661</td>\n",
       "    </tr>\n",
       "    <tr>\n",
       "      <th id=\"T_4a429_level0_row3\" class=\"row_heading level0 row3\" >Shift</th>\n",
       "      <td id=\"T_4a429_row3_col0\" class=\"data row3 col0\" >333988</td>\n",
       "      <td id=\"T_4a429_row3_col1\" class=\"data row3 col1\" >0.039820</td>\n",
       "    </tr>\n",
       "    <tr>\n",
       "      <th id=\"T_4a429_level0_row4\" class=\"row_heading level0 row4\" >ArrowRight</th>\n",
       "      <td id=\"T_4a429_row4_col0\" class=\"data row4 col0\" >121333</td>\n",
       "      <td id=\"T_4a429_row4_col1\" class=\"data row4 col1\" >0.014466</td>\n",
       "    </tr>\n",
       "    <tr>\n",
       "      <th id=\"T_4a429_level0_row5\" class=\"row_heading level0 row5\" >Leftclick</th>\n",
       "      <td id=\"T_4a429_row5_col0\" class=\"data row5 col0\" >90829</td>\n",
       "      <td id=\"T_4a429_row5_col1\" class=\"data row5 col1\" >0.010829</td>\n",
       "    </tr>\n",
       "    <tr>\n",
       "      <th id=\"T_4a429_level0_row6\" class=\"row_heading level0 row6\" >ArrowLeft</th>\n",
       "      <td id=\"T_4a429_row6_col0\" class=\"data row6 col0\" >63216</td>\n",
       "      <td id=\"T_4a429_row6_col1\" class=\"data row6 col1\" >0.007537</td>\n",
       "    </tr>\n",
       "    <tr>\n",
       "      <th id=\"T_4a429_level0_row7\" class=\"row_heading level0 row7\" >.</th>\n",
       "      <td id=\"T_4a429_row7_col0\" class=\"data row7 col0\" >59428</td>\n",
       "      <td id=\"T_4a429_row7_col1\" class=\"data row7 col1\" >0.007085</td>\n",
       "    </tr>\n",
       "    <tr>\n",
       "      <th id=\"T_4a429_level0_row8\" class=\"row_heading level0 row8\" >,</th>\n",
       "      <td id=\"T_4a429_row8_col0\" class=\"data row8 col0\" >46686</td>\n",
       "      <td id=\"T_4a429_row8_col1\" class=\"data row8 col1\" >0.005566</td>\n",
       "    </tr>\n",
       "    <tr>\n",
       "      <th id=\"T_4a429_level0_row9\" class=\"row_heading level0 row9\" >ArrowDown</th>\n",
       "      <td id=\"T_4a429_row9_col0\" class=\"data row9 col0\" >30868</td>\n",
       "      <td id=\"T_4a429_row9_col1\" class=\"data row9 col1\" >0.003680</td>\n",
       "    </tr>\n",
       "    <tr>\n",
       "      <th id=\"T_4a429_level0_row10\" class=\"row_heading level0 row10\" >ArrowUp</th>\n",
       "      <td id=\"T_4a429_row10_col0\" class=\"data row10 col0\" >28188</td>\n",
       "      <td id=\"T_4a429_row10_col1\" class=\"data row10 col1\" >0.003361</td>\n",
       "    </tr>\n",
       "    <tr>\n",
       "      <th id=\"T_4a429_level0_row11\" class=\"row_heading level0 row11\" >Enter</th>\n",
       "      <td id=\"T_4a429_row11_col0\" class=\"data row11 col0\" >22650</td>\n",
       "      <td id=\"T_4a429_row11_col1\" class=\"data row11 col1\" >0.002700</td>\n",
       "    </tr>\n",
       "    <tr>\n",
       "      <th id=\"T_4a429_level0_row12\" class=\"row_heading level0 row12\" >CapsLock</th>\n",
       "      <td id=\"T_4a429_row12_col0\" class=\"data row12 col0\" >12502</td>\n",
       "      <td id=\"T_4a429_row12_col1\" class=\"data row12 col1\" >0.001491</td>\n",
       "    </tr>\n",
       "    <tr>\n",
       "      <th id=\"T_4a429_level0_row13\" class=\"row_heading level0 row13\" >'</th>\n",
       "      <td id=\"T_4a429_row13_col0\" class=\"data row13 col0\" >11144</td>\n",
       "      <td id=\"T_4a429_row13_col1\" class=\"data row13 col1\" >0.001329</td>\n",
       "    </tr>\n",
       "    <tr>\n",
       "      <th id=\"T_4a429_level0_row14\" class=\"row_heading level0 row14\" >Delete</th>\n",
       "      <td id=\"T_4a429_row14_col0\" class=\"data row14 col0\" >10965</td>\n",
       "      <td id=\"T_4a429_row14_col1\" class=\"data row14 col1\" >0.001307</td>\n",
       "    </tr>\n",
       "  </tbody>\n",
       "</table>\n"
      ],
      "text/plain": [
       "<pandas.io.formats.style.Styler at 0x7e6efc1e2470>"
      ]
     },
     "execution_count": 10,
     "metadata": {},
     "output_type": "execute_result"
    }
   ],
   "source": [
    "# - Up event unique count breakdown\n",
    "up_event_keep_df = column_value_count('up_event')\n",
    "up_event_keep_df"
   ]
  },
  {
   "cell_type": "code",
   "execution_count": 11,
   "id": "b417bec4",
   "metadata": {
    "execution": {
     "iopub.execute_input": "2023-12-23T02:35:30.664066Z",
     "iopub.status.busy": "2023-12-23T02:35:30.663754Z",
     "iopub.status.idle": "2023-12-23T02:35:52.663322Z",
     "shell.execute_reply": "2023-12-23T02:35:52.662335Z"
    },
    "papermill": {
     "duration": 22.02281,
     "end_time": "2023-12-23T02:35:52.668640",
     "exception": false,
     "start_time": "2023-12-23T02:35:30.645830",
     "status": "completed"
    },
    "tags": []
   },
   "outputs": [
    {
     "data": {
      "image/png": "[encoded data removed]",
      "text/plain": [
       "<Figure size 1200x1200 with 2 Axes>"
      ]
     },
     "metadata": {},
     "output_type": "display_data"
    }
   ],
   "source": [
    "# - Anything below 0.1% of total inputs will be changed to other\n",
    "'''\n",
    "Function: Updates the up events and down events of the main dataframe.\n",
    "'''\n",
    "def up_down_event(): \n",
    "    new_d_event = train_logs.down_event.map(lambda x: x if x in down_event_keep_df.index else 'Other')\n",
    "    new_u_event = train_logs.up_event.map(lambda x: x if x in up_event_keep_df.index else 'Other')\n",
    "    fig,ax = plt.subplots(1,2, figsize = (12,12))\n",
    "    new_d_event.value_counts().plot(kind = 'pie', ax = ax[0])\n",
    "    new_u_event.value_counts().plot(kind = 'pie', ax = ax[1]);\n",
    "    \n",
    "    # update columns\n",
    "    train_logs.down_event = new_d_event\n",
    "    train_logs.up_event = new_u_event\n",
    "\n",
    "    return train_logs\n",
    "\n",
    "# init up event and down event function\n",
    "train_logs = up_down_event()"
   ]
  },
  {
   "cell_type": "code",
   "execution_count": 12,
   "id": "6af5e71f",
   "metadata": {
    "execution": {
     "iopub.execute_input": "2023-12-23T02:35:52.730985Z",
     "iopub.status.busy": "2023-12-23T02:35:52.730677Z",
     "iopub.status.idle": "2023-12-23T02:36:02.766437Z",
     "shell.execute_reply": "2023-12-23T02:36:02.765384Z"
    },
    "papermill": {
     "duration": 10.062594,
     "end_time": "2023-12-23T02:36:02.768758",
     "exception": false,
     "start_time": "2023-12-23T02:35:52.706164",
     "status": "completed"
    },
    "tags": []
   },
   "outputs": [
    {
     "data": {
      "text/html": [
       "<div>\n",
       "<style scoped>\n",
       "    .dataframe tbody tr th:only-of-type {\n",
       "        vertical-align: middle;\n",
       "    }\n",
       "\n",
       "    .dataframe tbody tr th {\n",
       "        vertical-align: top;\n",
       "    }\n",
       "\n",
       "    .dataframe thead th {\n",
       "        text-align: right;\n",
       "    }\n",
       "</style>\n",
       "<table border=\"1\" class=\"dataframe\">\n",
       "  <thead>\n",
       "    <tr style=\"text-align: right;\">\n",
       "      <th></th>\n",
       "      <th>id</th>\n",
       "      <th>activity</th>\n",
       "      <th>down_event</th>\n",
       "      <th>up_event</th>\n",
       "      <th>text_change</th>\n",
       "    </tr>\n",
       "  </thead>\n",
       "  <tbody>\n",
       "    <tr>\n",
       "      <th>count</th>\n",
       "      <td>8387387</td>\n",
       "      <td>8387387</td>\n",
       "      <td>8387387</td>\n",
       "      <td>8387387</td>\n",
       "      <td>8387387</td>\n",
       "    </tr>\n",
       "    <tr>\n",
       "      <th>unique</th>\n",
       "      <td>2465</td>\n",
       "      <td>50</td>\n",
       "      <td>16</td>\n",
       "      <td>16</td>\n",
       "      <td>8</td>\n",
       "    </tr>\n",
       "    <tr>\n",
       "      <th>top</th>\n",
       "      <td>d3fef198</td>\n",
       "      <td>Input</td>\n",
       "      <td>q</td>\n",
       "      <td>q</td>\n",
       "      <td>q</td>\n",
       "    </tr>\n",
       "    <tr>\n",
       "      <th>freq</th>\n",
       "      <td>12876</td>\n",
       "      <td>6711310</td>\n",
       "      <td>5352915</td>\n",
       "      <td>5352388</td>\n",
       "      <td>6113973</td>\n",
       "    </tr>\n",
       "  </tbody>\n",
       "</table>\n",
       "</div>"
      ],
      "text/plain": [
       "              id activity down_event up_event text_change\n",
       "count    8387387  8387387    8387387  8387387     8387387\n",
       "unique      2465       50         16       16           8\n",
       "top     d3fef198    Input          q        q           q\n",
       "freq       12876  6711310    5352915  5352388     6113973"
      ]
     },
     "execution_count": 12,
     "metadata": {},
     "output_type": "execute_result"
    }
   ],
   "source": [
    "train_logs.describe(include = 'object')"
   ]
  },
  {
   "cell_type": "markdown",
   "id": "1edb1b28",
   "metadata": {
    "execution": {
     "iopub.execute_input": "2023-12-18T21:14:04.936589Z",
     "iopub.status.busy": "2023-12-18T21:14:04.936169Z",
     "iopub.status.idle": "2023-12-18T21:14:04.941691Z",
     "shell.execute_reply": "2023-12-18T21:14:04.940589Z",
     "shell.execute_reply.started": "2023-12-18T21:14:04.936556Z"
    },
    "papermill": {
     "duration": 0.019047,
     "end_time": "2023-12-23T02:36:02.808329",
     "exception": false,
     "start_time": "2023-12-23T02:36:02.789282",
     "status": "completed"
    },
    "tags": []
   },
   "source": [
    "### III.iii Activity column"
   ]
  },
  {
   "cell_type": "code",
   "execution_count": 13,
   "id": "5228ee52",
   "metadata": {
    "execution": {
     "iopub.execute_input": "2023-12-23T02:36:02.845211Z",
     "iopub.status.busy": "2023-12-23T02:36:02.844901Z",
     "iopub.status.idle": "2023-12-23T02:36:14.924171Z",
     "shell.execute_reply": "2023-12-23T02:36:14.923322Z"
    },
    "papermill": {
     "duration": 12.100454,
     "end_time": "2023-12-23T02:36:14.926305",
     "exception": false,
     "start_time": "2023-12-23T02:36:02.825851",
     "status": "completed"
    },
    "tags": []
   },
   "outputs": [
    {
     "data": {
      "image/png": "[encoded data removed]",
      "text/plain": [
       "<Figure size 640x480 with 1 Axes>"
      ]
     },
     "metadata": {},
     "output_type": "display_data"
    }
   ],
   "source": [
    "# - Visualize the unique activity column inputs\n",
    "'''\n",
    "Function: Updating activity column of dataframe.\n",
    "'''\n",
    "def activity_column():\n",
    "    train_logs.activity.value_counts().plot(kind = 'pie');\n",
    "    activity_index = train_logs.activity.value_counts()[:5].index\n",
    "    train_logs.activity = train_logs.activity.apply(lambda x: x if x in activity_index else 'Other')\n",
    "    \n",
    "    return train_logs \n",
    "\n",
    "# init activity column\n",
    "train_logs = activity_column()"
   ]
  },
  {
   "cell_type": "code",
   "execution_count": 14,
   "id": "2c18e564",
   "metadata": {
    "execution": {
     "iopub.execute_input": "2023-12-23T02:36:14.964795Z",
     "iopub.status.busy": "2023-12-23T02:36:14.964486Z",
     "iopub.status.idle": "2023-12-23T02:36:15.411945Z",
     "shell.execute_reply": "2023-12-23T02:36:15.411071Z"
    },
    "papermill": {
     "duration": 0.468802,
     "end_time": "2023-12-23T02:36:15.414022",
     "exception": false,
     "start_time": "2023-12-23T02:36:14.945220",
     "status": "completed"
    },
    "tags": []
   },
   "outputs": [
    {
     "data": {
      "text/html": [
       "<div>\n",
       "<style scoped>\n",
       "    .dataframe tbody tr th:only-of-type {\n",
       "        vertical-align: middle;\n",
       "    }\n",
       "\n",
       "    .dataframe tbody tr th {\n",
       "        vertical-align: top;\n",
       "    }\n",
       "\n",
       "    .dataframe thead th {\n",
       "        text-align: right;\n",
       "    }\n",
       "</style>\n",
       "<table border=\"1\" class=\"dataframe\">\n",
       "  <thead>\n",
       "    <tr style=\"text-align: right;\">\n",
       "      <th></th>\n",
       "      <th>score</th>\n",
       "    </tr>\n",
       "  </thead>\n",
       "  <tbody>\n",
       "    <tr>\n",
       "      <th>count</th>\n",
       "      <td>2471.000</td>\n",
       "    </tr>\n",
       "    <tr>\n",
       "      <th>mean</th>\n",
       "      <td>3.711</td>\n",
       "    </tr>\n",
       "    <tr>\n",
       "      <th>std</th>\n",
       "      <td>1.025</td>\n",
       "    </tr>\n",
       "    <tr>\n",
       "      <th>min</th>\n",
       "      <td>0.500</td>\n",
       "    </tr>\n",
       "    <tr>\n",
       "      <th>25%</th>\n",
       "      <td>3.000</td>\n",
       "    </tr>\n",
       "    <tr>\n",
       "      <th>50%</th>\n",
       "      <td>4.000</td>\n",
       "    </tr>\n",
       "    <tr>\n",
       "      <th>75%</th>\n",
       "      <td>4.500</td>\n",
       "    </tr>\n",
       "    <tr>\n",
       "      <th>max</th>\n",
       "      <td>6.000</td>\n",
       "    </tr>\n",
       "  </tbody>\n",
       "</table>\n",
       "</div>"
      ],
      "text/plain": [
       "         score\n",
       "count 2471.000\n",
       "mean     3.711\n",
       "std      1.025\n",
       "min      0.500\n",
       "25%      3.000\n",
       "50%      4.000\n",
       "75%      4.500\n",
       "max      6.000"
      ]
     },
     "execution_count": 14,
     "metadata": {},
     "output_type": "execute_result"
    },
    {
     "data": {
      "image/png": "[encoded data removed]",
      "text/plain": [
       "<Figure size 640x480 with 2 Axes>"
      ]
     },
     "metadata": {},
     "output_type": "display_data"
    }
   ],
   "source": [
    "# - Statistics on training score\n",
    "fig,ax = plt.subplots(1,2)\n",
    "fig.tight_layout()\n",
    "train_score.score.plot(kind = 'box', ax = ax[0], subplots = True)\n",
    "train_score.score.plot(kind = 'hist', ax = ax[1], subplots = True);\n",
    "train_score.describe()"
   ]
  },
  {
   "cell_type": "markdown",
   "id": "44f00322",
   "metadata": {
    "papermill": {
     "duration": 0.019651,
     "end_time": "2023-12-23T02:36:15.453156",
     "exception": false,
     "start_time": "2023-12-23T02:36:15.433505",
     "status": "completed"
    },
    "tags": []
   },
   "source": [
    "### III.iv Combine scores with main dataset"
   ]
  },
  {
   "cell_type": "code",
   "execution_count": 15,
   "id": "2041e6ef",
   "metadata": {
    "execution": {
     "iopub.execute_input": "2023-12-23T02:36:15.492244Z",
     "iopub.status.busy": "2023-12-23T02:36:15.491746Z",
     "iopub.status.idle": "2023-12-23T02:36:18.201695Z",
     "shell.execute_reply": "2023-12-23T02:36:18.200952Z"
    },
    "papermill": {
     "duration": 2.732006,
     "end_time": "2023-12-23T02:36:18.204090",
     "exception": false,
     "start_time": "2023-12-23T02:36:15.472084",
     "status": "completed"
    },
    "tags": []
   },
   "outputs": [],
   "source": [
    "# - Combine score with id's\n",
    "'''\n",
    "Function: Combines the train_log and train_score dataframes.'''\n",
    "def combine_log_score():\n",
    "    score_dict = train_score.set_index(keys = 'id').to_dict()['score']\n",
    "    train_logs['score'] = train_logs.id.apply(lambda x: score_dict[x]).astype(np.float16)\n",
    "    return train_logs\n",
    "\n",
    "# init combine log score function \n",
    "train_logs = combine_log_score()"
   ]
  },
  {
   "cell_type": "markdown",
   "id": "e03c20a9",
   "metadata": {
    "papermill": {
     "duration": 0.018362,
     "end_time": "2023-12-23T02:36:18.241619",
     "exception": false,
     "start_time": "2023-12-23T02:36:18.223257",
     "status": "completed"
    },
    "tags": []
   },
   "source": [
    "### III.iv Datatype changing -> Save memory space"
   ]
  },
  {
   "cell_type": "code",
   "execution_count": 16,
   "id": "31e87338",
   "metadata": {
    "execution": {
     "iopub.execute_input": "2023-12-23T02:36:18.280012Z",
     "iopub.status.busy": "2023-12-23T02:36:18.279665Z",
     "iopub.status.idle": "2023-12-23T02:36:23.993297Z",
     "shell.execute_reply": "2023-12-23T02:36:23.992503Z"
    },
    "papermill": {
     "duration": 5.735186,
     "end_time": "2023-12-23T02:36:23.995563",
     "exception": false,
     "start_time": "2023-12-23T02:36:18.260377",
     "status": "completed"
    },
    "tags": []
   },
   "outputs": [],
   "source": [
    "# - Save memory, convert int64 dtype to int32\n",
    "for i in train_logs.columns:\n",
    "    if train_logs[i].dtype == np.int64:\n",
    "        train_logs[i] = train_logs[i].astype(np.int32)\n",
    "    elif train_logs[i].dtype == np.float16:\n",
    "        train_logs[i] = train_logs[i].astype('str')\n",
    "    else:\n",
    "        continue"
   ]
  },
  {
   "cell_type": "code",
   "execution_count": 17,
   "id": "4b301980",
   "metadata": {
    "execution": {
     "iopub.execute_input": "2023-12-23T02:36:24.035348Z",
     "iopub.status.busy": "2023-12-23T02:36:24.035030Z",
     "iopub.status.idle": "2023-12-23T02:36:28.476197Z",
     "shell.execute_reply": "2023-12-23T02:36:28.475257Z"
    },
    "papermill": {
     "duration": 4.463205,
     "end_time": "2023-12-23T02:36:28.478347",
     "exception": false,
     "start_time": "2023-12-23T02:36:24.015142",
     "status": "completed"
    },
    "tags": []
   },
   "outputs": [
    {
     "data": {
      "text/plain": [
       "id                 0\n",
       "event_id           0\n",
       "down_time          0\n",
       "up_time            0\n",
       "action_time        0\n",
       "activity           0\n",
       "down_event         0\n",
       "up_event           0\n",
       "text_change        0\n",
       "cursor_position    0\n",
       "word_count         0\n",
       "score              0\n",
       "dtype: int64"
      ]
     },
     "execution_count": 17,
     "metadata": {},
     "output_type": "execute_result"
    }
   ],
   "source": [
    "train_logs.isnull().sum() # no missing values"
   ]
  },
  {
   "cell_type": "code",
   "execution_count": 18,
   "id": "5a9b3f9f",
   "metadata": {
    "execution": {
     "iopub.execute_input": "2023-12-23T02:36:28.518465Z",
     "iopub.status.busy": "2023-12-23T02:36:28.518156Z",
     "iopub.status.idle": "2023-12-23T02:36:28.531079Z",
     "shell.execute_reply": "2023-12-23T02:36:28.530256Z"
    },
    "papermill": {
     "duration": 0.035804,
     "end_time": "2023-12-23T02:36:28.533603",
     "exception": false,
     "start_time": "2023-12-23T02:36:28.497799",
     "status": "completed"
    },
    "tags": []
   },
   "outputs": [
    {
     "name": "stdout",
     "output_type": "stream",
     "text": [
      "<class 'pandas.core.frame.DataFrame'>\n",
      "RangeIndex: 8387387 entries, 0 to 8387386\n",
      "Data columns (total 12 columns):\n",
      " #   Column           Dtype \n",
      "---  ------           ----- \n",
      " 0   id               object\n",
      " 1   event_id         int32 \n",
      " 2   down_time        int32 \n",
      " 3   up_time          int32 \n",
      " 4   action_time      int32 \n",
      " 5   activity         object\n",
      " 6   down_event       object\n",
      " 7   up_event         object\n",
      " 8   text_change      object\n",
      " 9   cursor_position  int32 \n",
      " 10  word_count       int32 \n",
      " 11  score            object\n",
      "dtypes: int32(6), object(6)\n",
      "memory usage: 575.9+ MB\n"
     ]
    }
   ],
   "source": [
    "train_logs.info() # datatypes has been changed"
   ]
  },
  {
   "cell_type": "markdown",
   "id": "09f9e64e",
   "metadata": {
    "execution": {
     "iopub.execute_input": "2023-12-18T20:37:57.480065Z",
     "iopub.status.busy": "2023-12-18T20:37:57.479688Z",
     "iopub.status.idle": "2023-12-18T20:37:57.485305Z",
     "shell.execute_reply": "2023-12-18T20:37:57.483910Z",
     "shell.execute_reply.started": "2023-12-18T20:37:57.480038Z"
    },
    "papermill": {
     "duration": 0.019004,
     "end_time": "2023-12-23T02:36:28.572993",
     "exception": false,
     "start_time": "2023-12-23T02:36:28.553989",
     "status": "completed"
    },
    "tags": []
   },
   "source": [
    "### IV. Feature Selection / Model Development"
   ]
  },
  {
   "cell_type": "code",
   "execution_count": 19,
   "id": "d161c8f6",
   "metadata": {
    "execution": {
     "iopub.execute_input": "2023-12-23T02:36:28.612695Z",
     "iopub.status.busy": "2023-12-23T02:36:28.612035Z",
     "iopub.status.idle": "2023-12-23T02:36:31.868956Z",
     "shell.execute_reply": "2023-12-23T02:36:31.868059Z"
    },
    "papermill": {
     "duration": 3.279474,
     "end_time": "2023-12-23T02:36:31.871604",
     "exception": false,
     "start_time": "2023-12-23T02:36:28.592130",
     "status": "completed"
    },
    "tags": []
   },
   "outputs": [],
   "source": [
    "# - Prepare dataset\n",
    "from sklearn.preprocessing import LabelEncoder\n",
    "\n",
    "X = train_logs.drop(columns = 'score')\n",
    "y = train_logs.score\n",
    "\n",
    "# - Label Encoder\n",
    "le = LabelEncoder()\n",
    "le.fit(y)\n",
    "y = le.transform(y)"
   ]
  },
  {
   "cell_type": "code",
   "execution_count": 20,
   "id": "1f9a9413",
   "metadata": {
    "execution": {
     "iopub.execute_input": "2023-12-23T02:36:31.911304Z",
     "iopub.status.busy": "2023-12-23T02:36:31.911000Z",
     "iopub.status.idle": "2023-12-23T02:36:32.424035Z",
     "shell.execute_reply": "2023-12-23T02:36:32.422981Z"
    },
    "papermill": {
     "duration": 0.535264,
     "end_time": "2023-12-23T02:36:32.426304",
     "exception": false,
     "start_time": "2023-12-23T02:36:31.891040",
     "status": "completed"
    },
    "tags": []
   },
   "outputs": [],
   "source": [
    "try:\n",
    "    del train_logs\n",
    "except:\n",
    "    pass"
   ]
  },
  {
   "cell_type": "code",
   "execution_count": 21,
   "id": "bff40eeb",
   "metadata": {
    "execution": {
     "iopub.execute_input": "2023-12-23T02:36:32.471200Z",
     "iopub.status.busy": "2023-12-23T02:36:32.470827Z",
     "iopub.status.idle": "2023-12-23T02:36:41.524686Z",
     "shell.execute_reply": "2023-12-23T02:36:41.523534Z"
    },
    "papermill": {
     "duration": 9.079148,
     "end_time": "2023-12-23T02:36:41.527365",
     "exception": false,
     "start_time": "2023-12-23T02:36:32.448217",
     "status": "completed"
    },
    "tags": []
   },
   "outputs": [],
   "source": [
    "# - Dummy variables for categorical columns\n",
    "'''\n",
    "Function: Returns the the training with dummy variables.\n",
    "'''\n",
    "def dummy_variables(X):\n",
    "    X_dummies = pd.get_dummies(X.drop(columns = ['id','event_id']), drop_first = True, dtype = int)\n",
    "    X_dummies['id'] = X.id\n",
    "    X_dummies['event_id'] = X.event_id\n",
    "    return X_dummies\n",
    "\n",
    "# init dummy_variables function \n",
    "X_dummies = dummy_variables(X)"
   ]
  },
  {
   "cell_type": "code",
   "execution_count": 22,
   "id": "88c8ea7c",
   "metadata": {
    "execution": {
     "iopub.execute_input": "2023-12-23T02:36:41.572149Z",
     "iopub.status.busy": "2023-12-23T02:36:41.571736Z",
     "iopub.status.idle": "2023-12-23T02:36:41.734281Z",
     "shell.execute_reply": "2023-12-23T02:36:41.733287Z"
    },
    "papermill": {
     "duration": 0.187947,
     "end_time": "2023-12-23T02:36:41.736790",
     "exception": false,
     "start_time": "2023-12-23T02:36:41.548843",
     "status": "completed"
    },
    "tags": []
   },
   "outputs": [],
   "source": [
    "try:\n",
    "    del X\n",
    "except:\n",
    "    pass"
   ]
  },
  {
   "cell_type": "markdown",
   "id": "ab7a6635",
   "metadata": {
    "papermill": {
     "duration": 0.021995,
     "end_time": "2023-12-23T02:36:41.780420",
     "exception": false,
     "start_time": "2023-12-23T02:36:41.758425",
     "status": "completed"
    },
    "tags": []
   },
   "source": [
    "### IV.i Split training dataset"
   ]
  },
  {
   "cell_type": "code",
   "execution_count": 23,
   "id": "dd0ef295",
   "metadata": {
    "execution": {
     "iopub.execute_input": "2023-12-23T02:36:41.825390Z",
     "iopub.status.busy": "2023-12-23T02:36:41.825046Z",
     "iopub.status.idle": "2023-12-23T02:36:48.383993Z",
     "shell.execute_reply": "2023-12-23T02:36:48.383119Z"
    },
    "papermill": {
     "duration": 6.584178,
     "end_time": "2023-12-23T02:36:48.386559",
     "exception": false,
     "start_time": "2023-12-23T02:36:41.802381",
     "status": "completed"
    },
    "tags": []
   },
   "outputs": [],
   "source": [
    "# - Split training set into training and test set\n",
    "from sklearn.model_selection import train_test_split\n",
    "\n",
    "X_train, X_val, y_train, y_val = train_test_split(X_dummies, y, test_size = 0.20, random_state = 42)"
   ]
  },
  {
   "cell_type": "code",
   "execution_count": 24,
   "id": "677fc9d2",
   "metadata": {
    "execution": {
     "iopub.execute_input": "2023-12-23T02:36:48.427747Z",
     "iopub.status.busy": "2023-12-23T02:36:48.427449Z",
     "iopub.status.idle": "2023-12-23T02:36:48.564289Z",
     "shell.execute_reply": "2023-12-23T02:36:48.563449Z"
    },
    "papermill": {
     "duration": 0.158973,
     "end_time": "2023-12-23T02:36:48.566233",
     "exception": false,
     "start_time": "2023-12-23T02:36:48.407260",
     "status": "completed"
    },
    "tags": []
   },
   "outputs": [
    {
     "data": {
      "text/plain": [
       "22579"
      ]
     },
     "execution_count": 24,
     "metadata": {},
     "output_type": "execute_result"
    }
   ],
   "source": [
    "try:\n",
    "    del X_dummies\n",
    "except:\n",
    "    pass\n",
    "\n",
    "try:\n",
    "    del y\n",
    "except:\n",
    "    pass\n",
    "\n",
    "gc.collect()"
   ]
  },
  {
   "cell_type": "markdown",
   "id": "0c2e44f7",
   "metadata": {
    "execution": {
     "iopub.execute_input": "2023-12-18T22:41:37.483187Z",
     "iopub.status.busy": "2023-12-18T22:41:37.481697Z",
     "iopub.status.idle": "2023-12-18T22:41:37.491035Z",
     "shell.execute_reply": "2023-12-18T22:41:37.489452Z",
     "shell.execute_reply.started": "2023-12-18T22:41:37.483101Z"
    },
    "papermill": {
     "duration": 0.018833,
     "end_time": "2023-12-23T02:36:48.604438",
     "exception": false,
     "start_time": "2023-12-23T02:36:48.585605",
     "status": "completed"
    },
    "tags": []
   },
   "source": [
    "### IV.ii Feature selection \n",
    "**Citation for feature selection**: https://www.analyticsvidhya.com/blog/2020/10/feature-selection-techniques-in-machine-learning/"
   ]
  },
  {
   "cell_type": "code",
   "execution_count": 25,
   "id": "2e299a93",
   "metadata": {
    "execution": {
     "iopub.execute_input": "2023-12-23T02:36:48.643819Z",
     "iopub.status.busy": "2023-12-23T02:36:48.643523Z",
     "iopub.status.idle": "2023-12-23T02:36:48.789770Z",
     "shell.execute_reply": "2023-12-23T02:36:48.788894Z"
    },
    "papermill": {
     "duration": 0.168528,
     "end_time": "2023-12-23T02:36:48.791991",
     "exception": false,
     "start_time": "2023-12-23T02:36:48.623463",
     "status": "completed"
    },
    "tags": []
   },
   "outputs": [],
   "source": [
    "# - Feature selection classification\n",
    "from sklearn.feature_selection import SelectKBest, chi2, f_classif\n",
    "\n",
    "def feature_best_selection(statistical_test):\n",
    "    start = time.time()\n",
    "    features = SelectKBest(statistical_test, k = 10) # find optimal k?\n",
    "    best_features = features.fit_transform(X_train.drop(columns = ['id','event_id']),y_train) # do i need to transform this matrix?\n",
    "    \n",
    "    features_dict = {\n",
    "    'feature_names': features.feature_names_in_,\n",
    "    'feature_scores': features.scores_\n",
    "    }\n",
    "\n",
    "    df = pd.DataFrame(data = features_dict)\n",
    "    \n",
    "    # - Visual representation\n",
    "    sorted_features = df.sort_values(by = 'feature_scores', ascending = False, axis = 0)[:10]\n",
    "    fig, ax = plt.subplots(figsize = (6,6))\n",
    "    sns.barplot(x = sorted_features['feature_names'], y = sorted_features['feature_scores'])\n",
    "    plt.xticks(rotation = 90);\n",
    "    end = time.time()\n",
    "    print(f'Process time: {end - start} seconds')"
   ]
  },
  {
   "cell_type": "code",
   "execution_count": 26,
   "id": "e5097115",
   "metadata": {
    "execution": {
     "iopub.execute_input": "2023-12-23T02:36:48.830950Z",
     "iopub.status.busy": "2023-12-23T02:36:48.830635Z",
     "iopub.status.idle": "2023-12-23T02:36:48.834455Z",
     "shell.execute_reply": "2023-12-23T02:36:48.833632Z"
    },
    "papermill": {
     "duration": 0.025351,
     "end_time": "2023-12-23T02:36:48.836337",
     "exception": false,
     "start_time": "2023-12-23T02:36:48.810986",
     "status": "completed"
    },
    "tags": []
   },
   "outputs": [],
   "source": [
    "# feature_best_selection(f_classif)"
   ]
  },
  {
   "cell_type": "code",
   "execution_count": 27,
   "id": "cd951732",
   "metadata": {
    "execution": {
     "iopub.execute_input": "2023-12-23T02:36:48.875325Z",
     "iopub.status.busy": "2023-12-23T02:36:48.875080Z",
     "iopub.status.idle": "2023-12-23T02:36:48.878586Z",
     "shell.execute_reply": "2023-12-23T02:36:48.877789Z"
    },
    "papermill": {
     "duration": 0.025068,
     "end_time": "2023-12-23T02:36:48.880415",
     "exception": false,
     "start_time": "2023-12-23T02:36:48.855347",
     "status": "completed"
    },
    "tags": []
   },
   "outputs": [],
   "source": [
    "# feature_best_selection(chi2)"
   ]
  },
  {
   "cell_type": "markdown",
   "id": "76b6533a",
   "metadata": {
    "papermill": {
     "duration": 0.018775,
     "end_time": "2023-12-23T02:36:48.917978",
     "exception": false,
     "start_time": "2023-12-23T02:36:48.899203",
     "status": "completed"
    },
    "tags": []
   },
   "source": [
    "**Notes:** \n",
    "- Can explore PCA (clustering and explained component variance)\n",
    "- Feature importance\n",
    "- Sequential Feature Selection"
   ]
  },
  {
   "cell_type": "markdown",
   "id": "b5ff1f06",
   "metadata": {
    "execution": {
     "iopub.execute_input": "2023-12-19T01:17:36.596934Z",
     "iopub.status.busy": "2023-12-19T01:17:36.596381Z",
     "iopub.status.idle": "2023-12-19T01:17:39.106459Z",
     "shell.execute_reply": "2023-12-19T01:17:39.105010Z",
     "shell.execute_reply.started": "2023-12-19T01:17:36.596895Z"
    },
    "papermill": {
     "duration": 0.018837,
     "end_time": "2023-12-23T02:36:48.955974",
     "exception": false,
     "start_time": "2023-12-23T02:36:48.937137",
     "status": "completed"
    },
    "tags": []
   },
   "source": [
    "## V. Model Implementation"
   ]
  },
  {
   "cell_type": "code",
   "execution_count": 28,
   "id": "abbaa85f",
   "metadata": {
    "execution": {
     "iopub.execute_input": "2023-12-23T02:36:48.995538Z",
     "iopub.status.busy": "2023-12-23T02:36:48.995263Z",
     "iopub.status.idle": "2023-12-23T02:37:00.772738Z",
     "shell.execute_reply": "2023-12-23T02:37:00.771750Z"
    },
    "papermill": {
     "duration": 11.800209,
     "end_time": "2023-12-23T02:37:00.775205",
     "exception": false,
     "start_time": "2023-12-23T02:36:48.974996",
     "status": "completed"
    },
    "tags": []
   },
   "outputs": [],
   "source": [
    "# - Scale data\n",
    "from sklearn.preprocessing import StandardScaler\n",
    "'''\n",
    "Function: Scale dataset.\n",
    "'''\n",
    "def scale_df(X):\n",
    "    scaler = StandardScaler()\n",
    "    scaler.fit(X.drop(columns = ['id','event_id']))\n",
    "    X_df = pd.DataFrame(data = scaler.transform(X.drop(columns = ['id','event_id'])), columns = X.drop(columns = ['id','event_id']).columns)\n",
    "#     X_df['id'] = X.id.values\n",
    "#     X_df['event_id'] = X.event_id.values\n",
    "    \n",
    "    return X_df\n",
    "\n",
    "# - init scaled dataframes\n",
    "X_train_sc = scale_df(X_train)\n",
    "X_val_sc = scale_df(X_val)"
   ]
  },
  {
   "cell_type": "code",
   "execution_count": 29,
   "id": "ef5705ba",
   "metadata": {
    "execution": {
     "iopub.execute_input": "2023-12-23T02:37:00.816215Z",
     "iopub.status.busy": "2023-12-23T02:37:00.815602Z",
     "iopub.status.idle": "2023-12-23T02:37:00.914945Z",
     "shell.execute_reply": "2023-12-23T02:37:00.914114Z"
    },
    "papermill": {
     "duration": 0.122042,
     "end_time": "2023-12-23T02:37:00.917126",
     "exception": false,
     "start_time": "2023-12-23T02:37:00.795084",
     "status": "completed"
    },
    "tags": []
   },
   "outputs": [
    {
     "data": {
      "text/plain": [
       "0"
      ]
     },
     "execution_count": 29,
     "metadata": {},
     "output_type": "execute_result"
    }
   ],
   "source": [
    "try:\n",
    "    del X_train\n",
    "except:\n",
    "    pass\n",
    "\n",
    "try:\n",
    "    del X_test\n",
    "except:\n",
    "    pass\n",
    "\n",
    "gc.collect()"
   ]
  },
  {
   "cell_type": "code",
   "execution_count": 30,
   "id": "d3506e01",
   "metadata": {
    "execution": {
     "iopub.execute_input": "2023-12-23T02:37:00.957034Z",
     "iopub.status.busy": "2023-12-23T02:37:00.956755Z",
     "iopub.status.idle": "2023-12-23T02:37:04.424221Z",
     "shell.execute_reply": "2023-12-23T02:37:04.423201Z"
    },
    "papermill": {
     "duration": 3.48963,
     "end_time": "2023-12-23T02:37:04.426262",
     "exception": false,
     "start_time": "2023-12-23T02:37:00.936632",
     "status": "completed"
    },
    "tags": []
   },
   "outputs": [
    {
     "data": {
      "text/plain": [
       "'gpu'"
      ]
     },
     "execution_count": 30,
     "metadata": {},
     "output_type": "execute_result"
    }
   ],
   "source": [
    "# - Check for GPU\n",
    "from torch import cuda\n",
    "\n",
    "device = 'gpu' if cuda.is_available() else 'CPU'\n",
    "device"
   ]
  },
  {
   "cell_type": "markdown",
   "id": "77e18535",
   "metadata": {
    "papermill": {
     "duration": 0.021083,
     "end_time": "2023-12-23T02:37:04.467673",
     "exception": false,
     "start_time": "2023-12-23T02:37:04.446590",
     "status": "completed"
    },
    "tags": []
   },
   "source": [
    "### V.i Classification Models\n",
    "\n",
    "**Citation for classification algorithms:** https://medium.com/thrive-in-ai/classification-algorithms-in-python-5f58a7a27b88"
   ]
  },
  {
   "cell_type": "code",
   "execution_count": 31,
   "id": "d13f16a9",
   "metadata": {
    "execution": {
     "iopub.execute_input": "2023-12-23T02:37:04.509590Z",
     "iopub.status.busy": "2023-12-23T02:37:04.509096Z",
     "iopub.status.idle": "2023-12-23T02:37:04.888293Z",
     "shell.execute_reply": "2023-12-23T02:37:04.887362Z"
    },
    "papermill": {
     "duration": 0.402986,
     "end_time": "2023-12-23T02:37:04.890674",
     "exception": false,
     "start_time": "2023-12-23T02:37:04.487688",
     "status": "completed"
    },
    "tags": []
   },
   "outputs": [],
   "source": [
    "# - Creating a robust model classifier model\n",
    "from sklearn.naive_bayes import GaussianNB\n",
    "from sklearn.neighbors import KNeighborsClassifier\n",
    "import xgboost as xgb\n",
    "from catboost import CatBoostClassifier # catboost only works with the T4 GPU's?\n",
    "from sklearn.metrics import accuracy_score, log_loss, roc_auc_score, classification_report, confusion_matrix, ConfusionMatrixDisplay\n",
    "from sklearn.model_selection import cross_val_score\n",
    "\n",
    "# - Validation set\n",
    "split = int(X_train_sc.shape[0] * 0.80) # 80% training and validation set\n",
    "Xtr, Xv = X_train_sc[:split], X_train_sc[split:]\n",
    "ytr, yv = y_train[:split], y_train[split:]\n",
    "\n",
    "def classification_method(train_data = X_train_sc, train_target = y_train, val_data = X_val_sc, val_target = y_val, classifier = None, params = None):\n",
    "    start = time.time()\n",
    "    if classifier != None:\n",
    "        if params != None:\n",
    "            clf = classifier(**params)\n",
    "            if classifier == xgb.XGBClassifier:\n",
    "                clf.fit(X = Xtr, y = ytr, eval_set = [(Xtr,ytr),(Xv,yv)], verbose = 3)\n",
    "            elif classifier == CatBoostClassifier:\n",
    "                clf.fit(X = Xtr, y = ytr, eval_set = (Xv,yv), verbose = 50, early_stopping_rounds = 25)\n",
    "        else:\n",
    "            clf.classifier()\n",
    "            clf.fit(train_data, train_target)\n",
    "    \n",
    "        clf_predict = clf.predict(val_data)\n",
    "\n",
    "        # metrics \n",
    "        acc = accuracy_score(val_target, clf_predict)\n",
    "#         mean_acc = cross_val_score(estimator = clf, X = val_data, y = val_target, cv = 3, n_jobs = -1, verbose = 1, error_score = 'raise').mean()\n",
    "        try:\n",
    "            l_loss = log_loss(val_target, clf_predict)\n",
    "        except:\n",
    "            pass \n",
    "            \n",
    "        print(f'{str(classifier)}')\n",
    "\n",
    "        # confusion matrix\n",
    "        cm = confusion_matrix(val_target, clf_predict, labels = clf.classes_)\n",
    "        disp = ConfusionMatrixDisplay(cm, display_labels = clf.classes_)\n",
    "        disp.plot()\n",
    "        plt.show()\n",
    "        print(classification_report(val_target,clf_predict))\n",
    "        print('\\n','*'*75,'\\n')\n",
    "        print(f'Accuracy: {acc}')\n",
    "        try:\n",
    "            print(f'Cross Validation Score - mean: {mean_acc}')\n",
    "        except:\n",
    "            pass\n",
    "        try:\n",
    "            print(f'Log Loss: {l_loss}')\n",
    "        except:\n",
    "            pass\n",
    "            \n",
    "        end = time.time()\n",
    "        print('\\n','*'*75,f'\\nProcess Time: {end - start}')\n",
    "    \n",
    "    elif classifier == None:\n",
    "        end = time.time()\n",
    "        print('Please input a classifier.',f'\\nProcess time: {end - start} seconds')\n",
    "        \n",
    "    return clf"
   ]
  },
  {
   "cell_type": "code",
   "execution_count": 32,
   "id": "74cc8263",
   "metadata": {
    "execution": {
     "iopub.execute_input": "2023-12-23T02:37:04.931227Z",
     "iopub.status.busy": "2023-12-23T02:37:04.930921Z",
     "iopub.status.idle": "2023-12-23T02:37:04.935059Z",
     "shell.execute_reply": "2023-12-23T02:37:04.934237Z"
    },
    "papermill": {
     "duration": 0.026486,
     "end_time": "2023-12-23T02:37:04.936943",
     "exception": false,
     "start_time": "2023-12-23T02:37:04.910457",
     "status": "completed"
    },
    "tags": []
   },
   "outputs": [],
   "source": [
    "# # - XGBClassifier - w/GPU\n",
    "# params = {\n",
    "#     'verbosity': 3,\n",
    "#     'n_jobs': -1,\n",
    "#     'random_state': 42,\n",
    "#     'device': device,\n",
    "#     'early_stopping_rounds': 25\n",
    "# }\n",
    "\n",
    "# xgb_clf = classification_method(classifier = xgb.XGBClassifier, params = params)"
   ]
  },
  {
   "cell_type": "code",
   "execution_count": 33,
   "id": "30a13763",
   "metadata": {
    "execution": {
     "iopub.execute_input": "2023-12-23T02:37:04.976465Z",
     "iopub.status.busy": "2023-12-23T02:37:04.976218Z",
     "iopub.status.idle": "2023-12-23T02:37:04.979992Z",
     "shell.execute_reply": "2023-12-23T02:37:04.979125Z"
    },
    "papermill": {
     "duration": 0.025534,
     "end_time": "2023-12-23T02:37:04.981810",
     "exception": false,
     "start_time": "2023-12-23T02:37:04.956276",
     "status": "completed"
    },
    "tags": []
   },
   "outputs": [],
   "source": [
    "# # - Catboost - with GPU\n",
    "# params = {\n",
    "#     'random_seed': 42,\n",
    "#     'task_type': 'GPU',\n",
    "#     'verbose': True,\n",
    "#     'allow_writing_files': False\n",
    "# }\n",
    "# cb_clf = classification_method(classifier = CatBoostClassifier, params = params)"
   ]
  },
  {
   "cell_type": "code",
   "execution_count": 34,
   "id": "bf70579c",
   "metadata": {
    "execution": {
     "iopub.execute_input": "2023-12-23T02:37:05.021328Z",
     "iopub.status.busy": "2023-12-23T02:37:05.020878Z",
     "iopub.status.idle": "2023-12-23T02:37:05.025759Z",
     "shell.execute_reply": "2023-12-23T02:37:05.025040Z"
    },
    "papermill": {
     "duration": 0.026681,
     "end_time": "2023-12-23T02:37:05.027583",
     "exception": false,
     "start_time": "2023-12-23T02:37:05.000902",
     "status": "completed"
    },
    "tags": []
   },
   "outputs": [],
   "source": [
    "# classification_model(classifier = KNeighborsClassifier)"
   ]
  },
  {
   "cell_type": "code",
   "execution_count": 35,
   "id": "3a663d5c",
   "metadata": {
    "execution": {
     "iopub.execute_input": "2023-12-23T02:37:05.066838Z",
     "iopub.status.busy": "2023-12-23T02:37:05.066554Z",
     "iopub.status.idle": "2023-12-23T02:37:05.070175Z",
     "shell.execute_reply": "2023-12-23T02:37:05.069353Z"
    },
    "papermill": {
     "duration": 0.025498,
     "end_time": "2023-12-23T02:37:05.072086",
     "exception": false,
     "start_time": "2023-12-23T02:37:05.046588",
     "status": "completed"
    },
    "tags": []
   },
   "outputs": [],
   "source": [
    "# classification_model(classifier = GaussianNB)"
   ]
  },
  {
   "cell_type": "markdown",
   "id": "2313d64b",
   "metadata": {
    "papermill": {
     "duration": 0.019001,
     "end_time": "2023-12-23T02:37:05.110223",
     "exception": false,
     "start_time": "2023-12-23T02:37:05.091222",
     "status": "completed"
    },
    "tags": []
   },
   "source": [
    "### V.ii Artificial Neural Network"
   ]
  },
  {
   "cell_type": "code",
   "execution_count": 36,
   "id": "20b57775",
   "metadata": {
    "execution": {
     "iopub.execute_input": "2023-12-23T02:37:05.149615Z",
     "iopub.status.busy": "2023-12-23T02:37:05.149370Z",
     "iopub.status.idle": "2023-12-23T02:37:05.154884Z",
     "shell.execute_reply": "2023-12-23T02:37:05.153982Z"
    },
    "papermill": {
     "duration": 0.027272,
     "end_time": "2023-12-23T02:37:05.156751",
     "exception": false,
     "start_time": "2023-12-23T02:37:05.129479",
     "status": "completed"
    },
    "tags": []
   },
   "outputs": [
    {
     "data": {
      "text/plain": [
       "'\\nTraining Data: \\nX_train_sc \\ny_train\\n\\nValidation Data:\\nX_val_sc\\ny_val\\n\\nValidation Training Evaluation Set:\\nXtr\\nytr\\n\\nValidation Test Evaluation Set:\\nXv\\nyv\\n'"
      ]
     },
     "execution_count": 36,
     "metadata": {},
     "output_type": "execute_result"
    }
   ],
   "source": [
    "# - Datasets \n",
    "'''\n",
    "Training Data: \n",
    "X_train_sc \n",
    "y_train\n",
    "\n",
    "Validation Data:\n",
    "X_val_sc\n",
    "y_val\n",
    "\n",
    "Validation Training Evaluation Set:\n",
    "Xtr\n",
    "ytr\n",
    "\n",
    "Validation Test Evaluation Set:\n",
    "Xv\n",
    "yv\n",
    "'''"
   ]
  },
  {
   "cell_type": "code",
   "execution_count": 37,
   "id": "2ae3de8b",
   "metadata": {
    "execution": {
     "iopub.execute_input": "2023-12-23T02:37:05.196714Z",
     "iopub.status.busy": "2023-12-23T02:37:05.196474Z",
     "iopub.status.idle": "2023-12-23T02:37:22.156374Z",
     "shell.execute_reply": "2023-12-23T02:37:22.155556Z"
    },
    "papermill": {
     "duration": 16.982707,
     "end_time": "2023-12-23T02:37:22.158696",
     "exception": false,
     "start_time": "2023-12-23T02:37:05.175989",
     "status": "completed"
    },
    "tags": []
   },
   "outputs": [],
   "source": [
    "# - Tensorflow \n",
    "import tensorflow as tf \n",
    "from tensorflow.keras import metrics\n",
    "tf.config.list_physical_devices()\n",
    "\n",
    "callback = tf.keras.callbacks.EarlyStopping(monitor = 'val_loss', patience = 10)\n",
    "input_shape = X_train_sc.shape[1]\n",
    "output_shape = len(np.unique(y_train))\n",
    "opt = tf.keras.optimizers.Adam(learning_rate = 0.0015)\n",
    "loss = tf.keras.losses.SparseCategoricalCrossentropy()\n",
    "epochs = 225\n",
    "batch_size = 5000\n",
    "\n",
    "def nn_model(input_shape = input_shape, output_shape = output_shape, optimizer_func = opt, loss_func = loss, epochs = epochs, batch_size = batch_size):\n",
    "\n",
    "    tf.random.set_seed(42)\n",
    "\n",
    "    # - model input\n",
    "    model_input = tf.keras.Input(shape = (input_shape), name = 'input_layer')\n",
    "        \n",
    "    #- hidden layer\n",
    "    dense1 = tf.keras.layers.Dense(units = 128, activation = 'relu', name = 'dense_layer_1')(model_input)\n",
    "    drop_out1 = tf.keras.layers.Dropout(rate = 0.2, seed = 42, name = 'dropout_layer_1')(dense1)\n",
    "    dense2 = tf.keras.layers.Dense(units = 256, activation = 'relu', name = 'dense_layer_2')(drop_out1)\n",
    "    drop_out2 = tf.keras.layers.Dropout(rate = 0.2, seed = 42, name = 'dropout_layer_2')(dense2)\n",
    "    dense3 = tf.keras.layers.Dense(units = 512, activation = 'relu', name = 'dense_layer_3')(drop_out2)\n",
    "    drop_out3 = tf.keras.layers.Dropout(rate = 0.2, seed = 42, name = 'dropout_layer_3')(dense3)\n",
    "    dense4 = tf.keras.layers.Dense(units = 256, activation = 'relu', name = 'dense_layer_4')(drop_out3)\n",
    "    drop_out4 = tf.keras.layers.Dropout(rate = 0.2, seed = 42, name = 'dropout_layer4')(dense4)\n",
    "    dense5 = tf.keras.layers.Dense(units = 128, activation = 'relu', name = 'dense_layer_5')(drop_out4)\n",
    "\n",
    "#     # - hidden layer\n",
    "#     dense1 = tf.keras.layers.Dense(64, 'relu')(model_input)\n",
    "#     dense2 = tf.keras.layers.Dense(128, 'relu')(dense1)\n",
    "#     dense3 = tf.keras.layers.Dense(64, 'relu')(dense2)\n",
    "\n",
    "    # - output layer\n",
    "    output_layer = tf.keras.layers.Dense(output_shape, 'softmax', name = 'output_layer')(dense5)\n",
    "\n",
    "    model = tf.keras.Model(inputs = model_input, outputs = output_layer,name = 'model')\n",
    "\n",
    "    model.compile(optimizer = optimizer_func, loss = loss_func, metrics = ['accuracy'])\n",
    "\n",
    "    history = model.fit(x = X_train_sc, y = y_train, epochs = epochs, batch_size = batch_size, validation_split = 0.2, callbacks = callback)\n",
    "    \n",
    "    fig, ax = plt.subplots(1,2)\n",
    "    \n",
    "    # - crossentropy loss\n",
    "    sns.lineplot(x = range(len(history.history['loss'])), y = history.history['loss'], ax = ax[0], label = 'training')\n",
    "    sns.lineplot(x = range(len(history.history['val_loss'])), y = history.history['val_loss'], ax = ax[0], label = 'validation')\n",
    "    ax[0].set_title('Crossentropy Loss')\n",
    "    \n",
    "    # - accuracy\n",
    "    sns.lineplot(x = range(len(history.history['accuracy'])), y = history.history['accuracy'], ax = ax[1], label = 'training')\n",
    "    sns.lineplot(x = range(len(history.history['val_accuracy'])), y = history.history['val_accuracy'], ax = ax[1], label = 'validation')\n",
    "    ax[0].set_title('Accuracy')\n",
    "    \n",
    "    plt.show()\n",
    "    \n",
    "    loss_eval, acc_eval = model.evaluate(X_val_sc, y_val, batch_size = batch_size)\n",
    "    print(f'Final loss value: {loss_eval}\\nFinal accuracy: {acc_eval}')\n",
    "    \n",
    "    return model\n",
    "\n",
    "# lr = 0.0015, batch_size = 2500 acc = 0.377 percent"
   ]
  },
  {
   "cell_type": "code",
   "execution_count": 38,
   "id": "947e90c0",
   "metadata": {
    "execution": {
     "iopub.execute_input": "2023-12-23T02:37:22.199316Z",
     "iopub.status.busy": "2023-12-23T02:37:22.198735Z",
     "iopub.status.idle": "2023-12-23T02:46:53.819045Z",
     "shell.execute_reply": "2023-12-23T02:46:53.818103Z"
    },
    "papermill": {
     "duration": 571.642358,
     "end_time": "2023-12-23T02:46:53.820977",
     "exception": false,
     "start_time": "2023-12-23T02:37:22.178619",
     "status": "completed"
    },
    "tags": []
   },
   "outputs": [
    {
     "name": "stdout",
     "output_type": "stream",
     "text": [
      "Epoch 1/225\n",
      "1074/1074 [==============================] - 15s 8ms/step - loss: 1.8870 - accuracy: 0.2716 - val_loss: 1.8234 - val_accuracy: 0.2944\n",
      "Epoch 2/225\n",
      "1074/1074 [==============================] - 7s 7ms/step - loss: 1.8237 - accuracy: 0.2929 - val_loss: 1.7725 - val_accuracy: 0.3121\n",
      "Epoch 3/225\n",
      "1074/1074 [==============================] - 7s 7ms/step - loss: 1.7909 - accuracy: 0.3053 - val_loss: 1.7311 - val_accuracy: 0.3302\n",
      "Epoch 4/225\n",
      "1074/1074 [==============================] - 7s 7ms/step - loss: 1.7674 - accuracy: 0.3143 - val_loss: 1.7037 - val_accuracy: 0.3401\n",
      "Epoch 5/225\n",
      "1074/1074 [==============================] - 7s 7ms/step - loss: 1.7498 - accuracy: 0.3207 - val_loss: 1.6800 - val_accuracy: 0.3504\n",
      "Epoch 6/225\n",
      "1074/1074 [==============================] - 7s 7ms/step - loss: 1.7369 - accuracy: 0.3256 - val_loss: 1.6600 - val_accuracy: 0.3562\n",
      "Epoch 7/225\n",
      "1074/1074 [==============================] - 7s 7ms/step - loss: 1.7262 - accuracy: 0.3293 - val_loss: 1.6483 - val_accuracy: 0.3624\n",
      "Epoch 8/225\n",
      "1074/1074 [==============================] - 7s 7ms/step - loss: 1.7174 - accuracy: 0.3327 - val_loss: 1.6338 - val_accuracy: 0.3677\n",
      "Epoch 9/225\n",
      "1074/1074 [==============================] - 7s 7ms/step - loss: 1.7101 - accuracy: 0.3353 - val_loss: 1.6237 - val_accuracy: 0.3717\n",
      "Epoch 10/225\n",
      "1074/1074 [==============================] - 7s 7ms/step - loss: 1.7038 - accuracy: 0.3380 - val_loss: 1.6151 - val_accuracy: 0.3752\n",
      "Epoch 11/225\n",
      "1074/1074 [==============================] - 7s 7ms/step - loss: 1.6977 - accuracy: 0.3402 - val_loss: 1.6110 - val_accuracy: 0.3767\n",
      "Epoch 12/225\n",
      "1074/1074 [==============================] - 7s 7ms/step - loss: 1.6926 - accuracy: 0.3419 - val_loss: 1.6033 - val_accuracy: 0.3796\n",
      "Epoch 13/225\n",
      "1074/1074 [==============================] - 7s 7ms/step - loss: 1.6881 - accuracy: 0.3436 - val_loss: 1.5944 - val_accuracy: 0.3827\n",
      "Epoch 14/225\n",
      "1074/1074 [==============================] - 7s 7ms/step - loss: 1.6842 - accuracy: 0.3450 - val_loss: 1.5884 - val_accuracy: 0.3861\n",
      "Epoch 15/225\n",
      "1074/1074 [==============================] - 7s 7ms/step - loss: 1.6805 - accuracy: 0.3466 - val_loss: 1.5863 - val_accuracy: 0.3866\n",
      "Epoch 16/225\n",
      "1074/1074 [==============================] - 7s 7ms/step - loss: 1.6768 - accuracy: 0.3478 - val_loss: 1.5793 - val_accuracy: 0.3893\n",
      "Epoch 17/225\n",
      "1074/1074 [==============================] - 7s 7ms/step - loss: 1.6736 - accuracy: 0.3490 - val_loss: 1.5740 - val_accuracy: 0.3902\n",
      "Epoch 18/225\n",
      "1074/1074 [==============================] - 7s 7ms/step - loss: 1.6707 - accuracy: 0.3500 - val_loss: 1.5707 - val_accuracy: 0.3927\n",
      "Epoch 19/225\n",
      "1074/1074 [==============================] - 7s 7ms/step - loss: 1.6682 - accuracy: 0.3511 - val_loss: 1.5689 - val_accuracy: 0.3915\n",
      "Epoch 20/225\n",
      "1074/1074 [==============================] - 7s 7ms/step - loss: 1.6655 - accuracy: 0.3522 - val_loss: 1.5656 - val_accuracy: 0.3950\n",
      "Epoch 21/225\n",
      "1074/1074 [==============================] - 7s 7ms/step - loss: 1.6630 - accuracy: 0.3530 - val_loss: 1.5554 - val_accuracy: 0.3988\n",
      "Epoch 22/225\n",
      "1074/1074 [==============================] - 7s 7ms/step - loss: 1.6610 - accuracy: 0.3537 - val_loss: 1.5574 - val_accuracy: 0.3983\n",
      "Epoch 23/225\n",
      "1074/1074 [==============================] - 7s 7ms/step - loss: 1.6587 - accuracy: 0.3549 - val_loss: 1.5615 - val_accuracy: 0.3962\n",
      "Epoch 24/225\n",
      "1074/1074 [==============================] - 7s 7ms/step - loss: 1.6565 - accuracy: 0.3557 - val_loss: 1.5521 - val_accuracy: 0.4005\n",
      "Epoch 25/225\n",
      "1074/1074 [==============================] - 7s 7ms/step - loss: 1.6545 - accuracy: 0.3563 - val_loss: 1.5506 - val_accuracy: 0.4000\n",
      "Epoch 26/225\n",
      "1074/1074 [==============================] - 7s 7ms/step - loss: 1.6527 - accuracy: 0.3569 - val_loss: 1.5513 - val_accuracy: 0.3997\n",
      "Epoch 27/225\n",
      "1074/1074 [==============================] - 7s 7ms/step - loss: 1.6508 - accuracy: 0.3579 - val_loss: 1.5477 - val_accuracy: 0.4003\n",
      "Epoch 28/225\n",
      "1074/1074 [==============================] - 7s 7ms/step - loss: 1.6493 - accuracy: 0.3584 - val_loss: 1.5462 - val_accuracy: 0.4011\n",
      "Epoch 29/225\n",
      "1074/1074 [==============================] - 7s 7ms/step - loss: 1.6478 - accuracy: 0.3592 - val_loss: 1.5398 - val_accuracy: 0.4053\n",
      "Epoch 30/225\n",
      "1074/1074 [==============================] - 7s 7ms/step - loss: 1.6459 - accuracy: 0.3598 - val_loss: 1.5399 - val_accuracy: 0.4029\n",
      "Epoch 31/225\n",
      "1074/1074 [==============================] - 7s 7ms/step - loss: 1.6450 - accuracy: 0.3600 - val_loss: 1.5399 - val_accuracy: 0.4045\n",
      "Epoch 32/225\n",
      "1074/1074 [==============================] - 7s 7ms/step - loss: 1.6432 - accuracy: 0.3609 - val_loss: 1.5395 - val_accuracy: 0.4047\n",
      "Epoch 33/225\n",
      "1074/1074 [==============================] - 7s 7ms/step - loss: 1.6423 - accuracy: 0.3611 - val_loss: 1.5336 - val_accuracy: 0.4074\n",
      "Epoch 34/225\n",
      "1074/1074 [==============================] - 7s 7ms/step - loss: 1.6408 - accuracy: 0.3616 - val_loss: 1.5381 - val_accuracy: 0.4050\n",
      "Epoch 35/225\n",
      "1074/1074 [==============================] - 7s 7ms/step - loss: 1.6395 - accuracy: 0.3618 - val_loss: 1.5359 - val_accuracy: 0.4062\n",
      "Epoch 36/225\n",
      "1074/1074 [==============================] - 7s 7ms/step - loss: 1.6382 - accuracy: 0.3629 - val_loss: 1.5333 - val_accuracy: 0.4074\n",
      "Epoch 37/225\n",
      "1074/1074 [==============================] - 7s 7ms/step - loss: 1.6366 - accuracy: 0.3635 - val_loss: 1.5283 - val_accuracy: 0.4102\n",
      "Epoch 38/225\n",
      "1074/1074 [==============================] - 7s 7ms/step - loss: 1.6356 - accuracy: 0.3639 - val_loss: 1.5281 - val_accuracy: 0.4093\n",
      "Epoch 39/225\n",
      "1074/1074 [==============================] - 7s 7ms/step - loss: 1.6346 - accuracy: 0.3641 - val_loss: 1.5296 - val_accuracy: 0.4088\n",
      "Epoch 40/225\n",
      "1074/1074 [==============================] - 7s 7ms/step - loss: 1.6338 - accuracy: 0.3644 - val_loss: 1.5278 - val_accuracy: 0.4086\n",
      "Epoch 41/225\n",
      "1074/1074 [==============================] - 7s 7ms/step - loss: 1.6320 - accuracy: 0.3651 - val_loss: 1.5332 - val_accuracy: 0.4059\n",
      "Epoch 42/225\n",
      "1074/1074 [==============================] - 7s 7ms/step - loss: 1.6315 - accuracy: 0.3654 - val_loss: 1.5309 - val_accuracy: 0.4085\n",
      "Epoch 43/225\n",
      "1074/1074 [==============================] - 7s 7ms/step - loss: 1.6309 - accuracy: 0.3653 - val_loss: 1.5229 - val_accuracy: 0.4129\n",
      "Epoch 44/225\n",
      "1074/1074 [==============================] - 7s 7ms/step - loss: 1.6292 - accuracy: 0.3663 - val_loss: 1.5232 - val_accuracy: 0.4110\n",
      "Epoch 45/225\n",
      "1074/1074 [==============================] - 7s 7ms/step - loss: 1.6291 - accuracy: 0.3664 - val_loss: 1.5250 - val_accuracy: 0.4105\n",
      "Epoch 46/225\n",
      "1074/1074 [==============================] - 7s 7ms/step - loss: 1.6279 - accuracy: 0.3668 - val_loss: 1.5252 - val_accuracy: 0.4104\n",
      "Epoch 47/225\n",
      "1074/1074 [==============================] - 7s 7ms/step - loss: 1.6274 - accuracy: 0.3668 - val_loss: 1.5248 - val_accuracy: 0.4105\n",
      "Epoch 48/225\n",
      "1074/1074 [==============================] - 7s 7ms/step - loss: 1.6258 - accuracy: 0.3677 - val_loss: 1.5163 - val_accuracy: 0.4146\n",
      "Epoch 49/225\n",
      "1074/1074 [==============================] - 7s 7ms/step - loss: 1.6253 - accuracy: 0.3677 - val_loss: 1.5176 - val_accuracy: 0.4122\n",
      "Epoch 50/225\n",
      "1074/1074 [==============================] - 7s 7ms/step - loss: 1.6241 - accuracy: 0.3681 - val_loss: 1.5167 - val_accuracy: 0.4134\n",
      "Epoch 51/225\n",
      "1074/1074 [==============================] - 7s 7ms/step - loss: 1.6242 - accuracy: 0.3684 - val_loss: 1.5262 - val_accuracy: 0.4098\n",
      "Epoch 52/225\n",
      "1074/1074 [==============================] - 7s 7ms/step - loss: 1.6226 - accuracy: 0.3689 - val_loss: 1.5158 - val_accuracy: 0.4147\n",
      "Epoch 53/225\n",
      "1074/1074 [==============================] - 7s 7ms/step - loss: 1.6217 - accuracy: 0.3694 - val_loss: 1.5187 - val_accuracy: 0.4111\n",
      "Epoch 54/225\n",
      "1074/1074 [==============================] - 7s 7ms/step - loss: 1.6209 - accuracy: 0.3697 - val_loss: 1.5170 - val_accuracy: 0.4131\n",
      "Epoch 55/225\n",
      "1074/1074 [==============================] - 7s 7ms/step - loss: 1.6203 - accuracy: 0.3697 - val_loss: 1.5202 - val_accuracy: 0.4119\n",
      "Epoch 56/225\n",
      "1074/1074 [==============================] - 7s 7ms/step - loss: 1.6196 - accuracy: 0.3703 - val_loss: 1.5142 - val_accuracy: 0.4146\n",
      "Epoch 57/225\n",
      "1074/1074 [==============================] - 7s 7ms/step - loss: 1.6189 - accuracy: 0.3703 - val_loss: 1.5111 - val_accuracy: 0.4156\n",
      "Epoch 58/225\n",
      "1074/1074 [==============================] - 7s 7ms/step - loss: 1.6181 - accuracy: 0.3706 - val_loss: 1.5146 - val_accuracy: 0.4138\n",
      "Epoch 59/225\n",
      "1074/1074 [==============================] - 7s 7ms/step - loss: 1.6174 - accuracy: 0.3708 - val_loss: 1.5118 - val_accuracy: 0.4147\n",
      "Epoch 60/225\n",
      "1074/1074 [==============================] - 7s 7ms/step - loss: 1.6170 - accuracy: 0.3713 - val_loss: 1.5132 - val_accuracy: 0.4143\n",
      "Epoch 61/225\n",
      "1074/1074 [==============================] - 7s 7ms/step - loss: 1.6165 - accuracy: 0.3712 - val_loss: 1.5158 - val_accuracy: 0.4148\n",
      "Epoch 62/225\n",
      "1074/1074 [==============================] - 7s 7ms/step - loss: 1.6155 - accuracy: 0.3718 - val_loss: 1.5058 - val_accuracy: 0.4169\n",
      "Epoch 63/225\n",
      "1074/1074 [==============================] - 7s 7ms/step - loss: 1.6152 - accuracy: 0.3717 - val_loss: 1.5078 - val_accuracy: 0.4172\n",
      "Epoch 64/225\n",
      "1074/1074 [==============================] - 7s 7ms/step - loss: 1.6144 - accuracy: 0.3721 - val_loss: 1.5072 - val_accuracy: 0.4169\n",
      "Epoch 65/225\n",
      "1074/1074 [==============================] - 7s 7ms/step - loss: 1.6136 - accuracy: 0.3724 - val_loss: 1.5206 - val_accuracy: 0.4102\n",
      "Epoch 66/225\n",
      "1074/1074 [==============================] - 7s 7ms/step - loss: 1.6133 - accuracy: 0.3727 - val_loss: 1.5065 - val_accuracy: 0.4184\n",
      "Epoch 67/225\n",
      "1074/1074 [==============================] - 7s 7ms/step - loss: 1.6133 - accuracy: 0.3725 - val_loss: 1.5140 - val_accuracy: 0.4136\n",
      "Epoch 68/225\n",
      "1074/1074 [==============================] - 7s 7ms/step - loss: 1.6122 - accuracy: 0.3730 - val_loss: 1.5020 - val_accuracy: 0.4200\n",
      "Epoch 69/225\n",
      "1074/1074 [==============================] - 7s 7ms/step - loss: 1.6119 - accuracy: 0.3731 - val_loss: 1.5071 - val_accuracy: 0.4164\n",
      "Epoch 70/225\n",
      "1074/1074 [==============================] - 7s 7ms/step - loss: 1.6114 - accuracy: 0.3735 - val_loss: 1.5044 - val_accuracy: 0.4184\n",
      "Epoch 71/225\n",
      "1074/1074 [==============================] - 7s 7ms/step - loss: 1.6108 - accuracy: 0.3734 - val_loss: 1.5092 - val_accuracy: 0.4156\n",
      "Epoch 72/225\n",
      "1074/1074 [==============================] - 7s 7ms/step - loss: 1.6105 - accuracy: 0.3739 - val_loss: 1.5062 - val_accuracy: 0.4182\n",
      "Epoch 73/225\n",
      "1074/1074 [==============================] - 7s 7ms/step - loss: 1.6102 - accuracy: 0.3737 - val_loss: 1.5088 - val_accuracy: 0.4169\n",
      "Epoch 74/225\n",
      "1074/1074 [==============================] - 7s 7ms/step - loss: 1.6085 - accuracy: 0.3745 - val_loss: 1.5069 - val_accuracy: 0.4161\n",
      "Epoch 75/225\n",
      "1074/1074 [==============================] - 7s 7ms/step - loss: 1.6092 - accuracy: 0.3744 - val_loss: 1.5069 - val_accuracy: 0.4179\n",
      "Epoch 76/225\n",
      "1074/1074 [==============================] - 7s 7ms/step - loss: 1.6089 - accuracy: 0.3745 - val_loss: 1.5075 - val_accuracy: 0.4174\n",
      "Epoch 77/225\n",
      "1074/1074 [==============================] - 7s 7ms/step - loss: 1.6082 - accuracy: 0.3746 - val_loss: 1.5064 - val_accuracy: 0.4181\n",
      "Epoch 78/225\n",
      "1074/1074 [==============================] - 7s 7ms/step - loss: 1.6072 - accuracy: 0.3752 - val_loss: 1.5041 - val_accuracy: 0.4184\n"
     ]
    },
    {
     "data": {
      "image/png": "[encoded data removed]",
      "text/plain": [
       "<Figure size 640x480 with 2 Axes>"
      ]
     },
     "metadata": {},
     "output_type": "display_data"
    },
    {
     "name": "stdout",
     "output_type": "stream",
     "text": [
      "336/336 [==============================] - 1s 3ms/step - loss: 1.6532 - accuracy: 0.3765\n",
      "Final loss value: 1.6531728506088257\n",
      "Final accuracy: 0.37648898363113403\n"
     ]
    }
   ],
   "source": [
    "model = nn_model()"
   ]
  },
  {
   "cell_type": "code",
   "execution_count": 39,
   "id": "c18cc87a",
   "metadata": {
    "execution": {
     "iopub.execute_input": "2023-12-23T02:46:55.417687Z",
     "iopub.status.busy": "2023-12-23T02:46:55.417316Z",
     "iopub.status.idle": "2023-12-23T02:46:55.863261Z",
     "shell.execute_reply": "2023-12-23T02:46:55.862268Z"
    },
    "papermill": {
     "duration": 1.249087,
     "end_time": "2023-12-23T02:46:55.865550",
     "exception": false,
     "start_time": "2023-12-23T02:46:54.616463",
     "status": "completed"
    },
    "tags": []
   },
   "outputs": [
    {
     "data": {
      "text/plain": [
       "2849"
      ]
     },
     "execution_count": 39,
     "metadata": {},
     "output_type": "execute_result"
    }
   ],
   "source": [
    "gc.collect()"
   ]
  },
  {
   "cell_type": "markdown",
   "id": "1d952766",
   "metadata": {
    "papermill": {
     "duration": 0.81042,
     "end_time": "2023-12-23T02:46:57.549558",
     "exception": false,
     "start_time": "2023-12-23T02:46:56.739138",
     "status": "completed"
    },
    "tags": []
   },
   "source": [
    "**Note:** Class Imabalance may be effecting classification..."
   ]
  },
  {
   "cell_type": "code",
   "execution_count": 40,
   "id": "059937dc",
   "metadata": {
    "execution": {
     "iopub.execute_input": "2023-12-23T02:46:59.188253Z",
     "iopub.status.busy": "2023-12-23T02:46:59.187868Z",
     "iopub.status.idle": "2023-12-23T02:46:59.200827Z",
     "shell.execute_reply": "2023-12-23T02:46:59.199984Z"
    },
    "papermill": {
     "duration": 0.806853,
     "end_time": "2023-12-23T02:46:59.202955",
     "exception": false,
     "start_time": "2023-12-23T02:46:58.396102",
     "status": "completed"
    },
    "tags": []
   },
   "outputs": [],
   "source": [
    "def model2():\n",
    "    \n",
    "    epoch = 100\n",
    "    \n",
    "    tf.random.set_seed(42)\n",
    "    model_input = tf.keras.Input(shape = (X_train_sc.shape[1],))\n",
    "    dense1 = tf.keras.layers.Dense(512, 'relu')(model_input)\n",
    "    dense2 = tf.keras.layers.Dense(512, 'relu')(dense1)\n",
    "    dense3 = tf.keras.layers.Dense(512, 'relu')(dense2)\n",
    "    output_layer = tf.keras.layers.Dense(len(np.unique(y_train)), 'softmax')(dense3)\n",
    "    \n",
    "    model = tf.keras.Model(inputs = model_input, outputs = output_layer)\n",
    "    \n",
    "    model.compile(optimizer = tf.keras.optimizers.Adam(learning_rate = 0.005), loss = 'sparse_categorical_crossentropy', metrics = ['accuracy'])\n",
    "    model.summary()\n",
    "    \n",
    "    history = model.fit( X_train_sc,y_train, batch_size = 10000, epochs = epoch, validation_split = 0.2, callbacks = callback)\n",
    "                                         \n",
    "    loss, acc = model.evaluate(X_val_sc, y_val, batch_size = 10000)\n",
    "                     \n",
    "    fig,ax = plt.subplots()\n",
    "    ax.plot(range(len(history.history['loss'])), history.history['loss'], color = 'blue', label = 'validation')\n",
    "    ax.plot(range(len(history.history['val_loss'])), history.history['val_loss'], color = 'red', marker = '*', label = 'validation')\n",
    "    ax.set_xlabel('Epochs')\n",
    "    ax.set_ylabel('Loss')\n",
    "    \n",
    "    ax2 = ax.twinx()\n",
    "    ax2.plot(range(len(history.history['accuracy'])), history.history['accuracy'], color = 'blue', label = 'training')\n",
    "    ax2.plot(range(len(history.history['val_accuracy'])), history.history['val_accuracy'], color = 'red', marker = '*', label = 'validation')\n",
    "    ax2.set_ylabel('Accuracy')\n",
    "    \n",
    "    ax.legend(loc = 'upper center')\n",
    "    ax2.legend(loc = 'upper center')\n",
    "    \n",
    "    return loss, acc"
   ]
  },
  {
   "cell_type": "code",
   "execution_count": 41,
   "id": "64d5fd66",
   "metadata": {
    "execution": {
     "iopub.execute_input": "2023-12-23T02:47:00.844603Z",
     "iopub.status.busy": "2023-12-23T02:47:00.844250Z",
     "iopub.status.idle": "2023-12-23T02:47:00.848250Z",
     "shell.execute_reply": "2023-12-23T02:47:00.847462Z"
    },
    "papermill": {
     "duration": 0.849893,
     "end_time": "2023-12-23T02:47:00.850042",
     "exception": false,
     "start_time": "2023-12-23T02:47:00.000149",
     "status": "completed"
    },
    "tags": []
   },
   "outputs": [],
   "source": [
    "# model2()"
   ]
  },
  {
   "cell_type": "code",
   "execution_count": 42,
   "id": "0065ea39",
   "metadata": {
    "execution": {
     "iopub.execute_input": "2023-12-23T02:47:02.445881Z",
     "iopub.status.busy": "2023-12-23T02:47:02.445214Z",
     "iopub.status.idle": "2023-12-23T02:47:02.709257Z",
     "shell.execute_reply": "2023-12-23T02:47:02.708336Z"
    },
    "papermill": {
     "duration": 1.068109,
     "end_time": "2023-12-23T02:47:02.711280",
     "exception": false,
     "start_time": "2023-12-23T02:47:01.643171",
     "status": "completed"
    },
    "tags": []
   },
   "outputs": [
    {
     "data": {
      "text/plain": [
       "7796"
      ]
     },
     "execution_count": 42,
     "metadata": {},
     "output_type": "execute_result"
    }
   ],
   "source": [
    "gc.collect()"
   ]
  },
  {
   "cell_type": "code",
   "execution_count": 43,
   "id": "9ef39fad",
   "metadata": {
    "execution": {
     "iopub.execute_input": "2023-12-23T02:47:04.371555Z",
     "iopub.status.busy": "2023-12-23T02:47:04.370809Z",
     "iopub.status.idle": "2023-12-23T02:47:04.376585Z",
     "shell.execute_reply": "2023-12-23T02:47:04.375712Z"
    },
    "papermill": {
     "duration": 0.824688,
     "end_time": "2023-12-23T02:47:04.378454",
     "exception": false,
     "start_time": "2023-12-23T02:47:03.553766",
     "status": "completed"
    },
    "tags": []
   },
   "outputs": [],
   "source": [
    "# ### V.iii. Neural Network Hypertuning\n",
    "# import tensorflow as tf\n",
    "# from tensorflow import keras\n",
    "# import keras_tuner as kt\n",
    "\n",
    "# def model_builder(hp):\n",
    "#     model = keras.Sequential()\n",
    "#     hp_unit = hp.Int('units', min_value = 64, max_value = 1028, step = 64)\n",
    "    \n",
    "#     # - hidden layers\n",
    "#     model.add(keras.layers.Dense(units = hp_unit, activation = 'relu'))\n",
    "#     if hp.Boolean('dropout'):\n",
    "#         model.add(keras.layers.Dropout(rate = 0.2))\n",
    "#     model.add(keras.layers.Dense(units = hp_unit, activation = 'relu'))\n",
    "#     if hp.Boolean('dropout'):\n",
    "#         model.add(keras.layers.Dropout(rate = 0.2))\n",
    "#     model.add(keras.layers.Dense(units = hp_unit, activation = 'relu'))\n",
    "#     model.add(keras.layers.Dense(units = len(np.unique(y_train))))\n",
    "    \n",
    "#     # - compiler\n",
    "#     hp_learning_rate = hp.Float('lr', min_value = 1e-4, max_value = 1e-2, sampling = 'log')\n",
    "#     model.compile(optimizer = keras.optimizers.Adam(learning_rate = hp_learning_rate),\n",
    "#                  loss = 'sparse_categorical_crossentropy',\n",
    "#                  metrics = 'accuracy')\n",
    "    \n",
    "#     return model\n",
    "\n",
    "# # - Checking to see if model was built correctly\n",
    "# model_builder(kt.HyperParameters()) # model was successfully built\n",
    "\n",
    "# # - Starting the search\n",
    "# os.chdir(r'/kaggle/working/') # need to change to a directory to write files\n",
    "# tuner = kt.RandomSearch(hypermodel = model_builder,\n",
    "#                         objective = 'val_accuracy',\n",
    "#                         seed = 42,\n",
    "#                         max_trials = 4,\n",
    "#                         executions_per_trial = 2,\n",
    "#                         directory = 'random_search',\n",
    "#                         overwrite = True,\n",
    "#                         project_name = 'hp_tune'\n",
    "#                        )\n",
    "\n",
    "# tuner.search_space_summary()"
   ]
  },
  {
   "cell_type": "code",
   "execution_count": 44,
   "id": "254a50f1",
   "metadata": {
    "execution": {
     "iopub.execute_input": "2023-12-23T02:47:05.999426Z",
     "iopub.status.busy": "2023-12-23T02:47:05.999071Z",
     "iopub.status.idle": "2023-12-23T02:47:06.003425Z",
     "shell.execute_reply": "2023-12-23T02:47:06.002341Z"
    },
    "papermill": {
     "duration": 0.797277,
     "end_time": "2023-12-23T02:47:06.005433",
     "exception": false,
     "start_time": "2023-12-23T02:47:05.208156",
     "status": "completed"
    },
    "tags": []
   },
   "outputs": [],
   "source": [
    "# tuner.search(X_train_sc, y_train, epochs = 10, batch_size = 15000, validation_split = 0.2)"
   ]
  },
  {
   "cell_type": "markdown",
   "id": "351c653b",
   "metadata": {
    "papermill": {
     "duration": 0.833817,
     "end_time": "2023-12-23T02:47:07.637506",
     "exception": false,
     "start_time": "2023-12-23T02:47:06.803689",
     "status": "completed"
    },
    "tags": []
   },
   "source": [
    "## Submission:"
   ]
  }
 ],
 "metadata": {
  "kaggle": {
   "accelerator": "gpu",
   "dataSources": [
    {
     "databundleVersionId": 6678907,
     "sourceId": 59291,
     "sourceType": "competition"
    }
   ],
   "dockerImageVersionId": 30626,
   "isGpuEnabled": true,
   "isInternetEnabled": true,
   "language": "python",
   "sourceType": "notebook"
  },
  "kernelspec": {
   "display_name": "Python 3",
   "language": "python",
   "name": "python3"
  },
  "language_info": {
   "codemirror_mode": {
    "name": "ipython",
    "version": 3
   },
   "file_extension": ".py",
   "mimetype": "text/x-python",
   "name": "python",
   "nbconvert_exporter": "python",
   "pygments_lexer": "ipython3",
   "version": "3.10.12"
  },
  "papermill": {
   "default_parameters": {},
   "duration": 743.137304,
   "end_time": "2023-12-23T02:47:11.988087",
   "environment_variables": {},
   "exception": null,
   "input_path": "__notebook__.ipynb",
   "output_path": "__notebook__.ipynb",
   "parameters": {},
   "start_time": "2023-12-23T02:34:48.850783",
   "version": "2.4.0"
  }
 },
 "nbformat": 4,
 "nbformat_minor": 5
}
