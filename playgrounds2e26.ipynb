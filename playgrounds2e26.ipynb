{
 "cells": [
  {
   "cell_type": "markdown",
   "id": "c9a0d70a",
   "metadata": {
    "_cell_guid": "b1076dfc-b9ad-4769-8c92-a6c4dae69d19",
    "_uuid": "8f2839f25d086af736a60e9eeb907d3b93b6e0e5",
    "papermill": {
     "duration": 0.008555,
     "end_time": "2023-12-15T18:56:12.834075",
     "exception": false,
     "start_time": "2023-12-15T18:56:12.825520",
     "status": "completed"
    },
    "tags": []
   },
   "source": [
    "# Playground-series-s3e26\n",
    "\n",
    "Kyle Lacson \n"
   ]
  },
  {
   "cell_type": "markdown",
   "id": "78757ba9",
   "metadata": {
    "papermill": {
     "duration": 0.007715,
     "end_time": "2023-12-15T18:56:12.850826",
     "exception": false,
     "start_time": "2023-12-15T18:56:12.843111",
     "status": "completed"
    },
    "tags": []
   },
   "source": [
    "## I. Libraries and Packages"
   ]
  },
  {
   "cell_type": "code",
   "execution_count": 1,
   "id": "434d885a",
   "metadata": {
    "execution": {
     "iopub.execute_input": "2023-12-15T18:56:12.868401Z",
     "iopub.status.busy": "2023-12-15T18:56:12.867987Z",
     "iopub.status.idle": "2023-12-15T18:56:15.181000Z",
     "shell.execute_reply": "2023-12-15T18:56:15.179856Z"
    },
    "papermill": {
     "duration": 2.32525,
     "end_time": "2023-12-15T18:56:15.183939",
     "exception": false,
     "start_time": "2023-12-15T18:56:12.858689",
     "status": "completed"
    },
    "tags": []
   },
   "outputs": [],
   "source": [
    "import pandas as pd\n",
    "import seaborn as sns\n",
    "import matplotlib.pyplot as plt\n",
    "import numpy as np\n",
    "import os \n",
    "import warnings\n",
    "warnings.filterwarnings('ignore')"
   ]
  },
  {
   "cell_type": "markdown",
   "id": "cf153b71",
   "metadata": {
    "papermill": {
     "duration": 0.007591,
     "end_time": "2023-12-15T18:56:15.201856",
     "exception": false,
     "start_time": "2023-12-15T18:56:15.194265",
     "status": "completed"
    },
    "tags": []
   },
   "source": [
    "### I.ii Import dataset"
   ]
  },
  {
   "cell_type": "code",
   "execution_count": 2,
   "id": "47db14f3",
   "metadata": {
    "execution": {
     "iopub.execute_input": "2023-12-15T18:56:15.219472Z",
     "iopub.status.busy": "2023-12-15T18:56:15.218905Z",
     "iopub.status.idle": "2023-12-15T18:56:15.300309Z",
     "shell.execute_reply": "2023-12-15T18:56:15.299198Z"
    },
    "papermill": {
     "duration": 0.09306,
     "end_time": "2023-12-15T18:56:15.302733",
     "exception": false,
     "start_time": "2023-12-15T18:56:15.209673",
     "status": "completed"
    },
    "tags": []
   },
   "outputs": [],
   "source": [
    "# --- Setting up the directory based on local repository or kaggle\n",
    "if 'kylelacson' in os.getcwd():\n",
    "    base_dir = os.getcwd()\n",
    "else:\n",
    "    base_dir = r'/kaggle/input/playground-series-s3e26' \n",
    "    \n",
    "for i in os.listdir(base_dir):\n",
    "    if 'playground-series-s3e26' in i:\n",
    "        base_dir = os.path.join(base_dir,i)   \n",
    "    \n",
    "# --- Importing csv files from directory\n",
    "for i in os.listdir(base_dir):\n",
    "    if 'sample' in i:\n",
    "        sample = pd.read_csv(os.path.join(base_dir,i))\n",
    "    elif 'train' in i:\n",
    "        train = pd.read_csv(os.path.join(base_dir,i))\n",
    "    elif 'test' in i:\n",
    "        test = pd.read_csv(os.path.join(base_dir,i))\n",
    "    else:\n",
    "        continue"
   ]
  },
  {
   "cell_type": "code",
   "execution_count": 3,
   "id": "4d0abfb5",
   "metadata": {
    "execution": {
     "iopub.execute_input": "2023-12-15T18:56:15.320688Z",
     "iopub.status.busy": "2023-12-15T18:56:15.320322Z",
     "iopub.status.idle": "2023-12-15T18:56:15.349780Z",
     "shell.execute_reply": "2023-12-15T18:56:15.348976Z"
    },
    "papermill": {
     "duration": 0.04076,
     "end_time": "2023-12-15T18:56:15.351974",
     "exception": false,
     "start_time": "2023-12-15T18:56:15.311214",
     "status": "completed"
    },
    "tags": []
   },
   "outputs": [
    {
     "data": {
      "text/plain": [
       "Drug              2\n",
       "Sex               2\n",
       "Ascites           2\n",
       "Hepatomegaly      2\n",
       "Spiders           2\n",
       "Status            3\n",
       "Edema             3\n",
       "Stage             4\n",
       "Prothrombin      49\n",
       "Bilirubin       111\n",
       "dtype: int64"
      ]
     },
     "execution_count": 3,
     "metadata": {},
     "output_type": "execute_result"
    }
   ],
   "source": [
    "train.nunique().sort_values()[:10]"
   ]
  },
  {
   "cell_type": "markdown",
   "id": "0860e39f",
   "metadata": {
    "execution": {
     "iopub.execute_input": "2023-12-11T19:18:22.883597Z",
     "iopub.status.busy": "2023-12-11T19:18:22.882815Z",
     "iopub.status.idle": "2023-12-11T19:18:22.923191Z",
     "shell.execute_reply": "2023-12-11T19:18:22.921999Z",
     "shell.execute_reply.started": "2023-12-11T19:18:22.883550Z"
    },
    "papermill": {
     "duration": 0.007616,
     "end_time": "2023-12-15T18:56:15.367606",
     "exception": false,
     "start_time": "2023-12-15T18:56:15.359990",
     "status": "completed"
    },
    "tags": []
   },
   "source": [
    "### I.iii Transfrom dataset"
   ]
  },
  {
   "cell_type": "code",
   "execution_count": 4,
   "id": "5dfbff42",
   "metadata": {
    "execution": {
     "iopub.execute_input": "2023-12-15T18:56:15.386211Z",
     "iopub.status.busy": "2023-12-15T18:56:15.385540Z",
     "iopub.status.idle": "2023-12-15T18:56:15.390910Z",
     "shell.execute_reply": "2023-12-15T18:56:15.390178Z"
    },
    "papermill": {
     "duration": 0.016968,
     "end_time": "2023-12-15T18:56:15.393036",
     "exception": false,
     "start_time": "2023-12-15T18:56:15.376068",
     "status": "completed"
    },
    "tags": []
   },
   "outputs": [],
   "source": [
    "# --- Setting aside category/object columns to transform\n",
    "category = train.select_dtypes(include = object)\n",
    "number = train.select_dtypes(include = np.number)"
   ]
  },
  {
   "cell_type": "code",
   "execution_count": 5,
   "id": "b48f6a94",
   "metadata": {
    "execution": {
     "iopub.execute_input": "2023-12-15T18:56:15.411311Z",
     "iopub.status.busy": "2023-12-15T18:56:15.410636Z",
     "iopub.status.idle": "2023-12-15T18:56:15.673866Z",
     "shell.execute_reply": "2023-12-15T18:56:15.672539Z"
    },
    "papermill": {
     "duration": 0.275667,
     "end_time": "2023-12-15T18:56:15.676648",
     "exception": false,
     "start_time": "2023-12-15T18:56:15.400981",
     "status": "completed"
    },
    "tags": []
   },
   "outputs": [],
   "source": [
    "from sklearn.preprocessing import LabelEncoder\n",
    "'''\n",
    "Function: Label encode categorical columns.\n",
    "'''\n",
    "def label_encoder(df: pd.DataFrame):\n",
    "    for i in df.columns:\n",
    "        le = LabelEncoder()\n",
    "        le.fit(df[i])\n",
    "        df[i] = le.transform(df[i])\n",
    "    return df"
   ]
  },
  {
   "cell_type": "code",
   "execution_count": 6,
   "id": "30fddca5",
   "metadata": {
    "execution": {
     "iopub.execute_input": "2023-12-15T18:56:15.695243Z",
     "iopub.status.busy": "2023-12-15T18:56:15.694801Z",
     "iopub.status.idle": "2023-12-15T18:56:15.715518Z",
     "shell.execute_reply": "2023-12-15T18:56:15.714546Z"
    },
    "papermill": {
     "duration": 0.032393,
     "end_time": "2023-12-15T18:56:15.717817",
     "exception": false,
     "start_time": "2023-12-15T18:56:15.685424",
     "status": "completed"
    },
    "tags": []
   },
   "outputs": [],
   "source": [
    "# --- Initializing label_encoder function\n",
    "category = label_encoder(category)"
   ]
  },
  {
   "cell_type": "code",
   "execution_count": 7,
   "id": "09011eaa",
   "metadata": {
    "execution": {
     "iopub.execute_input": "2023-12-15T18:56:15.736363Z",
     "iopub.status.busy": "2023-12-15T18:56:15.735742Z",
     "iopub.status.idle": "2023-12-15T18:56:15.749186Z",
     "shell.execute_reply": "2023-12-15T18:56:15.748212Z"
    },
    "papermill": {
     "duration": 0.025195,
     "end_time": "2023-12-15T18:56:15.751579",
     "exception": false,
     "start_time": "2023-12-15T18:56:15.726384",
     "status": "completed"
    },
    "tags": []
   },
   "outputs": [],
   "source": [
    "# --- Merging the new initialized dataset\n",
    "data = pd.concat([number,category],axis = 1).drop(columns = 'id')"
   ]
  },
  {
   "cell_type": "code",
   "execution_count": 8,
   "id": "8cdc0b9a",
   "metadata": {
    "execution": {
     "iopub.execute_input": "2023-12-15T18:56:15.769414Z",
     "iopub.status.busy": "2023-12-15T18:56:15.768969Z",
     "iopub.status.idle": "2023-12-15T18:56:15.795823Z",
     "shell.execute_reply": "2023-12-15T18:56:15.794643Z"
    },
    "papermill": {
     "duration": 0.038809,
     "end_time": "2023-12-15T18:56:15.798253",
     "exception": false,
     "start_time": "2023-12-15T18:56:15.759444",
     "status": "completed"
    },
    "tags": []
   },
   "outputs": [
    {
     "data": {
      "text/html": [
       "<div>\n",
       "<style scoped>\n",
       "    .dataframe tbody tr th:only-of-type {\n",
       "        vertical-align: middle;\n",
       "    }\n",
       "\n",
       "    .dataframe tbody tr th {\n",
       "        vertical-align: top;\n",
       "    }\n",
       "\n",
       "    .dataframe thead th {\n",
       "        text-align: right;\n",
       "    }\n",
       "</style>\n",
       "<table border=\"1\" class=\"dataframe\">\n",
       "  <thead>\n",
       "    <tr style=\"text-align: right;\">\n",
       "      <th></th>\n",
       "      <th>N_Days</th>\n",
       "      <th>Age</th>\n",
       "      <th>Bilirubin</th>\n",
       "      <th>Cholesterol</th>\n",
       "      <th>Albumin</th>\n",
       "      <th>Copper</th>\n",
       "      <th>Alk_Phos</th>\n",
       "      <th>SGOT</th>\n",
       "      <th>Tryglicerides</th>\n",
       "      <th>Platelets</th>\n",
       "      <th>Prothrombin</th>\n",
       "      <th>Stage</th>\n",
       "      <th>Drug</th>\n",
       "      <th>Sex</th>\n",
       "      <th>Ascites</th>\n",
       "      <th>Hepatomegaly</th>\n",
       "      <th>Spiders</th>\n",
       "      <th>Edema</th>\n",
       "      <th>Status</th>\n",
       "    </tr>\n",
       "  </thead>\n",
       "  <tbody>\n",
       "    <tr>\n",
       "      <th>0</th>\n",
       "      <td>999</td>\n",
       "      <td>21532</td>\n",
       "      <td>2.3</td>\n",
       "      <td>316.0</td>\n",
       "      <td>3.35</td>\n",
       "      <td>172.0</td>\n",
       "      <td>1601.0</td>\n",
       "      <td>179.80</td>\n",
       "      <td>63.0</td>\n",
       "      <td>394.0</td>\n",
       "      <td>9.7</td>\n",
       "      <td>3.0</td>\n",
       "      <td>0</td>\n",
       "      <td>1</td>\n",
       "      <td>0</td>\n",
       "      <td>0</td>\n",
       "      <td>0</td>\n",
       "      <td>0</td>\n",
       "      <td>2</td>\n",
       "    </tr>\n",
       "    <tr>\n",
       "      <th>1</th>\n",
       "      <td>2574</td>\n",
       "      <td>19237</td>\n",
       "      <td>0.9</td>\n",
       "      <td>364.0</td>\n",
       "      <td>3.54</td>\n",
       "      <td>63.0</td>\n",
       "      <td>1440.0</td>\n",
       "      <td>134.85</td>\n",
       "      <td>88.0</td>\n",
       "      <td>361.0</td>\n",
       "      <td>11.0</td>\n",
       "      <td>3.0</td>\n",
       "      <td>1</td>\n",
       "      <td>0</td>\n",
       "      <td>0</td>\n",
       "      <td>0</td>\n",
       "      <td>0</td>\n",
       "      <td>0</td>\n",
       "      <td>0</td>\n",
       "    </tr>\n",
       "    <tr>\n",
       "      <th>2</th>\n",
       "      <td>3428</td>\n",
       "      <td>13727</td>\n",
       "      <td>3.3</td>\n",
       "      <td>299.0</td>\n",
       "      <td>3.55</td>\n",
       "      <td>131.0</td>\n",
       "      <td>1029.0</td>\n",
       "      <td>119.35</td>\n",
       "      <td>50.0</td>\n",
       "      <td>199.0</td>\n",
       "      <td>11.7</td>\n",
       "      <td>4.0</td>\n",
       "      <td>1</td>\n",
       "      <td>0</td>\n",
       "      <td>0</td>\n",
       "      <td>1</td>\n",
       "      <td>1</td>\n",
       "      <td>2</td>\n",
       "      <td>2</td>\n",
       "    </tr>\n",
       "    <tr>\n",
       "      <th>3</th>\n",
       "      <td>2576</td>\n",
       "      <td>18460</td>\n",
       "      <td>0.6</td>\n",
       "      <td>256.0</td>\n",
       "      <td>3.50</td>\n",
       "      <td>58.0</td>\n",
       "      <td>1653.0</td>\n",
       "      <td>71.30</td>\n",
       "      <td>96.0</td>\n",
       "      <td>269.0</td>\n",
       "      <td>10.7</td>\n",
       "      <td>3.0</td>\n",
       "      <td>1</td>\n",
       "      <td>0</td>\n",
       "      <td>0</td>\n",
       "      <td>0</td>\n",
       "      <td>0</td>\n",
       "      <td>0</td>\n",
       "      <td>0</td>\n",
       "    </tr>\n",
       "    <tr>\n",
       "      <th>4</th>\n",
       "      <td>788</td>\n",
       "      <td>16658</td>\n",
       "      <td>1.1</td>\n",
       "      <td>346.0</td>\n",
       "      <td>3.65</td>\n",
       "      <td>63.0</td>\n",
       "      <td>1181.0</td>\n",
       "      <td>125.55</td>\n",
       "      <td>96.0</td>\n",
       "      <td>298.0</td>\n",
       "      <td>10.6</td>\n",
       "      <td>4.0</td>\n",
       "      <td>1</td>\n",
       "      <td>0</td>\n",
       "      <td>0</td>\n",
       "      <td>1</td>\n",
       "      <td>0</td>\n",
       "      <td>0</td>\n",
       "      <td>0</td>\n",
       "    </tr>\n",
       "  </tbody>\n",
       "</table>\n",
       "</div>"
      ],
      "text/plain": [
       "   N_Days    Age  Bilirubin  Cholesterol  Albumin  Copper  Alk_Phos    SGOT  \\\n",
       "0     999  21532        2.3        316.0     3.35   172.0    1601.0  179.80   \n",
       "1    2574  19237        0.9        364.0     3.54    63.0    1440.0  134.85   \n",
       "2    3428  13727        3.3        299.0     3.55   131.0    1029.0  119.35   \n",
       "3    2576  18460        0.6        256.0     3.50    58.0    1653.0   71.30   \n",
       "4     788  16658        1.1        346.0     3.65    63.0    1181.0  125.55   \n",
       "\n",
       "   Tryglicerides  Platelets  Prothrombin  Stage  Drug  Sex  Ascites  \\\n",
       "0           63.0      394.0          9.7    3.0     0    1        0   \n",
       "1           88.0      361.0         11.0    3.0     1    0        0   \n",
       "2           50.0      199.0         11.7    4.0     1    0        0   \n",
       "3           96.0      269.0         10.7    3.0     1    0        0   \n",
       "4           96.0      298.0         10.6    4.0     1    0        0   \n",
       "\n",
       "   Hepatomegaly  Spiders  Edema  Status  \n",
       "0             0        0      0       2  \n",
       "1             0        0      0       0  \n",
       "2             1        1      2       2  \n",
       "3             0        0      0       0  \n",
       "4             1        0      0       0  "
      ]
     },
     "execution_count": 8,
     "metadata": {},
     "output_type": "execute_result"
    }
   ],
   "source": [
    "data.head()"
   ]
  },
  {
   "cell_type": "markdown",
   "id": "4237d7a9",
   "metadata": {
    "papermill": {
     "duration": 0.007995,
     "end_time": "2023-12-15T18:56:15.815063",
     "exception": false,
     "start_time": "2023-12-15T18:56:15.807068",
     "status": "completed"
    },
    "tags": []
   },
   "source": [
    "## II. Explore data "
   ]
  },
  {
   "cell_type": "code",
   "execution_count": 9,
   "id": "b27682a0",
   "metadata": {
    "execution": {
     "iopub.execute_input": "2023-12-15T18:56:15.833841Z",
     "iopub.status.busy": "2023-12-15T18:56:15.833176Z",
     "iopub.status.idle": "2023-12-15T18:56:16.914698Z",
     "shell.execute_reply": "2023-12-15T18:56:16.913580Z"
    },
    "papermill": {
     "duration": 1.093533,
     "end_time": "2023-12-15T18:56:16.916966",
     "exception": false,
     "start_time": "2023-12-15T18:56:15.823433",
     "status": "completed"
    },
    "tags": []
   },
   "outputs": [
    {
     "data": {
      "image/png": "[encoded data removed]",
      "text/plain": [
       "<Figure size 1200x1200 with 2 Axes>"
      ]
     },
     "metadata": {},
     "output_type": "display_data"
    }
   ],
   "source": [
    "# --- Heatmap\n",
    "plt.figure(figsize = (12,12))\n",
    "mask = np.triu(np.ones_like(data.corr()))\n",
    "sns.heatmap(data = data.corr(), annot = True, fmt = '.1f', cmap = 'vlag', mask = mask);"
   ]
  },
  {
   "cell_type": "code",
   "execution_count": 10,
   "id": "7ce71203",
   "metadata": {
    "execution": {
     "iopub.execute_input": "2023-12-15T18:56:16.940185Z",
     "iopub.status.busy": "2023-12-15T18:56:16.939176Z",
     "iopub.status.idle": "2023-12-15T18:56:17.458521Z",
     "shell.execute_reply": "2023-12-15T18:56:17.457088Z"
    },
    "papermill": {
     "duration": 0.533609,
     "end_time": "2023-12-15T18:56:17.461261",
     "exception": false,
     "start_time": "2023-12-15T18:56:16.927652",
     "status": "completed"
    },
    "tags": []
   },
   "outputs": [
    {
     "data": {
      "image/png": "[encoded data removed]",
      "text/plain": [
       "<Figure size 800x800 with 2 Axes>"
      ]
     },
     "metadata": {},
     "output_type": "display_data"
    }
   ],
   "source": [
    "#  Ascites & Edema\n",
    "fig, ax = plt.subplots(1,2,figsize = (8,8), sharey = True)\n",
    "sns.countplot(data = data, x = 'Edema', hue = 'Status', ax = ax[0])\n",
    "sns.countplot(data = data, x = 'Ascites', hue = 'Status', ax = ax[1])\n",
    "ax[0].set_title('Edema')\n",
    "ax[1].set_title('Ascites');\n"
   ]
  },
  {
   "cell_type": "markdown",
   "id": "f95f7f77",
   "metadata": {
    "execution": {
     "iopub.execute_input": "2023-12-12T02:43:30.337210Z",
     "iopub.status.busy": "2023-12-12T02:43:30.336663Z",
     "iopub.status.idle": "2023-12-12T02:43:30.378971Z",
     "shell.execute_reply": "2023-12-12T02:43:30.377707Z",
     "shell.execute_reply.started": "2023-12-12T02:43:30.337168Z"
    },
    "papermill": {
     "duration": 0.010499,
     "end_time": "2023-12-15T18:56:17.482992",
     "exception": false,
     "start_time": "2023-12-15T18:56:17.472493",
     "status": "completed"
    },
    "tags": []
   },
   "source": [
    "### II.ii  Prepare dataset"
   ]
  },
  {
   "cell_type": "code",
   "execution_count": 11,
   "id": "fc3d0d25",
   "metadata": {
    "execution": {
     "iopub.execute_input": "2023-12-15T18:56:17.506616Z",
     "iopub.status.busy": "2023-12-15T18:56:17.505992Z",
     "iopub.status.idle": "2023-12-15T18:56:17.635928Z",
     "shell.execute_reply": "2023-12-15T18:56:17.634731Z"
    },
    "papermill": {
     "duration": 0.144751,
     "end_time": "2023-12-15T18:56:17.638674",
     "exception": false,
     "start_time": "2023-12-15T18:56:17.493923",
     "status": "completed"
    },
    "tags": []
   },
   "outputs": [],
   "source": [
    "# --- Split dataset\n",
    "from sklearn.model_selection import train_test_split\n",
    "X = data.drop(columns = 'Status')\n",
    "y = data.Status\n",
    "\n",
    "X_train, X_test, y_train, y_test = train_test_split(X,y, test_size = 0.2, random_state = 42, shuffle = True)\n",
    "\n",
    "# --- Creating a valdiation set \n",
    "train_split = int(len(X_train) * 0.10) # 10 percent of the split training set will be used for the evalution set \n",
    "X_val, y_val = X_train[(len(X_train) - train_split):], y_train[(len(y_train) - train_split):]\n",
    "X_train, y_train = X_train[:(len(X_train) - train_split)], y_train[:(len(y_train) - train_split)]"
   ]
  },
  {
   "cell_type": "code",
   "execution_count": 12,
   "id": "f6a123c6",
   "metadata": {
    "execution": {
     "iopub.execute_input": "2023-12-15T18:56:17.662901Z",
     "iopub.status.busy": "2023-12-15T18:56:17.662475Z",
     "iopub.status.idle": "2023-12-15T18:56:17.668715Z",
     "shell.execute_reply": "2023-12-15T18:56:17.667531Z"
    },
    "papermill": {
     "duration": 0.021433,
     "end_time": "2023-12-15T18:56:17.671052",
     "exception": false,
     "start_time": "2023-12-15T18:56:17.649619",
     "status": "completed"
    },
    "tags": []
   },
   "outputs": [],
   "source": [
    "# --- Scaling dataset (not truly needed for tree based classifiers)\n",
    "from sklearn.preprocessing import StandardScaler\n",
    "\n",
    "def scale_dataframes(dataframe: pd.DataFrame):\n",
    "    scaler = StandardScaler()\n",
    "    df = pd.DataFrame(data = scaler.fit_transform(dataframe), columns = dataframe.columns)\n",
    "    return df"
   ]
  },
  {
   "cell_type": "code",
   "execution_count": 13,
   "id": "0f3c5f21",
   "metadata": {
    "execution": {
     "iopub.execute_input": "2023-12-15T18:56:17.694546Z",
     "iopub.status.busy": "2023-12-15T18:56:17.694105Z",
     "iopub.status.idle": "2023-12-15T18:56:17.715383Z",
     "shell.execute_reply": "2023-12-15T18:56:17.714134Z"
    },
    "papermill": {
     "duration": 0.035871,
     "end_time": "2023-12-15T18:56:17.717870",
     "exception": false,
     "start_time": "2023-12-15T18:56:17.681999",
     "status": "completed"
    },
    "tags": []
   },
   "outputs": [],
   "source": [
    "X_train_sc = scale_dataframes(X_train)\n",
    "X_val_sc = scale_dataframes(X_val)\n",
    "X_test_sc =  scale_dataframes(X_test)"
   ]
  },
  {
   "cell_type": "markdown",
   "id": "f6d815a6",
   "metadata": {
    "execution": {
     "iopub.execute_input": "2023-12-12T20:35:24.865419Z",
     "iopub.status.busy": "2023-12-12T20:35:24.864784Z",
     "iopub.status.idle": "2023-12-12T20:35:24.894476Z",
     "shell.execute_reply": "2023-12-12T20:35:24.893179Z",
     "shell.execute_reply.started": "2023-12-12T20:35:24.865367Z"
    },
    "papermill": {
     "duration": 0.010324,
     "end_time": "2023-12-15T18:56:17.738970",
     "exception": false,
     "start_time": "2023-12-15T18:56:17.728646",
     "status": "completed"
    },
    "tags": []
   },
   "source": [
    "## III. Classification Modeling"
   ]
  },
  {
   "cell_type": "markdown",
   "id": "e5fdad74",
   "metadata": {
    "papermill": {
     "duration": 0.01031,
     "end_time": "2023-12-15T18:56:17.760003",
     "exception": false,
     "start_time": "2023-12-15T18:56:17.749693",
     "status": "completed"
    },
    "tags": []
   },
   "source": [
    "### III.ii Decision Tree Classifier (SKLEARN)"
   ]
  },
  {
   "cell_type": "code",
   "execution_count": 14,
   "id": "bc03b5ea",
   "metadata": {
    "execution": {
     "iopub.execute_input": "2023-12-15T18:56:17.783567Z",
     "iopub.status.busy": "2023-12-15T18:56:17.783119Z",
     "iopub.status.idle": "2023-12-15T18:56:18.073319Z",
     "shell.execute_reply": "2023-12-15T18:56:18.072087Z"
    },
    "papermill": {
     "duration": 0.305378,
     "end_time": "2023-12-15T18:56:18.076154",
     "exception": false,
     "start_time": "2023-12-15T18:56:17.770776",
     "status": "completed"
    },
    "tags": []
   },
   "outputs": [],
   "source": [
    "# --- Sklearn Decision Tree Classifier \n",
    "from sklearn.tree import DecisionTreeClassifier\n",
    "\n",
    "dt_sk = DecisionTreeClassifier(random_state = 42)\n",
    "dt_sk.fit(X_train_sc, y_train)\n",
    "y_dt_pred = dt_sk.predict(X_test_sc)\n",
    "y_dt_prob_pred = dt_sk.predict_proba(X_test_sc)"
   ]
  },
  {
   "cell_type": "markdown",
   "id": "aa7511e6",
   "metadata": {
    "papermill": {
     "duration": 0.010409,
     "end_time": "2023-12-15T18:56:18.097381",
     "exception": false,
     "start_time": "2023-12-15T18:56:18.086972",
     "status": "completed"
    },
    "tags": []
   },
   "source": [
    "### III.iii Random Forest Classifier (SKLEARN)"
   ]
  },
  {
   "cell_type": "code",
   "execution_count": 15,
   "id": "49c3f2a9",
   "metadata": {
    "execution": {
     "iopub.execute_input": "2023-12-15T18:56:18.120348Z",
     "iopub.status.busy": "2023-12-15T18:56:18.119928Z",
     "iopub.status.idle": "2023-12-15T18:56:19.580908Z",
     "shell.execute_reply": "2023-12-15T18:56:19.579582Z"
    },
    "papermill": {
     "duration": 1.475593,
     "end_time": "2023-12-15T18:56:19.583593",
     "exception": false,
     "start_time": "2023-12-15T18:56:18.108000",
     "status": "completed"
    },
    "tags": []
   },
   "outputs": [],
   "source": [
    "# --- Sklearn Random Forest Tree Classifier\n",
    "from sklearn.ensemble import RandomForestClassifier\n",
    "\n",
    "rf_sk = RandomForestClassifier(random_state = 42)\n",
    "rf_sk.fit(X_train_sc, y_train)\n",
    "y_rf_pred = rf_sk.predict(X_test_sc)\n",
    "y_rf_prob_pred = rf_sk.predict_proba(X_test_sc)"
   ]
  },
  {
   "cell_type": "markdown",
   "id": "22f35eb5",
   "metadata": {
    "papermill": {
     "duration": 0.01096,
     "end_time": "2023-12-15T18:56:19.667636",
     "exception": false,
     "start_time": "2023-12-15T18:56:19.656676",
     "status": "completed"
    },
    "tags": []
   },
   "source": [
    "### III.iv Random Forest XGBoost Classifier (Gradient Boosting) "
   ]
  },
  {
   "cell_type": "code",
   "execution_count": 16,
   "id": "ddac1049",
   "metadata": {
    "execution": {
     "iopub.execute_input": "2023-12-15T18:56:19.691429Z",
     "iopub.status.busy": "2023-12-15T18:56:19.691008Z",
     "iopub.status.idle": "2023-12-15T18:56:23.444992Z",
     "shell.execute_reply": "2023-12-15T18:56:23.443905Z"
    },
    "papermill": {
     "duration": 3.768786,
     "end_time": "2023-12-15T18:56:23.447250",
     "exception": false,
     "start_time": "2023-12-15T18:56:19.678464",
     "status": "completed"
    },
    "tags": []
   },
   "outputs": [
    {
     "data": {
      "text/plain": [
       "'cpu'"
      ]
     },
     "execution_count": 16,
     "metadata": {},
     "output_type": "execute_result"
    }
   ],
   "source": [
    "# --- Check if a GPU is available and set device to built in GPU support (MPS)\n",
    "import torch\n",
    "device = torch.device('mps') if torch.backends.mps.is_available() else 'cuda' if torch.cuda.is_available() else 'cpu'\n",
    "device"
   ]
  },
  {
   "cell_type": "code",
   "execution_count": 17,
   "id": "ff63f455",
   "metadata": {
    "execution": {
     "iopub.execute_input": "2023-12-15T18:56:23.471237Z",
     "iopub.status.busy": "2023-12-15T18:56:23.470588Z",
     "iopub.status.idle": "2023-12-15T18:56:25.999679Z",
     "shell.execute_reply": "2023-12-15T18:56:25.998720Z"
    },
    "papermill": {
     "duration": 2.54466,
     "end_time": "2023-12-15T18:56:26.002765",
     "exception": false,
     "start_time": "2023-12-15T18:56:23.458105",
     "status": "completed"
    },
    "tags": []
   },
   "outputs": [
    {
     "name": "stdout",
     "output_type": "stream",
     "text": [
      "[0]\tvalidation_0-mlogloss:0.85280\tvalidation_1-mlogloss:0.87376\n",
      "[1]\tvalidation_0-mlogloss:0.70571\tvalidation_1-mlogloss:0.74553\n",
      "[2]\tvalidation_0-mlogloss:0.60600\tvalidation_1-mlogloss:0.66873\n",
      "[3]\tvalidation_0-mlogloss:0.53803\tvalidation_1-mlogloss:0.62012\n",
      "[4]\tvalidation_0-mlogloss:0.48873\tvalidation_1-mlogloss:0.59128\n",
      "[5]\tvalidation_0-mlogloss:0.44947\tvalidation_1-mlogloss:0.57328\n",
      "[6]\tvalidation_0-mlogloss:0.41816\tvalidation_1-mlogloss:0.56225\n",
      "[7]\tvalidation_0-mlogloss:0.39274\tvalidation_1-mlogloss:0.55517\n",
      "[8]\tvalidation_0-mlogloss:0.37198\tvalidation_1-mlogloss:0.54854\n",
      "[9]\tvalidation_0-mlogloss:0.35552\tvalidation_1-mlogloss:0.54849\n",
      "[10]\tvalidation_0-mlogloss:0.34121\tvalidation_1-mlogloss:0.54520\n",
      "[11]\tvalidation_0-mlogloss:0.32750\tvalidation_1-mlogloss:0.54133\n",
      "[12]\tvalidation_0-mlogloss:0.31640\tvalidation_1-mlogloss:0.54093\n",
      "[13]\tvalidation_0-mlogloss:0.30681\tvalidation_1-mlogloss:0.53866\n",
      "[14]\tvalidation_0-mlogloss:0.29745\tvalidation_1-mlogloss:0.53546\n",
      "[15]\tvalidation_0-mlogloss:0.28928\tvalidation_1-mlogloss:0.53202\n",
      "[16]\tvalidation_0-mlogloss:0.27935\tvalidation_1-mlogloss:0.53024\n",
      "[17]\tvalidation_0-mlogloss:0.27224\tvalidation_1-mlogloss:0.53120\n",
      "[18]\tvalidation_0-mlogloss:0.26410\tvalidation_1-mlogloss:0.53482\n",
      "[19]\tvalidation_0-mlogloss:0.25652\tvalidation_1-mlogloss:0.53539\n",
      "[20]\tvalidation_0-mlogloss:0.25114\tvalidation_1-mlogloss:0.53439\n",
      "[21]\tvalidation_0-mlogloss:0.24450\tvalidation_1-mlogloss:0.53479\n",
      "[22]\tvalidation_0-mlogloss:0.23792\tvalidation_1-mlogloss:0.53412\n",
      "[23]\tvalidation_0-mlogloss:0.23236\tvalidation_1-mlogloss:0.53627\n",
      "[24]\tvalidation_0-mlogloss:0.22644\tvalidation_1-mlogloss:0.53697\n",
      "[25]\tvalidation_0-mlogloss:0.22241\tvalidation_1-mlogloss:0.53718\n",
      "[0]\tvalidation_0-mlogloss:0.51216\tvalidation_1-mlogloss:0.60233\n"
     ]
    }
   ],
   "source": [
    "# --- XGBoost Classifier and Random Forest Classifier\n",
    "from xgboost import XGBClassifier, XGBRFClassifier\n",
    "\n",
    "# Gradient Boosting\n",
    "params = {\n",
    "    'random_state': 42,\n",
    "    'n_jobs': 4,\n",
    "    'verbosity': 1,\n",
    "    'device': device,\n",
    "    'early_stopping_rounds': 10\n",
    "    # eval_metric: # change log loss to multiclass entropy loss\n",
    "}\n",
    "\n",
    "params2 = {\n",
    "    'random_state': 42,\n",
    "    'n_jobs': 4,\n",
    "    'verbosity': 1,\n",
    "    'device': device\n",
    "    # eval_metric: # change log loss to multiclass entropy loss\n",
    "}\n",
    "\n",
    "xgb_clf = XGBClassifier(**params)\n",
    "xgb_clf.fit(X_train_sc, y_train, eval_set = [(X_train_sc, y_train),(X_val_sc, y_val)])\n",
    "y_xgbclf_pred = xgb_clf.predict(X_test_sc)\n",
    "y_xgbclf_prob_pred = xgb_clf.predict_proba(X_test_sc)\n",
    "\n",
    "# Random Forest\n",
    "xgbrf_clf = XGBRFClassifier(**params2)\n",
    "xgbrf_clf.fit(X_train_sc, y_train, eval_set = [(X_train_sc, y_train), (X_val_sc, y_val)])\n",
    "y_xgbrf_pred = xgbrf_clf.predict(X_test_sc)\n",
    "y_xgbrf_prob_pred = xgbrf_clf.predict(X_test_sc)"
   ]
  },
  {
   "cell_type": "code",
   "execution_count": 18,
   "id": "b9092a49",
   "metadata": {
    "execution": {
     "iopub.execute_input": "2023-12-15T18:56:26.031765Z",
     "iopub.status.busy": "2023-12-15T18:56:26.030397Z",
     "iopub.status.idle": "2023-12-15T18:56:26.389384Z",
     "shell.execute_reply": "2023-12-15T18:56:26.388130Z"
    },
    "papermill": {
     "duration": 0.375969,
     "end_time": "2023-12-15T18:56:26.391807",
     "exception": false,
     "start_time": "2023-12-15T18:56:26.015838",
     "status": "completed"
    },
    "tags": []
   },
   "outputs": [
    {
     "data": {
      "image/png": "[encoded data removed]",
      "text/plain": [
       "<Figure size 1000x700 with 1 Axes>"
      ]
     },
     "metadata": {},
     "output_type": "display_data"
    }
   ],
   "source": [
    "# --- xgbclassifier evaluation metrics\n",
    "xgb_results = xgb_clf.evals_result_\n",
    "\n",
    "plt.figure(figsize=(10,7))\n",
    "plt.plot(xgb_results[\"validation_0\"][\"mlogloss\"], label=\"Training loss\")\n",
    "plt.plot(xgb_results[\"validation_1\"][\"mlogloss\"], label=\"Validation loss\")\n",
    "plt.axvline(xgb_clf.best_iteration, color=\"gray\", label=\"Optimal tree number\")\n",
    "plt.xlabel(\"Number of trees\")\n",
    "plt.ylabel(\"Loss\")\n",
    "plt.legend();"
   ]
  },
  {
   "cell_type": "markdown",
   "id": "557c2909",
   "metadata": {
    "papermill": {
     "duration": 0.013051,
     "end_time": "2023-12-15T18:56:26.419971",
     "exception": false,
     "start_time": "2023-12-15T18:56:26.406920",
     "status": "completed"
    },
    "tags": []
   },
   "source": [
    "### III.v. Classifier Catboost"
   ]
  },
  {
   "cell_type": "code",
   "execution_count": 19,
   "id": "bd8f33f1",
   "metadata": {
    "execution": {
     "iopub.execute_input": "2023-12-15T18:56:26.450909Z",
     "iopub.status.busy": "2023-12-15T18:56:26.449664Z",
     "iopub.status.idle": "2023-12-15T18:56:27.827330Z",
     "shell.execute_reply": "2023-12-15T18:56:27.825986Z"
    },
    "papermill": {
     "duration": 1.39557,
     "end_time": "2023-12-15T18:56:27.830088",
     "exception": false,
     "start_time": "2023-12-15T18:56:26.434518",
     "status": "completed"
    },
    "tags": []
   },
   "outputs": [
    {
     "data": {
      "application/vnd.jupyter.widget-view+json": {
       "model_id": "07a01757e9784b20b76982144aa5640e",
       "version_major": 2,
       "version_minor": 0
      },
      "text/plain": [
       "MetricVisualizer(layout=Layout(align_self='stretch', height='500px'))"
      ]
     },
     "metadata": {},
     "output_type": "display_data"
    },
    {
     "name": "stdout",
     "output_type": "stream",
     "text": [
      "Learning rate set to 0.111798\n",
      "0:\tlearn: 0.9892895\ttest: 0.9919968\tbest: 0.9919968 (0)\ttotal: 62.3ms\tremaining: 1m 2s\n",
      "1:\tlearn: 0.9045884\ttest: 0.9078327\tbest: 0.9078327 (1)\ttotal: 68.8ms\tremaining: 34.3s\n",
      "2:\tlearn: 0.8381543\ttest: 0.8439784\tbest: 0.8439784 (2)\ttotal: 74.7ms\tremaining: 24.8s\n",
      "3:\tlearn: 0.7839609\ttest: 0.7903252\tbest: 0.7903252 (3)\ttotal: 80.5ms\tremaining: 20.1s\n",
      "4:\tlearn: 0.7396798\ttest: 0.7471730\tbest: 0.7471730 (4)\ttotal: 86ms\tremaining: 17.1s\n",
      "5:\tlearn: 0.7037519\ttest: 0.7126255\tbest: 0.7126255 (5)\ttotal: 91.8ms\tremaining: 15.2s\n",
      "6:\tlearn: 0.6733087\ttest: 0.6825363\tbest: 0.6825363 (6)\ttotal: 98.1ms\tremaining: 13.9s\n",
      "7:\tlearn: 0.6459126\ttest: 0.6564680\tbest: 0.6564680 (7)\ttotal: 104ms\tremaining: 12.9s\n",
      "8:\tlearn: 0.6230300\ttest: 0.6341680\tbest: 0.6341680 (8)\ttotal: 110ms\tremaining: 12.1s\n",
      "9:\tlearn: 0.6042912\ttest: 0.6169028\tbest: 0.6169028 (9)\ttotal: 116ms\tremaining: 11.5s\n",
      "10:\tlearn: 0.5877277\ttest: 0.6007941\tbest: 0.6007941 (10)\ttotal: 122ms\tremaining: 11s\n",
      "11:\tlearn: 0.5723508\ttest: 0.5864723\tbest: 0.5864723 (11)\ttotal: 128ms\tremaining: 10.5s\n",
      "12:\tlearn: 0.5588960\ttest: 0.5729472\tbest: 0.5729472 (12)\ttotal: 134ms\tremaining: 10.2s\n",
      "13:\tlearn: 0.5485446\ttest: 0.5638996\tbest: 0.5638996 (13)\ttotal: 140ms\tremaining: 9.86s\n",
      "14:\tlearn: 0.5378415\ttest: 0.5553575\tbest: 0.5553575 (14)\ttotal: 146ms\tremaining: 9.57s\n",
      "15:\tlearn: 0.5285169\ttest: 0.5471244\tbest: 0.5471244 (15)\ttotal: 152ms\tremaining: 9.34s\n",
      "16:\tlearn: 0.5202263\ttest: 0.5405564\tbest: 0.5405564 (16)\ttotal: 157ms\tremaining: 9.1s\n",
      "17:\tlearn: 0.5131644\ttest: 0.5343903\tbest: 0.5343903 (17)\ttotal: 163ms\tremaining: 8.91s\n",
      "18:\tlearn: 0.5065272\ttest: 0.5296815\tbest: 0.5296815 (18)\ttotal: 169ms\tremaining: 8.73s\n",
      "19:\tlearn: 0.5012898\ttest: 0.5256575\tbest: 0.5256575 (19)\ttotal: 175ms\tremaining: 8.56s\n",
      "20:\tlearn: 0.4962747\ttest: 0.5217741\tbest: 0.5217741 (20)\ttotal: 180ms\tremaining: 8.41s\n",
      "21:\tlearn: 0.4909657\ttest: 0.5181749\tbest: 0.5181749 (21)\ttotal: 189ms\tremaining: 8.42s\n",
      "22:\tlearn: 0.4872715\ttest: 0.5156390\tbest: 0.5156390 (22)\ttotal: 195ms\tremaining: 8.29s\n",
      "23:\tlearn: 0.4830155\ttest: 0.5127249\tbest: 0.5127249 (23)\ttotal: 201ms\tremaining: 8.16s\n",
      "24:\tlearn: 0.4798695\ttest: 0.5105217\tbest: 0.5105217 (24)\ttotal: 207ms\tremaining: 8.06s\n",
      "25:\tlearn: 0.4766298\ttest: 0.5079934\tbest: 0.5079934 (25)\ttotal: 212ms\tremaining: 7.96s\n",
      "26:\tlearn: 0.4733708\ttest: 0.5055084\tbest: 0.5055084 (26)\ttotal: 218ms\tremaining: 7.87s\n",
      "27:\tlearn: 0.4704387\ttest: 0.5032393\tbest: 0.5032393 (27)\ttotal: 225ms\tremaining: 7.8s\n",
      "28:\tlearn: 0.4686455\ttest: 0.5015224\tbest: 0.5015224 (28)\ttotal: 229ms\tremaining: 7.66s\n",
      "29:\tlearn: 0.4660542\ttest: 0.5001423\tbest: 0.5001423 (29)\ttotal: 235ms\tremaining: 7.59s\n",
      "30:\tlearn: 0.4632843\ttest: 0.4985406\tbest: 0.4985406 (30)\ttotal: 241ms\tremaining: 7.53s\n",
      "31:\tlearn: 0.4613038\ttest: 0.4967939\tbest: 0.4967939 (31)\ttotal: 247ms\tremaining: 7.46s\n",
      "32:\tlearn: 0.4594181\ttest: 0.4957606\tbest: 0.4957606 (32)\ttotal: 252ms\tremaining: 7.39s\n",
      "33:\tlearn: 0.4577299\ttest: 0.4949086\tbest: 0.4949086 (33)\ttotal: 258ms\tremaining: 7.34s\n",
      "34:\tlearn: 0.4559752\ttest: 0.4935396\tbest: 0.4935396 (34)\ttotal: 264ms\tremaining: 7.28s\n",
      "35:\tlearn: 0.4544842\ttest: 0.4932594\tbest: 0.4932594 (35)\ttotal: 269ms\tremaining: 7.21s\n",
      "36:\tlearn: 0.4529077\ttest: 0.4920310\tbest: 0.4920310 (36)\ttotal: 275ms\tremaining: 7.16s\n",
      "37:\tlearn: 0.4517416\ttest: 0.4917696\tbest: 0.4917696 (37)\ttotal: 281ms\tremaining: 7.1s\n",
      "38:\tlearn: 0.4497739\ttest: 0.4915128\tbest: 0.4915128 (38)\ttotal: 287ms\tremaining: 7.06s\n",
      "39:\tlearn: 0.4481981\ttest: 0.4902691\tbest: 0.4902691 (39)\ttotal: 292ms\tremaining: 7.01s\n",
      "40:\tlearn: 0.4465590\ttest: 0.4901326\tbest: 0.4901326 (40)\ttotal: 298ms\tremaining: 6.97s\n",
      "41:\tlearn: 0.4450149\ttest: 0.4895590\tbest: 0.4895590 (41)\ttotal: 303ms\tremaining: 6.92s\n",
      "42:\tlearn: 0.4436192\ttest: 0.4897160\tbest: 0.4895590 (41)\ttotal: 309ms\tremaining: 6.87s\n",
      "43:\tlearn: 0.4418656\ttest: 0.4889347\tbest: 0.4889347 (43)\ttotal: 315ms\tremaining: 6.83s\n",
      "44:\tlearn: 0.4405212\ttest: 0.4879294\tbest: 0.4879294 (44)\ttotal: 320ms\tremaining: 6.79s\n",
      "45:\tlearn: 0.4396415\ttest: 0.4872678\tbest: 0.4872678 (45)\ttotal: 325ms\tremaining: 6.75s\n",
      "46:\tlearn: 0.4382420\ttest: 0.4871318\tbest: 0.4871318 (46)\ttotal: 331ms\tremaining: 6.71s\n",
      "47:\tlearn: 0.4371347\ttest: 0.4865503\tbest: 0.4865503 (47)\ttotal: 336ms\tremaining: 6.67s\n",
      "48:\tlearn: 0.4357893\ttest: 0.4862437\tbest: 0.4862437 (48)\ttotal: 342ms\tremaining: 6.63s\n",
      "49:\tlearn: 0.4346212\ttest: 0.4855923\tbest: 0.4855923 (49)\ttotal: 347ms\tremaining: 6.6s\n",
      "50:\tlearn: 0.4331710\ttest: 0.4853190\tbest: 0.4853190 (50)\ttotal: 353ms\tremaining: 6.56s\n",
      "51:\tlearn: 0.4326364\ttest: 0.4853118\tbest: 0.4853118 (51)\ttotal: 358ms\tremaining: 6.53s\n",
      "52:\tlearn: 0.4310169\ttest: 0.4840422\tbest: 0.4840422 (52)\ttotal: 364ms\tremaining: 6.5s\n",
      "53:\tlearn: 0.4302592\ttest: 0.4842442\tbest: 0.4840422 (52)\ttotal: 369ms\tremaining: 6.46s\n",
      "54:\tlearn: 0.4289945\ttest: 0.4837338\tbest: 0.4837338 (54)\ttotal: 374ms\tremaining: 6.43s\n",
      "55:\tlearn: 0.4279015\ttest: 0.4832607\tbest: 0.4832607 (55)\ttotal: 380ms\tremaining: 6.41s\n",
      "56:\tlearn: 0.4271941\ttest: 0.4829949\tbest: 0.4829949 (56)\ttotal: 386ms\tremaining: 6.39s\n",
      "57:\tlearn: 0.4260955\ttest: 0.4825975\tbest: 0.4825975 (57)\ttotal: 393ms\tremaining: 6.38s\n",
      "58:\tlearn: 0.4254788\ttest: 0.4822300\tbest: 0.4822300 (58)\ttotal: 398ms\tremaining: 6.35s\n",
      "59:\tlearn: 0.4248177\ttest: 0.4821701\tbest: 0.4821701 (59)\ttotal: 404ms\tremaining: 6.33s\n",
      "60:\tlearn: 0.4239604\ttest: 0.4817481\tbest: 0.4817481 (60)\ttotal: 409ms\tremaining: 6.3s\n",
      "61:\tlearn: 0.4226776\ttest: 0.4811936\tbest: 0.4811936 (61)\ttotal: 415ms\tremaining: 6.28s\n",
      "62:\tlearn: 0.4219462\ttest: 0.4819450\tbest: 0.4811936 (61)\ttotal: 420ms\tremaining: 6.25s\n",
      "63:\tlearn: 0.4213189\ttest: 0.4822044\tbest: 0.4811936 (61)\ttotal: 426ms\tremaining: 6.23s\n",
      "64:\tlearn: 0.4204339\ttest: 0.4816524\tbest: 0.4811936 (61)\ttotal: 431ms\tremaining: 6.21s\n",
      "65:\tlearn: 0.4192166\ttest: 0.4808017\tbest: 0.4808017 (65)\ttotal: 437ms\tremaining: 6.18s\n",
      "66:\tlearn: 0.4178112\ttest: 0.4804948\tbest: 0.4804948 (66)\ttotal: 445ms\tremaining: 6.19s\n",
      "67:\tlearn: 0.4167512\ttest: 0.4802871\tbest: 0.4802871 (67)\ttotal: 450ms\tremaining: 6.17s\n",
      "68:\tlearn: 0.4158673\ttest: 0.4805309\tbest: 0.4802871 (67)\ttotal: 456ms\tremaining: 6.15s\n",
      "69:\tlearn: 0.4145839\ttest: 0.4797391\tbest: 0.4797391 (69)\ttotal: 462ms\tremaining: 6.13s\n",
      "70:\tlearn: 0.4138993\ttest: 0.4795989\tbest: 0.4795989 (70)\ttotal: 467ms\tremaining: 6.11s\n",
      "71:\tlearn: 0.4134040\ttest: 0.4793211\tbest: 0.4793211 (71)\ttotal: 473ms\tremaining: 6.09s\n",
      "72:\tlearn: 0.4127035\ttest: 0.4788770\tbest: 0.4788770 (72)\ttotal: 478ms\tremaining: 6.07s\n",
      "73:\tlearn: 0.4119468\ttest: 0.4786754\tbest: 0.4786754 (73)\ttotal: 484ms\tremaining: 6.06s\n",
      "74:\tlearn: 0.4111084\ttest: 0.4785726\tbest: 0.4785726 (74)\ttotal: 489ms\tremaining: 6.03s\n",
      "75:\tlearn: 0.4100364\ttest: 0.4783899\tbest: 0.4783899 (75)\ttotal: 495ms\tremaining: 6.02s\n",
      "76:\tlearn: 0.4085601\ttest: 0.4781015\tbest: 0.4781015 (76)\ttotal: 501ms\tremaining: 6s\n",
      "77:\tlearn: 0.4079884\ttest: 0.4782209\tbest: 0.4781015 (76)\ttotal: 506ms\tremaining: 5.98s\n",
      "78:\tlearn: 0.4071755\ttest: 0.4779033\tbest: 0.4779033 (78)\ttotal: 512ms\tremaining: 5.97s\n",
      "79:\tlearn: 0.4061743\ttest: 0.4777256\tbest: 0.4777256 (79)\ttotal: 517ms\tremaining: 5.94s\n",
      "80:\tlearn: 0.4056726\ttest: 0.4776832\tbest: 0.4776832 (80)\ttotal: 522ms\tremaining: 5.93s\n",
      "81:\tlearn: 0.4049782\ttest: 0.4769294\tbest: 0.4769294 (81)\ttotal: 528ms\tremaining: 5.91s\n",
      "82:\tlearn: 0.4040183\ttest: 0.4764736\tbest: 0.4764736 (82)\ttotal: 534ms\tremaining: 5.9s\n",
      "83:\tlearn: 0.4032940\ttest: 0.4767592\tbest: 0.4764736 (82)\ttotal: 539ms\tremaining: 5.88s\n",
      "84:\tlearn: 0.4025163\ttest: 0.4767427\tbest: 0.4764736 (82)\ttotal: 545ms\tremaining: 5.87s\n",
      "85:\tlearn: 0.4009811\ttest: 0.4765649\tbest: 0.4764736 (82)\ttotal: 551ms\tremaining: 5.85s\n",
      "86:\tlearn: 0.4004425\ttest: 0.4762965\tbest: 0.4762965 (86)\ttotal: 556ms\tremaining: 5.84s\n",
      "87:\tlearn: 0.3995768\ttest: 0.4762309\tbest: 0.4762309 (87)\ttotal: 562ms\tremaining: 5.82s\n",
      "88:\tlearn: 0.3988180\ttest: 0.4764010\tbest: 0.4762309 (87)\ttotal: 567ms\tremaining: 5.81s\n",
      "89:\tlearn: 0.3979280\ttest: 0.4763607\tbest: 0.4762309 (87)\ttotal: 573ms\tremaining: 5.79s\n",
      "90:\tlearn: 0.3968675\ttest: 0.4758176\tbest: 0.4758176 (90)\ttotal: 578ms\tremaining: 5.77s\n",
      "91:\tlearn: 0.3962291\ttest: 0.4755274\tbest: 0.4755274 (91)\ttotal: 584ms\tremaining: 5.76s\n",
      "92:\tlearn: 0.3953787\ttest: 0.4755088\tbest: 0.4755088 (92)\ttotal: 591ms\tremaining: 5.76s\n",
      "93:\tlearn: 0.3943453\ttest: 0.4759200\tbest: 0.4755088 (92)\ttotal: 596ms\tremaining: 5.75s\n",
      "94:\tlearn: 0.3937552\ttest: 0.4761709\tbest: 0.4755088 (92)\ttotal: 602ms\tremaining: 5.73s\n",
      "95:\tlearn: 0.3928234\ttest: 0.4759981\tbest: 0.4755088 (92)\ttotal: 608ms\tremaining: 5.72s\n",
      "96:\tlearn: 0.3919268\ttest: 0.4762457\tbest: 0.4755088 (92)\ttotal: 613ms\tremaining: 5.71s\n",
      "97:\tlearn: 0.3913619\ttest: 0.4762879\tbest: 0.4755088 (92)\ttotal: 618ms\tremaining: 5.69s\n",
      "98:\tlearn: 0.3908737\ttest: 0.4760443\tbest: 0.4755088 (92)\ttotal: 624ms\tremaining: 5.68s\n",
      "99:\tlearn: 0.3903973\ttest: 0.4763825\tbest: 0.4755088 (92)\ttotal: 630ms\tremaining: 5.67s\n",
      "100:\tlearn: 0.3897494\ttest: 0.4761605\tbest: 0.4755088 (92)\ttotal: 636ms\tremaining: 5.66s\n",
      "101:\tlearn: 0.3889548\ttest: 0.4756168\tbest: 0.4755088 (92)\ttotal: 641ms\tremaining: 5.64s\n",
      "102:\tlearn: 0.3883612\ttest: 0.4750448\tbest: 0.4750448 (102)\ttotal: 646ms\tremaining: 5.63s\n",
      "103:\tlearn: 0.3878040\ttest: 0.4748175\tbest: 0.4748175 (103)\ttotal: 652ms\tremaining: 5.61s\n",
      "104:\tlearn: 0.3868985\ttest: 0.4745920\tbest: 0.4745920 (104)\ttotal: 657ms\tremaining: 5.6s\n",
      "105:\tlearn: 0.3864491\ttest: 0.4746425\tbest: 0.4745920 (104)\ttotal: 663ms\tremaining: 5.59s\n",
      "106:\tlearn: 0.3856217\ttest: 0.4744812\tbest: 0.4744812 (106)\ttotal: 669ms\tremaining: 5.58s\n",
      "107:\tlearn: 0.3852547\ttest: 0.4740869\tbest: 0.4740869 (107)\ttotal: 674ms\tremaining: 5.57s\n",
      "108:\tlearn: 0.3845706\ttest: 0.4738667\tbest: 0.4738667 (108)\ttotal: 679ms\tremaining: 5.55s\n",
      "109:\tlearn: 0.3840039\ttest: 0.4743864\tbest: 0.4738667 (108)\ttotal: 685ms\tremaining: 5.54s\n",
      "110:\tlearn: 0.3835143\ttest: 0.4741558\tbest: 0.4738667 (108)\ttotal: 691ms\tremaining: 5.53s\n",
      "111:\tlearn: 0.3825993\ttest: 0.4740282\tbest: 0.4738667 (108)\ttotal: 696ms\tremaining: 5.52s\n",
      "112:\tlearn: 0.3817971\ttest: 0.4747438\tbest: 0.4738667 (108)\ttotal: 702ms\tremaining: 5.51s\n",
      "113:\tlearn: 0.3812170\ttest: 0.4745138\tbest: 0.4738667 (108)\ttotal: 708ms\tremaining: 5.5s\n",
      "114:\tlearn: 0.3803558\ttest: 0.4741308\tbest: 0.4738667 (108)\ttotal: 713ms\tremaining: 5.49s\n",
      "115:\tlearn: 0.3797515\ttest: 0.4738229\tbest: 0.4738229 (115)\ttotal: 718ms\tremaining: 5.47s\n",
      "116:\tlearn: 0.3786337\ttest: 0.4735137\tbest: 0.4735137 (116)\ttotal: 724ms\tremaining: 5.46s\n",
      "117:\tlearn: 0.3776660\ttest: 0.4733712\tbest: 0.4733712 (117)\ttotal: 730ms\tremaining: 5.45s\n",
      "118:\tlearn: 0.3768490\ttest: 0.4737786\tbest: 0.4733712 (117)\ttotal: 735ms\tremaining: 5.44s\n",
      "119:\tlearn: 0.3762508\ttest: 0.4740553\tbest: 0.4733712 (117)\ttotal: 741ms\tremaining: 5.43s\n",
      "120:\tlearn: 0.3758096\ttest: 0.4741516\tbest: 0.4733712 (117)\ttotal: 746ms\tremaining: 5.42s\n",
      "121:\tlearn: 0.3753217\ttest: 0.4738776\tbest: 0.4733712 (117)\ttotal: 751ms\tremaining: 5.41s\n",
      "122:\tlearn: 0.3746000\ttest: 0.4734786\tbest: 0.4733712 (117)\ttotal: 756ms\tremaining: 5.39s\n",
      "123:\tlearn: 0.3741349\ttest: 0.4737275\tbest: 0.4733712 (117)\ttotal: 762ms\tremaining: 5.38s\n",
      "124:\tlearn: 0.3734679\ttest: 0.4733995\tbest: 0.4733712 (117)\ttotal: 767ms\tremaining: 5.37s\n",
      "125:\tlearn: 0.3732228\ttest: 0.4736273\tbest: 0.4733712 (117)\ttotal: 772ms\tremaining: 5.35s\n",
      "126:\tlearn: 0.3722661\ttest: 0.4737985\tbest: 0.4733712 (117)\ttotal: 777ms\tremaining: 5.34s\n",
      "127:\tlearn: 0.3715948\ttest: 0.4736457\tbest: 0.4733712 (117)\ttotal: 783ms\tremaining: 5.34s\n",
      "128:\tlearn: 0.3704598\ttest: 0.4737448\tbest: 0.4733712 (117)\ttotal: 790ms\tremaining: 5.33s\n",
      "129:\tlearn: 0.3695624\ttest: 0.4729063\tbest: 0.4729063 (129)\ttotal: 796ms\tremaining: 5.32s\n",
      "130:\tlearn: 0.3691679\ttest: 0.4729881\tbest: 0.4729063 (129)\ttotal: 801ms\tremaining: 5.31s\n",
      "131:\tlearn: 0.3679815\ttest: 0.4724124\tbest: 0.4724124 (131)\ttotal: 806ms\tremaining: 5.3s\n",
      "132:\tlearn: 0.3670849\ttest: 0.4724128\tbest: 0.4724124 (131)\ttotal: 812ms\tremaining: 5.29s\n",
      "133:\tlearn: 0.3661323\ttest: 0.4722624\tbest: 0.4722624 (133)\ttotal: 817ms\tremaining: 5.28s\n",
      "134:\tlearn: 0.3649146\ttest: 0.4721837\tbest: 0.4721837 (134)\ttotal: 823ms\tremaining: 5.28s\n",
      "135:\tlearn: 0.3643910\ttest: 0.4726554\tbest: 0.4721837 (134)\ttotal: 829ms\tremaining: 5.27s\n",
      "136:\tlearn: 0.3635317\ttest: 0.4723578\tbest: 0.4721837 (134)\ttotal: 834ms\tremaining: 5.26s\n",
      "137:\tlearn: 0.3628997\ttest: 0.4728345\tbest: 0.4721837 (134)\ttotal: 840ms\tremaining: 5.25s\n",
      "138:\tlearn: 0.3621371\ttest: 0.4728052\tbest: 0.4721837 (134)\ttotal: 846ms\tremaining: 5.24s\n",
      "139:\tlearn: 0.3614461\ttest: 0.4728271\tbest: 0.4721837 (134)\ttotal: 851ms\tremaining: 5.23s\n",
      "140:\tlearn: 0.3609469\ttest: 0.4728071\tbest: 0.4721837 (134)\ttotal: 856ms\tremaining: 5.22s\n",
      "141:\tlearn: 0.3604882\ttest: 0.4727140\tbest: 0.4721837 (134)\ttotal: 861ms\tremaining: 5.21s\n",
      "142:\tlearn: 0.3599045\ttest: 0.4725335\tbest: 0.4721837 (134)\ttotal: 867ms\tremaining: 5.19s\n",
      "143:\tlearn: 0.3591692\ttest: 0.4733254\tbest: 0.4721837 (134)\ttotal: 872ms\tremaining: 5.18s\n",
      "144:\tlearn: 0.3584559\ttest: 0.4736941\tbest: 0.4721837 (134)\ttotal: 878ms\tremaining: 5.17s\n",
      "145:\tlearn: 0.3580317\ttest: 0.4739901\tbest: 0.4721837 (134)\ttotal: 883ms\tremaining: 5.16s\n",
      "146:\tlearn: 0.3575966\ttest: 0.4738558\tbest: 0.4721837 (134)\ttotal: 888ms\tremaining: 5.15s\n",
      "147:\tlearn: 0.3569468\ttest: 0.4733436\tbest: 0.4721837 (134)\ttotal: 893ms\tremaining: 5.14s\n",
      "148:\tlearn: 0.3560175\ttest: 0.4731461\tbest: 0.4721837 (134)\ttotal: 899ms\tremaining: 5.13s\n",
      "149:\tlearn: 0.3554634\ttest: 0.4734316\tbest: 0.4721837 (134)\ttotal: 904ms\tremaining: 5.12s\n",
      "150:\tlearn: 0.3549685\ttest: 0.4734131\tbest: 0.4721837 (134)\ttotal: 909ms\tremaining: 5.11s\n",
      "151:\tlearn: 0.3544940\ttest: 0.4731359\tbest: 0.4721837 (134)\ttotal: 915ms\tremaining: 5.1s\n",
      "152:\tlearn: 0.3541406\ttest: 0.4730462\tbest: 0.4721837 (134)\ttotal: 920ms\tremaining: 5.09s\n",
      "153:\tlearn: 0.3536964\ttest: 0.4727795\tbest: 0.4721837 (134)\ttotal: 926ms\tremaining: 5.08s\n",
      "154:\tlearn: 0.3532909\ttest: 0.4729281\tbest: 0.4721837 (134)\ttotal: 931ms\tremaining: 5.07s\n",
      "155:\tlearn: 0.3526591\ttest: 0.4726047\tbest: 0.4721837 (134)\ttotal: 936ms\tremaining: 5.07s\n",
      "156:\tlearn: 0.3523612\ttest: 0.4724983\tbest: 0.4721837 (134)\ttotal: 946ms\tremaining: 5.08s\n",
      "157:\tlearn: 0.3517377\ttest: 0.4721900\tbest: 0.4721837 (134)\ttotal: 952ms\tremaining: 5.07s\n",
      "158:\tlearn: 0.3507742\ttest: 0.4722829\tbest: 0.4721837 (134)\ttotal: 958ms\tremaining: 5.07s\n",
      "159:\tlearn: 0.3503350\ttest: 0.4723852\tbest: 0.4721837 (134)\ttotal: 964ms\tremaining: 5.06s\n",
      "Stopped by overfitting detector  (25 iterations wait)\n",
      "\n",
      "bestTest = 0.4721836535\n",
      "bestIteration = 134\n",
      "\n",
      "Shrink model to first 135 iterations.\n"
     ]
    }
   ],
   "source": [
    "# --- Catboost Classifier\n",
    "from catboost import CatBoostClassifier\n",
    "import ipywidgets # required for plotting with catboosts\n",
    "\n",
    "params = {\n",
    "    'random_seed': 42, \n",
    "    'verbose': True,\n",
    "    'thread_count': 4,\n",
    "    'devices': 'CPU',\n",
    "    'early_stopping_rounds': 25\n",
    "}\n",
    "\n",
    "cb_clf = CatBoostClassifier(**params)\n",
    "cb_clf.fit(X_train_sc,y_train, verbose = True, early_stopping_rounds = 25, plot = True, eval_set = (X_val_sc, y_val))\n",
    "y_cb_pred = cb_clf.predict(X_test_sc, thread_count = 4)\n",
    "y_cb_prob_pred = cb_clf.predict_proba(X_test_sc, thread_count = 4)"
   ]
  },
  {
   "cell_type": "markdown",
   "id": "bd3d0d6d",
   "metadata": {
    "papermill": {
     "duration": 0.01369,
     "end_time": "2023-12-15T18:56:27.858612",
     "exception": false,
     "start_time": "2023-12-15T18:56:27.844922",
     "status": "completed"
    },
    "tags": []
   },
   "source": [
    "## IV. Metrics"
   ]
  },
  {
   "cell_type": "code",
   "execution_count": 20,
   "id": "6a7294b9",
   "metadata": {
    "execution": {
     "iopub.execute_input": "2023-12-15T18:56:27.888525Z",
     "iopub.status.busy": "2023-12-15T18:56:27.888054Z",
     "iopub.status.idle": "2023-12-15T18:56:27.900504Z",
     "shell.execute_reply": "2023-12-15T18:56:27.899347Z"
    },
    "papermill": {
     "duration": 0.030103,
     "end_time": "2023-12-15T18:56:27.902756",
     "exception": false,
     "start_time": "2023-12-15T18:56:27.872653",
     "status": "completed"
    },
    "tags": []
   },
   "outputs": [],
   "source": [
    "# --- Creating a class to complete metrics \n",
    "from sklearn.metrics import accuracy_score, balanced_accuracy_score, confusion_matrix, ConfusionMatrixDisplay, classification_report, roc_auc_score\n",
    "class Metric:\n",
    "    \n",
    "    name_list = []\n",
    "    classifier_list = []\n",
    "    accuracy_list = []\n",
    "    roc_list = []\n",
    "    \n",
    "    def __init__(self, name_of_classifier, classifier, y_pred, y_pred_prob):\n",
    "        self.name = name_of_classifier\n",
    "        self.y_pred = y_pred\n",
    "        self.classifier = classifier\n",
    "        self.y_pred_prob = y_pred_prob\n",
    "        self.acc = accuracy_score(y_test, self.y_pred)\n",
    "        try:\n",
    "            self.roc = roc_auc_score(y_test,self.y_pred_prob, multi_class = 'ovr') # chose to use one vs rest\n",
    "        except:\n",
    "            self.roc = None\n",
    "            print(f'ROC AUC is not available for this classifier: {self.name}.')\n",
    "            \n",
    "    '''\n",
    "    Function: Provide metrics for a given classifier.\n",
    "    '''\n",
    "    def metrics_func(self):\n",
    "        self.bal_acc = balanced_accuracy_score(y_test, self.y_pred)\n",
    "        \n",
    "        # --- Confusion Matrix\n",
    "        cm = confusion_matrix(y_test, self.y_pred, labels = self.classifier.classes_)\n",
    "        disp = ConfusionMatrixDisplay(confusion_matrix = cm, display_labels = self.classifier.classes_)\n",
    "        \n",
    "        print('-'*75,'\\n',self.name)\n",
    "        disp.plot()\n",
    "        plt.show()\n",
    "        print(classification_report(y_test,self.y_pred))\n",
    "        print('*'*75,'\\n')\n",
    "        print(f'Accuracy: {self.acc}\\nBalanced Accuracy: {self.bal_acc}')\n",
    "        \n",
    "#     def append_metrics(self):\n",
    "#         self.name_list.append(self.name)\n",
    "#         self.classifier_list.append(self.classifier)\n",
    "#         self.accuracy_list.append(self.acc)\n",
    "#         self.roc_list.append(self.roc)\n",
    "    '''\n",
    "    Function: Appends to the Metric class variables.\n",
    "    '''\n",
    "    def append_metrics(self):\n",
    "        Metric.name_list.append(self.name)\n",
    "        Metric.classifier_list.append(self.classifier)\n",
    "        Metric.accuracy_list.append(self.acc)\n",
    "        Metric.roc_list.append(self.roc)\n",
    "    '''\n",
    "    Function: Clears the Metric class variables.\n",
    "    '''   \n",
    "    def clear_metrics():\n",
    "        Metric.name_list.clear()\n",
    "        Metric.classifier_list.clear()\n",
    "        Metric.accuracy_list.clear()\n",
    "        Metric.roc_list.clear()\n",
    "        \n",
    "    def create_dataframe():\n",
    "        df_dict = {'Name_of_classifier': Metric.name_list,\n",
    "                  'Classifier': Metric.classifier_list,\n",
    "                  'Accuracy': Metric.accuracy_list,\n",
    "                  'ROC': Metric.roc_list}\n",
    "        return pd.DataFrame(df_dict)\n",
    "        "
   ]
  },
  {
   "cell_type": "code",
   "execution_count": 21,
   "id": "6a65e132",
   "metadata": {
    "execution": {
     "iopub.execute_input": "2023-12-15T18:56:27.932772Z",
     "iopub.status.busy": "2023-12-15T18:56:27.932321Z",
     "iopub.status.idle": "2023-12-15T18:56:27.965178Z",
     "shell.execute_reply": "2023-12-15T18:56:27.963937Z"
    },
    "papermill": {
     "duration": 0.050535,
     "end_time": "2023-12-15T18:56:27.967562",
     "exception": false,
     "start_time": "2023-12-15T18:56:27.917027",
     "status": "completed"
    },
    "tags": []
   },
   "outputs": [
    {
     "name": "stdout",
     "output_type": "stream",
     "text": [
      "ROC AUC is not available for this classifier: XGBoostRF.\n"
     ]
    }
   ],
   "source": [
    "# --- Initializing metrics on classifiers\n",
    "decision_tree = Metric('Decision Tree', y_pred = y_dt_pred, y_pred_prob = y_dt_prob_pred, classifier = dt_sk)\n",
    "random_forest = Metric('Random Forest', y_pred = y_rf_pred, y_pred_prob = y_rf_prob_pred, classifier = rf_sk)\n",
    "xgbclassifier = Metric('XGBoost',  y_pred = y_xgbclf_pred, y_pred_prob = y_xgbclf_prob_pred, classifier = xgb_clf)\n",
    "xgbrfclassifier = Metric('XGBoostRF', y_pred = y_xgbrf_pred, y_pred_prob = y_xgbrf_prob_pred, classifier = xgbrf_clf)\n",
    "cb_classifier = Metric('Cat Boost', y_pred = y_cb_pred, y_pred_prob = y_cb_prob_pred, classifier = cb_clf)"
   ]
  },
  {
   "cell_type": "code",
   "execution_count": 22,
   "id": "d393d9cf",
   "metadata": {
    "execution": {
     "iopub.execute_input": "2023-12-15T18:56:27.997364Z",
     "iopub.status.busy": "2023-12-15T18:56:27.996933Z",
     "iopub.status.idle": "2023-12-15T18:56:28.002605Z",
     "shell.execute_reply": "2023-12-15T18:56:28.001404Z"
    },
    "papermill": {
     "duration": 0.02323,
     "end_time": "2023-12-15T18:56:28.004848",
     "exception": false,
     "start_time": "2023-12-15T18:56:27.981618",
     "status": "completed"
    },
    "tags": []
   },
   "outputs": [],
   "source": [
    "# --- Appends all calculated metrics to class lists\n",
    "decision_tree.append_metrics()\n",
    "random_forest.append_metrics()\n",
    "xgbclassifier.append_metrics()\n",
    "xgbrfclassifier.append_metrics()\n",
    "cb_classifier.append_metrics()"
   ]
  },
  {
   "cell_type": "code",
   "execution_count": 23,
   "id": "c698f15b",
   "metadata": {
    "execution": {
     "iopub.execute_input": "2023-12-15T18:56:28.035201Z",
     "iopub.status.busy": "2023-12-15T18:56:28.034775Z",
     "iopub.status.idle": "2023-12-15T18:56:28.041921Z",
     "shell.execute_reply": "2023-12-15T18:56:28.040683Z"
    },
    "papermill": {
     "duration": 0.025357,
     "end_time": "2023-12-15T18:56:28.044533",
     "exception": false,
     "start_time": "2023-12-15T18:56:28.019176",
     "status": "completed"
    },
    "tags": []
   },
   "outputs": [],
   "source": [
    "output_metric = Metric.create_dataframe()"
   ]
  },
  {
   "cell_type": "code",
   "execution_count": 24,
   "id": "a4ecfe09",
   "metadata": {
    "execution": {
     "iopub.execute_input": "2023-12-15T18:56:28.076028Z",
     "iopub.status.busy": "2023-12-15T18:56:28.075624Z",
     "iopub.status.idle": "2023-12-15T18:56:28.134716Z",
     "shell.execute_reply": "2023-12-15T18:56:28.133636Z"
    },
    "papermill": {
     "duration": 0.077197,
     "end_time": "2023-12-15T18:56:28.137032",
     "exception": false,
     "start_time": "2023-12-15T18:56:28.059835",
     "status": "completed"
    },
    "tags": []
   },
   "outputs": [
    {
     "data": {
      "text/html": [
       "<div>\n",
       "<style scoped>\n",
       "    .dataframe tbody tr th:only-of-type {\n",
       "        vertical-align: middle;\n",
       "    }\n",
       "\n",
       "    .dataframe tbody tr th {\n",
       "        vertical-align: top;\n",
       "    }\n",
       "\n",
       "    .dataframe thead th {\n",
       "        text-align: right;\n",
       "    }\n",
       "</style>\n",
       "<table border=\"1\" class=\"dataframe\">\n",
       "  <thead>\n",
       "    <tr style=\"text-align: right;\">\n",
       "      <th></th>\n",
       "      <th>Name_of_classifier</th>\n",
       "      <th>Classifier</th>\n",
       "      <th>Accuracy</th>\n",
       "      <th>ROC</th>\n",
       "    </tr>\n",
       "  </thead>\n",
       "  <tbody>\n",
       "    <tr>\n",
       "      <th>0</th>\n",
       "      <td>Decision Tree</td>\n",
       "      <td>DecisionTreeClassifier(random_state=42)</td>\n",
       "      <td>0.747628</td>\n",
       "      <td>0.684024</td>\n",
       "    </tr>\n",
       "    <tr>\n",
       "      <th>1</th>\n",
       "      <td>Random Forest</td>\n",
       "      <td>(DecisionTreeClassifier(max_features='sqrt', r...</td>\n",
       "      <td>0.824794</td>\n",
       "      <td>0.862560</td>\n",
       "    </tr>\n",
       "    <tr>\n",
       "      <th>2</th>\n",
       "      <td>XGBoost</td>\n",
       "      <td>XGBClassifier(base_score=None, booster=None, c...</td>\n",
       "      <td>0.826692</td>\n",
       "      <td>0.876836</td>\n",
       "    </tr>\n",
       "    <tr>\n",
       "      <th>3</th>\n",
       "      <td>XGBoostRF</td>\n",
       "      <td>XGBRFClassifier(base_score=None, booster=None,...</td>\n",
       "      <td>0.803922</td>\n",
       "      <td>NaN</td>\n",
       "    </tr>\n",
       "    <tr>\n",
       "      <th>4</th>\n",
       "      <td>Cat Boost</td>\n",
       "      <td>&lt;catboost.core.CatBoostClassifier object at 0x...</td>\n",
       "      <td>0.829222</td>\n",
       "      <td>0.880873</td>\n",
       "    </tr>\n",
       "  </tbody>\n",
       "</table>\n",
       "</div>"
      ],
      "text/plain": [
       "  Name_of_classifier                                         Classifier  \\\n",
       "0      Decision Tree            DecisionTreeClassifier(random_state=42)   \n",
       "1      Random Forest  (DecisionTreeClassifier(max_features='sqrt', r...   \n",
       "2            XGBoost  XGBClassifier(base_score=None, booster=None, c...   \n",
       "3          XGBoostRF  XGBRFClassifier(base_score=None, booster=None,...   \n",
       "4          Cat Boost  <catboost.core.CatBoostClassifier object at 0x...   \n",
       "\n",
       "   Accuracy       ROC  \n",
       "0  0.747628  0.684024  \n",
       "1  0.824794  0.862560  \n",
       "2  0.826692  0.876836  \n",
       "3  0.803922       NaN  \n",
       "4  0.829222  0.880873  "
      ]
     },
     "execution_count": 24,
     "metadata": {},
     "output_type": "execute_result"
    }
   ],
   "source": [
    "output_metric"
   ]
  },
  {
   "cell_type": "markdown",
   "id": "46f75e08",
   "metadata": {
    "papermill": {
     "duration": 0.014676,
     "end_time": "2023-12-15T18:56:28.166921",
     "exception": false,
     "start_time": "2023-12-15T18:56:28.152245",
     "status": "completed"
    },
    "tags": []
   },
   "source": [
    "**Notes:** Need to handle class imbalance. Big disparity in class labeling."
   ]
  }
 ],
 "metadata": {
  "kaggle": {
   "accelerator": "none",
   "dataSources": [
    {
     "databundleVersionId": 7000181,
     "sourceId": 60893,
     "sourceType": "competition"
    }
   ],
   "dockerImageVersionId": 30615,
   "isGpuEnabled": false,
   "isInternetEnabled": true,
   "language": "python",
   "sourceType": "notebook"
  },
  "kernelspec": {
   "display_name": "Python 3",
   "language": "python",
   "name": "python3"
  },
  "language_info": {
   "codemirror_mode": {
    "name": "ipython",
    "version": 3
   },
   "file_extension": ".py",
   "mimetype": "text/x-python",
   "name": "python",
   "nbconvert_exporter": "python",
   "pygments_lexer": "ipython3",
   "version": "3.10.12"
  },
  "papermill": {
   "default_parameters": {},
   "duration": 20.59985,
   "end_time": "2023-12-15T18:56:29.306280",
   "environment_variables": {},
   "exception": null,
   "input_path": "__notebook__.ipynb",
   "output_path": "__notebook__.ipynb",
   "parameters": {},
   "start_time": "2023-12-15T18:56:08.706430",
   "version": "2.4.0"
  },
  "widgets": {
   "application/vnd.jupyter.widget-state+json": {
    "state": {
     "07a01757e9784b20b76982144aa5640e": {
      "model_module": "catboost-widget",
      "model_module_version": "^1.0.0",
      "model_name": "CatboostWidgetModel",
      "state": {
       "_dom_classes": [],
       "_model_module": "catboost-widget",
       "_model_module_version": "^1.0.0",
       "_model_name": "CatboostWidgetModel",
       "_view_count": null,
       "_view_module": "catboost-widget",
       "_view_module_version": "^1.0.0",
       "_view_name": "CatboostWidgetView",
       "data": {
        "catboost_info": {
         "content": {
          "data": {
           "iterations": [
            {
             "iteration": 0,
             "learn": [
              0.9892895238
             ],
             "passed_time": 0.06234267279,
             "remaining_time": 62.28033012,
             "test": [
              0.9919967821
             ]
            },
            {
             "iteration": 1,
             "learn": [
              0.9045884434
             ],
             "passed_time": 0.06876006642,
             "remaining_time": 34.31127314,
             "test": [
              0.907832676
             ]
            },
            {
             "iteration": 2,
             "learn": [
              0.838154261
             ],
             "passed_time": 0.07473622545,
             "remaining_time": 24.83733892,
             "test": [
              0.8439784149
             ]
            },
            {
             "iteration": 3,
             "learn": [
              0.7839608627
             ],
             "passed_time": 0.08053410572,
             "remaining_time": 20.05299232,
             "test": [
              0.7903251913
             ]
            },
            {
             "iteration": 4,
             "learn": [
              0.7396798046
             ],
             "passed_time": 0.08604769816,
             "remaining_time": 17.12349193,
             "test": [
              0.7471729595
             ]
            },
            {
             "iteration": 5,
             "learn": [
              0.7037519169
             ],
             "passed_time": 0.09182978829,
             "remaining_time": 15.21313493,
             "test": [
              0.7126254663
             ]
            },
            {
             "iteration": 6,
             "learn": [
              0.6733086559
             ],
             "passed_time": 0.09811623083,
             "remaining_time": 13.91848817,
             "test": [
              0.6825362889
             ]
            },
            {
             "iteration": 7,
             "learn": [
              0.6459126361
             ],
             "passed_time": 0.1043861769,
             "remaining_time": 12.94388593,
             "test": [
              0.6564679722
             ]
            },
            {
             "iteration": 8,
             "learn": [
              0.6230299867
             ],
             "passed_time": 0.1102720115,
             "remaining_time": 12.14217371,
             "test": [
              0.6341680173
             ]
            },
            {
             "iteration": 9,
             "learn": [
              0.6042912179
             ],
             "passed_time": 0.1161331914,
             "remaining_time": 11.49718595,
             "test": [
              0.6169027748
             ]
            },
            {
             "iteration": 10,
             "learn": [
              0.5877276737
             ],
             "passed_time": 0.1218601274,
             "remaining_time": 10.95633328,
             "test": [
              0.6007940568
             ]
            },
            {
             "iteration": 11,
             "learn": [
              0.5723507846
             ],
             "passed_time": 0.1281143479,
             "remaining_time": 10.54808131,
             "test": [
              0.5864723206
             ]
            },
            {
             "iteration": 12,
             "learn": [
              0.5588959697
             ],
             "passed_time": 0.1340342946,
             "remaining_time": 10.17629606,
             "test": [
              0.5729471839
             ]
            },
            {
             "iteration": 13,
             "learn": [
              0.5485446016
             ],
             "passed_time": 0.1399512859,
             "remaining_time": 9.856569134,
             "test": [
              0.5638996218
             ]
            },
            {
             "iteration": 14,
             "learn": [
              0.5378414815
             ],
             "passed_time": 0.1458017884,
             "remaining_time": 9.574317439,
             "test": [
              0.5553575175
             ]
            },
            {
             "iteration": 15,
             "learn": [
              0.528516897
             ],
             "passed_time": 0.1519027176,
             "remaining_time": 9.342017131,
             "test": [
              0.5471244166
             ]
            },
            {
             "iteration": 16,
             "learn": [
              0.5202262857
             ],
             "passed_time": 0.1574050154,
             "remaining_time": 9.101713536,
             "test": [
              0.5405563596
             ]
            },
            {
             "iteration": 17,
             "learn": [
              0.5131643504
             ],
             "passed_time": 0.1633282858,
             "remaining_time": 8.910465369,
             "test": [
              0.5343902791
             ]
            },
            {
             "iteration": 18,
             "learn": [
              0.5065272085
             ],
             "passed_time": 0.1690437172,
             "remaining_time": 8.727994029,
             "test": [
              0.5296815388
             ]
            },
            {
             "iteration": 19,
             "learn": [
              0.5012898495
             ],
             "passed_time": 0.1747814015,
             "remaining_time": 8.564288673,
             "test": [
              0.5256574681
             ]
            },
            {
             "iteration": 20,
             "learn": [
              0.4962746855
             ],
             "passed_time": 0.1804426115,
             "remaining_time": 8.412062699,
             "test": [
              0.5217741317
             ]
            },
            {
             "iteration": 21,
             "learn": [
              0.4909657069
             ],
             "passed_time": 0.1894196938,
             "remaining_time": 8.420566389,
             "test": [
              0.518174926
             ]
            },
            {
             "iteration": 22,
             "learn": [
              0.4872715085
             ],
             "passed_time": 0.1952247014,
             "remaining_time": 8.292805795,
             "test": [
              0.5156389551
             ]
            },
            {
             "iteration": 23,
             "learn": [
              0.4830155397
             ],
             "passed_time": 0.2007376957,
             "remaining_time": 8.163332957,
             "test": [
              0.5127248502
             ]
            },
            {
             "iteration": 24,
             "learn": [
              0.4798695328
             ],
             "passed_time": 0.2066732598,
             "remaining_time": 8.060257133,
             "test": [
              0.5105216751
             ]
            },
            {
             "iteration": 25,
             "learn": [
              0.4766298282
             ],
             "passed_time": 0.2123578137,
             "remaining_time": 7.955250405,
             "test": [
              0.5079934135
             ]
            },
            {
             "iteration": 26,
             "learn": [
              0.4733707509
             ],
             "passed_time": 0.2184546555,
             "remaining_time": 7.872458513,
             "test": [
              0.5055084471
             ]
            },
            {
             "iteration": 27,
             "learn": [
              0.4704386819
             ],
             "passed_time": 0.2246817967,
             "remaining_time": 7.799668084,
             "test": [
              0.5032393294
             ]
            },
            {
             "iteration": 28,
             "learn": [
              0.4686455015
             ],
             "passed_time": 0.2287264741,
             "remaining_time": 7.658393323,
             "test": [
              0.5015224133
             ]
            },
            {
             "iteration": 29,
             "learn": [
              0.4660541854
             ],
             "passed_time": 0.2347634746,
             "remaining_time": 7.590685677,
             "test": [
              0.5001422973
             ]
            },
            {
             "iteration": 30,
             "learn": [
              0.4632842938
             ],
             "passed_time": 0.2409731155,
             "remaining_time": 7.532353192,
             "test": [
              0.4985405816
             ]
            },
            {
             "iteration": 31,
             "learn": [
              0.4613038423
             ],
             "passed_time": 0.246715779,
             "remaining_time": 7.463152314,
             "test": [
              0.4967938955
             ]
            },
            {
             "iteration": 32,
             "learn": [
              0.4594181358
             ],
             "passed_time": 0.2522686236,
             "remaining_time": 7.392235121,
             "test": [
              0.4957606123
             ]
            },
            {
             "iteration": 33,
             "learn": [
              0.4577299331
             ],
             "passed_time": 0.2582946094,
             "remaining_time": 7.338605666,
             "test": [
              0.4949086261
             ]
            },
            {
             "iteration": 34,
             "learn": [
              0.4559751693
             ],
             "passed_time": 0.2640239554,
             "remaining_time": 7.279517628,
             "test": [
              0.4935395678
             ]
            },
            {
             "iteration": 35,
             "learn": [
              0.4544841771
             ],
             "passed_time": 0.269459209,
             "remaining_time": 7.21551882,
             "test": [
              0.4932594237
             ]
            },
            {
             "iteration": 36,
             "learn": [
              0.452907744
             ],
             "passed_time": 0.2749823752,
             "remaining_time": 7.156973711,
             "test": [
              0.4920310158
             ]
            },
            {
             "iteration": 37,
             "learn": [
              0.4517416279
             ],
             "passed_time": 0.2806184441,
             "remaining_time": 7.104077453,
             "test": [
              0.4917696214
             ]
            },
            {
             "iteration": 38,
             "learn": [
              0.4497739183
             ],
             "passed_time": 0.2865949577,
             "remaining_time": 7.061993701,
             "test": [
              0.4915127508
             ]
            },
            {
             "iteration": 39,
             "learn": [
              0.4481981167
             ],
             "passed_time": 0.2920905554,
             "remaining_time": 7.01017333,
             "test": [
              0.4902690636
             ]
            },
            {
             "iteration": 40,
             "learn": [
              0.4465590173
             ],
             "passed_time": 0.2979339252,
             "remaining_time": 6.968747176,
             "test": [
              0.4901325835
             ]
            },
            {
             "iteration": 41,
             "learn": [
              0.4450149272
             ],
             "passed_time": 0.3034714387,
             "remaining_time": 6.922039007,
             "test": [
              0.4895589643
             ]
            },
            {
             "iteration": 42,
             "learn": [
              0.4436192256
             ],
             "passed_time": 0.3088903422,
             "remaining_time": 6.874605988,
             "test": [
              0.4897159809
             ]
            },
            {
             "iteration": 43,
             "learn": [
              0.4418655832
             ],
             "passed_time": 0.3145104373,
             "remaining_time": 6.833454047,
             "test": [
              0.4889347328
             ]
            },
            {
             "iteration": 44,
             "learn": [
              0.4405211505
             ],
             "passed_time": 0.3200577864,
             "remaining_time": 6.792337467,
             "test": [
              0.4879294083
             ]
            },
            {
             "iteration": 45,
             "learn": [
              0.4396415204
             ],
             "passed_time": 0.325341566,
             "remaining_time": 6.747301174,
             "test": [
              0.4872677616
             ]
            },
            {
             "iteration": 46,
             "learn": [
              0.4382420135
             ],
             "passed_time": 0.3306956335,
             "remaining_time": 6.705381675,
             "test": [
              0.4871317634
             ]
            },
            {
             "iteration": 47,
             "learn": [
              0.4371346706
             ],
             "passed_time": 0.3361276725,
             "remaining_time": 6.666532172,
             "test": [
              0.4865502982
             ]
            },
            {
             "iteration": 48,
             "learn": [
              0.4357892743
             ],
             "passed_time": 0.3416111638,
             "remaining_time": 6.63004524,
             "test": [
              0.4862437143
             ]
            },
            {
             "iteration": 49,
             "learn": [
              0.4346212213
             ],
             "passed_time": 0.3471843586,
             "remaining_time": 6.596502812,
             "test": [
              0.4855923077
             ]
            },
            {
             "iteration": 50,
             "learn": [
              0.4331709505
             ],
             "passed_time": 0.3527632352,
             "remaining_time": 6.564162945,
             "test": [
              0.4853189795
             ]
            },
            {
             "iteration": 51,
             "learn": [
              0.4326363555
             ],
             "passed_time": 0.3579881279,
             "remaining_time": 6.526398948,
             "test": [
              0.4853118344
             ]
            },
            {
             "iteration": 52,
             "learn": [
              0.431016911
             ],
             "passed_time": 0.3637049693,
             "remaining_time": 6.498652943,
             "test": [
              0.4840421862
             ]
            },
            {
             "iteration": 53,
             "learn": [
              0.4302591571
             ],
             "passed_time": 0.3689875971,
             "remaining_time": 6.464116053,
             "test": [
              0.4842442226
             ]
            },
            {
             "iteration": 54,
             "learn": [
              0.4289944632
             ],
             "passed_time": 0.3744312226,
             "remaining_time": 6.433409188,
             "test": [
              0.4837337813
             ]
            },
            {
             "iteration": 55,
             "learn": [
              0.427901485
             ],
             "passed_time": 0.3802910643,
             "remaining_time": 6.410620798,
             "test": [
              0.4832606948
             ]
            },
            {
             "iteration": 56,
             "learn": [
              0.4271941099
             ],
             "passed_time": 0.3862363803,
             "remaining_time": 6.389840468,
             "test": [
              0.4829949334
             ]
            },
            {
             "iteration": 57,
             "learn": [
              0.4260954549
             ],
             "passed_time": 0.3930516973,
             "remaining_time": 6.383701704,
             "test": [
              0.482597486
             ]
            },
            {
             "iteration": 58,
             "learn": [
              0.4254788231
             ],
             "passed_time": 0.398431765,
             "remaining_time": 6.354648998,
             "test": [
              0.4822299961
             ]
            },
            {
             "iteration": 59,
             "learn": [
              0.4248177165
             ],
             "passed_time": 0.4038510121,
             "remaining_time": 6.326999189,
             "test": [
              0.4821700978
             ]
            },
            {
             "iteration": 60,
             "learn": [
              0.4239603554
             ],
             "passed_time": 0.409102616,
             "remaining_time": 6.297497646,
             "test": [
              0.4817480771
             ]
            },
            {
             "iteration": 61,
             "learn": [
              0.4226775717
             ],
             "passed_time": 0.41491366,
             "remaining_time": 6.277242146,
             "test": [
              0.4811936255
             ]
            },
            {
             "iteration": 62,
             "learn": [
              0.4219461775
             ],
             "passed_time": 0.4204909384,
             "remaining_time": 6.253968402,
             "test": [
              0.4819449689
             ]
            },
            {
             "iteration": 63,
             "learn": [
              0.4213189193
             ],
             "passed_time": 0.4258870281,
             "remaining_time": 6.228597785,
             "test": [
              0.4822043988
             ]
            },
            {
             "iteration": 64,
             "learn": [
              0.4204339188
             ],
             "passed_time": 0.4313841404,
             "remaining_time": 6.205294942,
             "test": [
              0.4816524195
             ]
            },
            {
             "iteration": 65,
             "learn": [
              0.4192165993
             ],
             "passed_time": 0.4370549205,
             "remaining_time": 6.184989329,
             "test": [
              0.4808017282
             ]
            },
            {
             "iteration": 66,
             "learn": [
              0.4178112346
             ],
             "passed_time": 0.4447595794,
             "remaining_time": 6.193443098,
             "test": [
              0.4804948446
             ]
            },
            {
             "iteration": 67,
             "learn": [
              0.416751187
             ],
             "passed_time": 0.4502579372,
             "remaining_time": 6.171182315,
             "test": [
              0.480287066
             ]
            },
            {
             "iteration": 68,
             "learn": [
              0.4158673072
             ],
             "passed_time": 0.4559002125,
             "remaining_time": 6.151349244,
             "test": [
              0.4805309106
             ]
            },
            {
             "iteration": 69,
             "learn": [
              0.4145839321
             ],
             "passed_time": 0.4615877337,
             "remaining_time": 6.132522747,
             "test": [
              0.4797390872
             ]
            },
            {
             "iteration": 70,
             "learn": [
              0.4138993152
             ],
             "passed_time": 0.4671975905,
             "remaining_time": 6.113050164,
             "test": [
              0.4795989267
             ]
            },
            {
             "iteration": 71,
             "learn": [
              0.4134039522
             ],
             "passed_time": 0.4727288613,
             "remaining_time": 6.092949768,
             "test": [
              0.4793211389
             ]
            },
            {
             "iteration": 72,
             "learn": [
              0.4127034901
             ],
             "passed_time": 0.478183316,
             "remaining_time": 6.072273067,
             "test": [
              0.4788770065
             ]
            },
            {
             "iteration": 73,
             "learn": [
              0.4119467965
             ],
             "passed_time": 0.4840424477,
             "remaining_time": 6.05707171,
             "test": [
              0.4786754154
             ]
            },
            {
             "iteration": 74,
             "learn": [
              0.4111083921
             ],
             "passed_time": 0.4893155299,
             "remaining_time": 6.034891536,
             "test": [
              0.4785726442
             ]
            },
            {
             "iteration": 75,
             "learn": [
              0.410036404
             ],
             "passed_time": 0.4948679081,
             "remaining_time": 6.016551936,
             "test": [
              0.4783899425
             ]
            },
            {
             "iteration": 76,
             "learn": [
              0.4085600848
             ],
             "passed_time": 0.5006344827,
             "remaining_time": 6.001112046,
             "test": [
              0.4781015075
             ]
            },
            {
             "iteration": 77,
             "learn": [
              0.4079883567
             ],
             "passed_time": 0.5061054039,
             "remaining_time": 5.982425415,
             "test": [
              0.4782208952
             ]
            },
            {
             "iteration": 78,
             "learn": [
              0.4071754773
             ],
             "passed_time": 0.5117438773,
             "remaining_time": 5.966026722,
             "test": [
              0.4779032849
             ]
            },
            {
             "iteration": 79,
             "learn": [
              0.4061742732
             ],
             "passed_time": 0.5168793203,
             "remaining_time": 5.944112183,
             "test": [
              0.4777256376
             ]
            },
            {
             "iteration": 80,
             "learn": [
              0.4056725503
             ],
             "passed_time": 0.5224041001,
             "remaining_time": 5.927029234,
             "test": [
              0.47768322
             ]
            },
            {
             "iteration": 81,
             "learn": [
              0.4049781924
             ],
             "passed_time": 0.5277341392,
             "remaining_time": 5.908048046,
             "test": [
              0.4769293757
             ]
            },
            {
             "iteration": 82,
             "learn": [
              0.404018261
             ],
             "passed_time": 0.5337114382,
             "remaining_time": 5.896546853,
             "test": [
              0.4764736085
             ]
            },
            {
             "iteration": 83,
             "learn": [
              0.4032939978
             ],
             "passed_time": 0.5394360888,
             "remaining_time": 5.882422111,
             "test": [
              0.476759179
             ]
            },
            {
             "iteration": 84,
             "learn": [
              0.402516338
             ],
             "passed_time": 0.5450969052,
             "remaining_time": 5.867807861,
             "test": [
              0.4767426964
             ]
            },
            {
             "iteration": 85,
             "learn": [
              0.4009810967
             ],
             "passed_time": 0.5506570789,
             "remaining_time": 5.852332211,
             "test": [
              0.476564893
             ]
            },
            {
             "iteration": 86,
             "learn": [
              0.400442466
             ],
             "passed_time": 0.5561340765,
             "remaining_time": 5.83621163,
             "test": [
              0.4762964655
             ]
            },
            {
             "iteration": 87,
             "learn": [
              0.3995768167
             ],
             "passed_time": 0.5619426759,
             "remaining_time": 5.823769551,
             "test": [
              0.4762309411
             ]
            },
            {
             "iteration": 88,
             "learn": [
              0.3988180365
             ],
             "passed_time": 0.5672871806,
             "remaining_time": 5.806726084,
             "test": [
              0.4764010452
             ]
            },
            {
             "iteration": 89,
             "learn": [
              0.3979279863
             ],
             "passed_time": 0.5726049941,
             "remaining_time": 5.789672718,
             "test": [
              0.4763606909
             ]
            },
            {
             "iteration": 90,
             "learn": [
              0.3968675433
             ],
             "passed_time": 0.5780628434,
             "remaining_time": 5.774276095,
             "test": [
              0.4758176271
             ]
            },
            {
             "iteration": 91,
             "learn": [
              0.3962290791
             ],
             "passed_time": 0.5837576855,
             "remaining_time": 5.761434548,
             "test": [
              0.4755274017
             ]
            },
            {
             "iteration": 92,
             "learn": [
              0.3953786752
             ],
             "passed_time": 0.5905034719,
             "remaining_time": 5.758996226,
             "test": [
              0.4755087873
             ]
            },
            {
             "iteration": 93,
             "learn": [
              0.3943453081
             ],
             "passed_time": 0.5963478525,
             "remaining_time": 5.747778238,
             "test": [
              0.4759199978
             ]
            },
            {
             "iteration": 94,
             "learn": [
              0.3937551653
             ],
             "passed_time": 0.6020029671,
             "remaining_time": 5.73487037,
             "test": [
              0.4761708986
             ]
            },
            {
             "iteration": 95,
             "learn": [
              0.3928234061
             ],
             "passed_time": 0.6075235777,
             "remaining_time": 5.720847024,
             "test": [
              0.4759980599
             ]
            },
            {
             "iteration": 96,
             "learn": [
              0.3919268027
             ],
             "passed_time": 0.6130005126,
             "remaining_time": 5.706592401,
             "test": [
              0.4762457063
             ]
            },
            {
             "iteration": 97,
             "learn": [
              0.3913619293
             ],
             "passed_time": 0.618482992,
             "remaining_time": 5.692567947,
             "test": [
              0.4762879106
             ]
            },
            {
             "iteration": 98,
             "learn": [
              0.390873731
             ],
             "passed_time": 0.6240230974,
             "remaining_time": 5.679240513,
             "test": [
              0.4760442698
             ]
            },
            {
             "iteration": 99,
             "learn": [
              0.390397317
             ],
             "passed_time": 0.6297786674,
             "remaining_time": 5.668008006,
             "test": [
              0.4763825489
             ]
            },
            {
             "iteration": 100,
             "learn": [
              0.3897493649
             ],
             "passed_time": 0.6355466456,
             "remaining_time": 5.6569944,
             "test": [
              0.4761604773
             ]
            },
            {
             "iteration": 101,
             "learn": [
              0.388954802
             ],
             "passed_time": 0.6411121012,
             "remaining_time": 5.644300655,
             "test": [
              0.4756167533
             ]
            },
            {
             "iteration": 102,
             "learn": [
              0.3883612074
             ],
             "passed_time": 0.6463591659,
             "remaining_time": 5.628972542,
             "test": [
              0.4750448202
             ]
            },
            {
             "iteration": 103,
             "learn": [
              0.387804006
             ],
             "passed_time": 0.6516871332,
             "remaining_time": 5.614535301,
             "test": [
              0.4748174821
             ]
            },
            {
             "iteration": 104,
             "learn": [
              0.3868985279
             ],
             "passed_time": 0.6574289784,
             "remaining_time": 5.603799387,
             "test": [
              0.4745919955
             ]
            },
            {
             "iteration": 105,
             "learn": [
              0.3864490606
             ],
             "passed_time": 0.6630792193,
             "remaining_time": 5.592385113,
             "test": [
              0.4746425129
             ]
            },
            {
             "iteration": 106,
             "learn": [
              0.3856217322
             ],
             "passed_time": 0.6687898461,
             "remaining_time": 5.581582547,
             "test": [
              0.4744811673
             ]
            },
            {
             "iteration": 107,
             "learn": [
              0.3852546504
             ],
             "passed_time": 0.6740222816,
             "remaining_time": 5.56692477,
             "test": [
              0.474086942
             ]
            },
            {
             "iteration": 108,
             "learn": [
              0.3845706082
             ],
             "passed_time": 0.6792391989,
             "remaining_time": 5.552313084,
             "test": [
              0.4738666809
             ]
            },
            {
             "iteration": 109,
             "learn": [
              0.3840039188
             ],
             "passed_time": 0.6849376247,
             "remaining_time": 5.541768054,
             "test": [
              0.4743864133
             ]
            },
            {
             "iteration": 110,
             "learn": [
              0.3835143411
             ],
             "passed_time": 0.6906654907,
             "remaining_time": 5.531546137,
             "test": [
              0.474155816
             ]
            },
            {
             "iteration": 111,
             "learn": [
              0.3825993262
             ],
             "passed_time": 0.6959845442,
             "remaining_time": 5.518163172,
             "test": [
              0.4740282146
             ]
            },
            {
             "iteration": 112,
             "learn": [
              0.3817970585
             ],
             "passed_time": 0.7016244496,
             "remaining_time": 5.507441476,
             "test": [
              0.4747437923
             ]
            },
            {
             "iteration": 113,
             "learn": [
              0.3812169976
             ],
             "passed_time": 0.7076062632,
             "remaining_time": 5.499466221,
             "test": [
              0.4745137838
             ]
            },
            {
             "iteration": 114,
             "learn": [
              0.3803558301
             ],
             "passed_time": 0.7132300184,
             "remaining_time": 5.488770141,
             "test": [
              0.4741307611
             ]
            },
            {
             "iteration": 115,
             "learn": [
              0.3797514882
             ],
             "passed_time": 0.7183773468,
             "remaining_time": 5.474530815,
             "test": [
              0.4738228797
             ]
            },
            {
             "iteration": 116,
             "learn": [
              0.3786336514
             ],
             "passed_time": 0.7240333905,
             "remaining_time": 5.464286186,
             "test": [
              0.4735137407
             ]
            },
            {
             "iteration": 117,
             "learn": [
              0.377666014
             ],
             "passed_time": 0.7297613756,
             "remaining_time": 5.454657062,
             "test": [
              0.4733711878
             ]
            },
            {
             "iteration": 118,
             "learn": [
              0.3768489524
             ],
             "passed_time": 0.7354539386,
             "remaining_time": 5.44483126,
             "test": [
              0.4737785704
             ]
            },
            {
             "iteration": 119,
             "learn": [
              0.3762508248
             ],
             "passed_time": 0.7407785568,
             "remaining_time": 5.432376083,
             "test": [
              0.4740552868
             ]
            },
            {
             "iteration": 120,
             "learn": [
              0.3758096233
             ],
             "passed_time": 0.7461088504,
             "remaining_time": 5.420079996,
             "test": [
              0.4741515941
             ]
            },
            {
             "iteration": 121,
             "learn": [
              0.375321689
             ],
             "passed_time": 0.7511904819,
             "remaining_time": 5.40610855,
             "test": [
              0.4738775824
             ]
            },
            {
             "iteration": 122,
             "learn": [
              0.3745999896
             ],
             "passed_time": 0.7564570741,
             "remaining_time": 5.393600439,
             "test": [
              0.4734786451
             ]
            },
            {
             "iteration": 123,
             "learn": [
              0.3741349499
             ],
             "passed_time": 0.7615587459,
             "remaining_time": 5.380044043,
             "test": [
              0.473727498
             ]
            },
            {
             "iteration": 124,
             "learn": [
              0.3734678836
             ],
             "passed_time": 0.7667803922,
             "remaining_time": 5.367462746,
             "test": [
              0.4733994892
             ]
            },
            {
             "iteration": 125,
             "learn": [
              0.3732228492
             ],
             "passed_time": 0.7719369335,
             "remaining_time": 5.354546666,
             "test": [
              0.4736273151
             ]
            },
            {
             "iteration": 126,
             "learn": [
              0.3722660988
             ],
             "passed_time": 0.7772590089,
             "remaining_time": 5.342890667,
             "test": [
              0.4737984549
             ]
            },
            {
             "iteration": 127,
             "learn": [
              0.3715948148
             ],
             "passed_time": 0.7833442234,
             "remaining_time": 5.336532522,
             "test": [
              0.4736457204
             ]
            },
            {
             "iteration": 128,
             "learn": [
              0.3704598432
             ],
             "passed_time": 0.789922222,
             "remaining_time": 5.333505855,
             "test": [
              0.4737447547
             ]
            },
            {
             "iteration": 129,
             "learn": [
              0.3695623966
             ],
             "passed_time": 0.7956136741,
             "remaining_time": 5.324491511,
             "test": [
              0.4729063144
             ]
            },
            {
             "iteration": 130,
             "learn": [
              0.3691678582
             ],
             "passed_time": 0.8009123793,
             "remaining_time": 5.312922577,
             "test": [
              0.4729880926
             ]
            },
            {
             "iteration": 131,
             "learn": [
              0.3679815198
             ],
             "passed_time": 0.8063761067,
             "remaining_time": 5.302533793,
             "test": [
              0.4724123963
             ]
            },
            {
             "iteration": 132,
             "learn": [
              0.3670849098
             ],
             "passed_time": 0.8119730053,
             "remaining_time": 5.293087185,
             "test": [
              0.4724127803
             ]
            },
            {
             "iteration": 133,
             "learn": [
              0.3661323206
             ],
             "passed_time": 0.8174971597,
             "remaining_time": 5.283227913,
             "test": [
              0.4722623973
             ]
            },
            {
             "iteration": 134,
             "learn": [
              0.3649145528
             ],
             "passed_time": 0.8234390802,
             "remaining_time": 5.276109662,
             "test": [
              0.4721836535
             ]
            },
            {
             "iteration": 135,
             "learn": [
              0.3643910187
             ],
             "passed_time": 0.8290005631,
             "remaining_time": 5.266591812,
             "test": [
              0.4726554378
             ]
            },
            {
             "iteration": 136,
             "learn": [
              0.3635316695
             ],
             "passed_time": 0.834472337,
             "remaining_time": 5.256566619,
             "test": [
              0.4723578188
             ]
            },
            {
             "iteration": 137,
             "learn": [
              0.3628997495
             ],
             "passed_time": 0.840122576,
             "remaining_time": 5.247722178,
             "test": [
              0.4728345475
             ]
            },
            {
             "iteration": 138,
             "learn": [
              0.3621371403
             ],
             "passed_time": 0.8456779043,
             "remaining_time": 5.238335795,
             "test": [
              0.4728051859
             ]
            },
            {
             "iteration": 139,
             "learn": [
              0.3614460968
             ],
             "passed_time": 0.8511805821,
             "remaining_time": 5.228680718,
             "test": [
              0.4728270822
             ]
            },
            {
             "iteration": 140,
             "learn": [
              0.3609468888
             ],
             "passed_time": 0.8562229269,
             "remaining_time": 5.216280101,
             "test": [
              0.4728071096
             ]
            },
            {
             "iteration": 141,
             "learn": [
              0.3604882426
             ],
             "passed_time": 0.8614679417,
             "remaining_time": 5.205207704,
             "test": [
              0.4727140448
             ]
            },
            {
             "iteration": 142,
             "learn": [
              0.3599044743
             ],
             "passed_time": 0.8668109536,
             "remaining_time": 5.194804106,
             "test": [
              0.4725335335
             ]
            },
            {
             "iteration": 143,
             "learn": [
              0.3591691963
             ],
             "passed_time": 0.8720755876,
             "remaining_time": 5.184004882,
             "test": [
              0.47332542
             ]
            },
            {
             "iteration": 144,
             "learn": [
              0.3584558544
             ],
             "passed_time": 0.8775802172,
             "remaining_time": 5.174697143,
             "test": [
              0.4736940623
             ]
            },
            {
             "iteration": 145,
             "learn": [
              0.3580316536
             ],
             "passed_time": 0.8828963335,
             "remaining_time": 5.164338827,
             "test": [
              0.4739900885
             ]
            },
            {
             "iteration": 146,
             "learn": [
              0.3575966361
             ],
             "passed_time": 0.8880276909,
             "remaining_time": 5.152977009,
             "test": [
              0.4738557836
             ]
            },
            {
             "iteration": 147,
             "learn": [
              0.3569467578
             ],
             "passed_time": 0.8933179578,
             "remaining_time": 5.14261419,
             "test": [
              0.4733436104
             ]
            },
            {
             "iteration": 148,
             "learn": [
              0.356017481
             ],
             "passed_time": 0.8986982319,
             "remaining_time": 5.132833526,
             "test": [
              0.4731460935
             ]
            },
            {
             "iteration": 149,
             "learn": [
              0.355463374
             ],
             "passed_time": 0.9043025523,
             "remaining_time": 5.12438113,
             "test": [
              0.4734316473
             ]
            },
            {
             "iteration": 150,
             "learn": [
              0.3549684806
             ],
             "passed_time": 0.909476421,
             "remaining_time": 5.113546235,
             "test": [
              0.4734131099
             ]
            },
            {
             "iteration": 151,
             "learn": [
              0.3544939596
             ],
             "passed_time": 0.9149043373,
             "remaining_time": 5.104203145,
             "test": [
              0.4731358749
             ]
            },
            {
             "iteration": 152,
             "learn": [
              0.3541406443
             ],
             "passed_time": 0.9202630021,
             "remaining_time": 5.094527861,
             "test": [
              0.4730462216
             ]
            },
            {
             "iteration": 153,
             "learn": [
              0.3536964222
             ],
             "passed_time": 0.925708724,
             "remaining_time": 5.085386886,
             "test": [
              0.4727794885
             ]
            },
            {
             "iteration": 154,
             "learn": [
              0.3532909073
             ],
             "passed_time": 0.9307706863,
             "remaining_time": 5.074201483,
             "test": [
              0.4729280525
             ]
            },
            {
             "iteration": 155,
             "learn": [
              0.3526591377
             ],
             "passed_time": 0.9362176554,
             "remaining_time": 5.065177572,
             "test": [
              0.4726047332
             ]
            },
            {
             "iteration": 156,
             "learn": [
              0.352361187
             ],
             "passed_time": 0.946419127,
             "remaining_time": 5.081728179,
             "test": [
              0.4724982512
             ]
            },
            {
             "iteration": 157,
             "learn": [
              0.3517377356
             ],
             "passed_time": 0.9521033645,
             "remaining_time": 5.073867297,
             "test": [
              0.4721899501
             ]
            },
            {
             "iteration": 158,
             "learn": [
              0.3507741736
             ],
             "passed_time": 0.9579721581,
             "remaining_time": 5.067009968,
             "test": [
              0.4722829305
             ]
            },
            {
             "iteration": 159,
             "learn": [
              0.3503349574
             ],
             "passed_time": 0.9637842912,
             "remaining_time": 5.059867529,
             "test": [
              0.4723851854
             ]
            }
           ],
           "meta": {
            "iteration_count": 1000,
            "launch_mode": "Train",
            "learn_metrics": [
             {
              "best_value": "Min",
              "name": "MultiClass"
             }
            ],
            "learn_sets": [
             "learn"
            ],
            "name": "experiment",
            "parameters": "",
            "test_metrics": [
             {
              "best_value": "Min",
              "name": "MultiClass"
             }
            ],
            "test_sets": [
             "test"
            ]
           }
          },
          "passed_iterations": 159,
          "total_iterations": 1000
         },
         "name": "catboost_info",
         "path": "catboost_info"
        }
       },
       "layout": "IPY_MODEL_4d8b8945cbb34543b7bdafd7cdd71ad9"
      }
     },
     "4d8b8945cbb34543b7bdafd7cdd71ad9": {
      "model_module": "@jupyter-widgets/base",
      "model_module_version": "1.2.0",
      "model_name": "LayoutModel",
      "state": {
       "_model_module": "@jupyter-widgets/base",
       "_model_module_version": "1.2.0",
       "_model_name": "LayoutModel",
       "_view_count": null,
       "_view_module": "@jupyter-widgets/base",
       "_view_module_version": "1.2.0",
       "_view_name": "LayoutView",
       "align_content": null,
       "align_items": null,
       "align_self": "stretch",
       "border": null,
       "bottom": null,
       "display": null,
       "flex": null,
       "flex_flow": null,
       "grid_area": null,
       "grid_auto_columns": null,
       "grid_auto_flow": null,
       "grid_auto_rows": null,
       "grid_column": null,
       "grid_gap": null,
       "grid_row": null,
       "grid_template_areas": null,
       "grid_template_columns": null,
       "grid_template_rows": null,
       "height": "500px",
       "justify_content": null,
       "justify_items": null,
       "left": null,
       "margin": null,
       "max_height": null,
       "max_width": null,
       "min_height": null,
       "min_width": null,
       "object_fit": null,
       "object_position": null,
       "order": null,
       "overflow": null,
       "overflow_x": null,
       "overflow_y": null,
       "padding": null,
       "right": null,
       "top": null,
       "visibility": null,
       "width": null
      }
     }
    },
    "version_major": 2,
    "version_minor": 0
   }
  }
 },
 "nbformat": 4,
 "nbformat_minor": 5
}
