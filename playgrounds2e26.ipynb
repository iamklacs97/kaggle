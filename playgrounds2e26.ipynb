{
 "cells": [
  {
   "cell_type": "markdown",
   "id": "f0b9d89f",
   "metadata": {
    "_cell_guid": "b1076dfc-b9ad-4769-8c92-a6c4dae69d19",
    "_uuid": "8f2839f25d086af736a60e9eeb907d3b93b6e0e5",
    "papermill": {
     "duration": 0.012181,
     "end_time": "2023-12-13T23:23:00.531126",
     "exception": false,
     "start_time": "2023-12-13T23:23:00.518945",
     "status": "completed"
    },
    "tags": []
   },
   "source": [
    "# Playground-series-s3e26\n",
    "\n",
    "Kyle Lacson \n"
   ]
  },
  {
   "cell_type": "markdown",
   "id": "107091b8",
   "metadata": {
    "papermill": {
     "duration": 0.011016,
     "end_time": "2023-12-13T23:23:00.553938",
     "exception": false,
     "start_time": "2023-12-13T23:23:00.542922",
     "status": "completed"
    },
    "tags": []
   },
   "source": [
    "## I. Libraries and Packages"
   ]
  },
  {
   "cell_type": "code",
   "execution_count": null,
   "id": "9209acaf",
   "metadata": {
    "execution": {
     "iopub.execute_input": "2023-12-13T23:23:00.578802Z",
     "iopub.status.busy": "2023-12-13T23:23:00.578289Z",
     "iopub.status.idle": "2023-12-13T23:23:03.177906Z",
     "shell.execute_reply": "2023-12-13T23:23:03.176494Z"
    },
    "papermill": {
     "duration": 2.616146,
     "end_time": "2023-12-13T23:23:03.181509",
     "exception": false,
     "start_time": "2023-12-13T23:23:00.565363",
     "status": "completed"
    },
    "tags": []
   },
   "outputs": [],
   "source": [
    "import pandas as pd\n",
    "import seaborn as sns\n",
    "import matplotlib.pyplot as plt\n",
    "import numpy as np\n",
    "import os \n",
    "import warnings\n",
    "warnings.filterwarnings('ignore')"
   ]
  },
  {
   "cell_type": "markdown",
   "id": "655e771e",
   "metadata": {
    "papermill": {
     "duration": 0.010959,
     "end_time": "2023-12-13T23:23:03.204102",
     "exception": false,
     "start_time": "2023-12-13T23:23:03.193143",
     "status": "completed"
    },
    "tags": []
   },
   "source": [
    "### I.ii Import dataset"
   ]
  },
  {
   "cell_type": "code",
   "execution_count": null,
   "id": "1cc1c4dd",
   "metadata": {
    "execution": {
     "iopub.execute_input": "2023-12-13T23:23:03.229499Z",
     "iopub.status.busy": "2023-12-13T23:23:03.228255Z",
     "iopub.status.idle": "2023-12-13T23:23:03.330701Z",
     "shell.execute_reply": "2023-12-13T23:23:03.329030Z"
    },
    "papermill": {
     "duration": 0.119546,
     "end_time": "2023-12-13T23:23:03.335007",
     "exception": false,
     "start_time": "2023-12-13T23:23:03.215461",
     "status": "completed"
    },
    "tags": []
   },
   "outputs": [],
   "source": [
    "# --- Setting up the directory based on local repository or kaggle\n",
    "if 'kylelacson' in os.getcwd():\n",
    "    base_dir = os.getcwd()\n",
    "else:\n",
    "    base_dir = r'/kaggle/input/playground-series-s3e26' \n",
    "    \n",
    "for i in os.listdir(base_dir):\n",
    "    if 'playground-series-s3e26' in i:\n",
    "        base_dir = os.path.join(base_dir,i)   \n",
    "    \n",
    "# --- Importing csv files from directory\n",
    "for i in os.listdir(base_dir):\n",
    "    if 'sample' in i:\n",
    "        sample = pd.read_csv(os.path.join(base_dir,i))\n",
    "    elif 'train' in i:\n",
    "        train = pd.read_csv(os.path.join(base_dir,i))\n",
    "    elif 'test' in i:\n",
    "        test = pd.read_csv(os.path.join(base_dir,i))\n",
    "    else:\n",
    "        continue"
   ]
  },
  {
   "cell_type": "code",
   "execution_count": null,
   "id": "584bc5e3",
   "metadata": {
    "execution": {
     "iopub.execute_input": "2023-12-13T23:23:03.361804Z",
     "iopub.status.busy": "2023-12-13T23:23:03.361300Z",
     "iopub.status.idle": "2023-12-13T23:23:03.396664Z",
     "shell.execute_reply": "2023-12-13T23:23:03.395637Z"
    },
    "papermill": {
     "duration": 0.051137,
     "end_time": "2023-12-13T23:23:03.398955",
     "exception": false,
     "start_time": "2023-12-13T23:23:03.347818",
     "status": "completed"
    },
    "tags": []
   },
   "outputs": [],
   "source": [
    "train.nunique().sort_values()[:10]"
   ]
  },
  {
   "cell_type": "markdown",
   "id": "76fc61a4",
   "metadata": {
    "execution": {
     "iopub.execute_input": "2023-12-11T19:18:22.883597Z",
     "iopub.status.busy": "2023-12-11T19:18:22.882815Z",
     "iopub.status.idle": "2023-12-11T19:18:22.923191Z",
     "shell.execute_reply": "2023-12-11T19:18:22.921999Z",
     "shell.execute_reply.started": "2023-12-11T19:18:22.883550Z"
    },
    "papermill": {
     "duration": 0.011145,
     "end_time": "2023-12-13T23:23:03.422077",
     "exception": false,
     "start_time": "2023-12-13T23:23:03.410932",
     "status": "completed"
    },
    "tags": []
   },
   "source": [
    "### I.iii Transfrom dataset"
   ]
  },
  {
   "cell_type": "code",
   "execution_count": null,
   "id": "b343bccf",
   "metadata": {
    "execution": {
     "iopub.execute_input": "2023-12-13T23:23:03.447881Z",
     "iopub.status.busy": "2023-12-13T23:23:03.446956Z",
     "iopub.status.idle": "2023-12-13T23:23:03.454111Z",
     "shell.execute_reply": "2023-12-13T23:23:03.453021Z"
    },
    "papermill": {
     "duration": 0.023253,
     "end_time": "2023-12-13T23:23:03.457015",
     "exception": false,
     "start_time": "2023-12-13T23:23:03.433762",
     "status": "completed"
    },
    "tags": []
   },
   "outputs": [],
   "source": [
    "# --- Setting aside category/object columns to transform\n",
    "category = train.select_dtypes(include = object)\n",
    "number = train.select_dtypes(include = np.number)"
   ]
  },
  {
   "cell_type": "code",
   "execution_count": null,
   "id": "1c9b9f3a",
   "metadata": {
    "execution": {
     "iopub.execute_input": "2023-12-13T23:23:03.482749Z",
     "iopub.status.busy": "2023-12-13T23:23:03.481994Z",
     "iopub.status.idle": "2023-12-13T23:23:03.802830Z",
     "shell.execute_reply": "2023-12-13T23:23:03.801640Z"
    },
    "papermill": {
     "duration": 0.337925,
     "end_time": "2023-12-13T23:23:03.806403",
     "exception": false,
     "start_time": "2023-12-13T23:23:03.468478",
     "status": "completed"
    },
    "tags": []
   },
   "outputs": [],
   "source": [
    "from sklearn.preprocessing import LabelEncoder\n",
    "'''\n",
    "Function: Label encode categorical columns.\n",
    "'''\n",
    "def label_encoder(df: pd.DataFrame):\n",
    "    for i in df.columns:\n",
    "        le = LabelEncoder()\n",
    "        le.fit(df[i])\n",
    "        df[i] = le.transform(df[i])\n",
    "    return df"
   ]
  },
  {
   "cell_type": "code",
   "execution_count": null,
   "id": "e33bbf6f",
   "metadata": {
    "execution": {
     "iopub.execute_input": "2023-12-13T23:23:03.832021Z",
     "iopub.status.busy": "2023-12-13T23:23:03.831559Z",
     "iopub.status.idle": "2023-12-13T23:23:03.860838Z",
     "shell.execute_reply": "2023-12-13T23:23:03.859199Z"
    },
    "papermill": {
     "duration": 0.046064,
     "end_time": "2023-12-13T23:23:03.863946",
     "exception": false,
     "start_time": "2023-12-13T23:23:03.817882",
     "status": "completed"
    },
    "tags": []
   },
   "outputs": [],
   "source": [
    "# --- Initializing label_encoder function\n",
    "category = label_encoder(category)"
   ]
  },
  {
   "cell_type": "code",
   "execution_count": null,
   "id": "9cb872e6",
   "metadata": {
    "execution": {
     "iopub.execute_input": "2023-12-13T23:23:03.890423Z",
     "iopub.status.busy": "2023-12-13T23:23:03.889493Z",
     "iopub.status.idle": "2023-12-13T23:23:03.905773Z",
     "shell.execute_reply": "2023-12-13T23:23:03.904506Z"
    },
    "papermill": {
     "duration": 0.032656,
     "end_time": "2023-12-13T23:23:03.909005",
     "exception": false,
     "start_time": "2023-12-13T23:23:03.876349",
     "status": "completed"
    },
    "tags": []
   },
   "outputs": [],
   "source": [
    "# --- Merging the new initialized dataset\n",
    "data = pd.concat([number,category],axis = 1).drop(columns = 'id')"
   ]
  },
  {
   "cell_type": "code",
   "execution_count": null,
   "id": "9f218cf4",
   "metadata": {
    "execution": {
     "iopub.execute_input": "2023-12-13T23:23:03.935555Z",
     "iopub.status.busy": "2023-12-13T23:23:03.935062Z",
     "iopub.status.idle": "2023-12-13T23:23:03.966678Z",
     "shell.execute_reply": "2023-12-13T23:23:03.965474Z"
    },
    "papermill": {
     "duration": 0.047551,
     "end_time": "2023-12-13T23:23:03.969192",
     "exception": false,
     "start_time": "2023-12-13T23:23:03.921641",
     "status": "completed"
    },
    "tags": []
   },
   "outputs": [],
   "source": [
    "data.head()"
   ]
  },
  {
   "cell_type": "markdown",
   "id": "cd3ce9ec",
   "metadata": {
    "papermill": {
     "duration": 0.011728,
     "end_time": "2023-12-13T23:23:03.992680",
     "exception": false,
     "start_time": "2023-12-13T23:23:03.980952",
     "status": "completed"
    },
    "tags": []
   },
   "source": [
    "## II. Explore data "
   ]
  },
  {
   "cell_type": "code",
   "execution_count": null,
   "id": "824d5b29",
   "metadata": {
    "execution": {
     "iopub.execute_input": "2023-12-13T23:23:04.019038Z",
     "iopub.status.busy": "2023-12-13T23:23:04.018459Z",
     "iopub.status.idle": "2023-12-13T23:23:05.223628Z",
     "shell.execute_reply": "2023-12-13T23:23:05.222534Z"
    },
    "papermill": {
     "duration": 1.222257,
     "end_time": "2023-12-13T23:23:05.227302",
     "exception": false,
     "start_time": "2023-12-13T23:23:04.005045",
     "status": "completed"
    },
    "tags": []
   },
   "outputs": [],
   "source": [
    "# --- Heatmap\n",
    "plt.figure(figsize = (12,12))\n",
    "mask = np.triu(np.ones_like(data.corr()))\n",
    "sns.heatmap(data = data.corr(), annot = True, fmt = '.1f', cmap = 'vlag', mask = mask);"
   ]
  },
  {
   "cell_type": "code",
   "execution_count": null,
   "id": "cc7cbaa0",
   "metadata": {
    "execution": {
     "iopub.execute_input": "2023-12-13T23:23:05.258777Z",
     "iopub.status.busy": "2023-12-13T23:23:05.257840Z",
     "iopub.status.idle": "2023-12-13T23:23:05.857007Z",
     "shell.execute_reply": "2023-12-13T23:23:05.855758Z"
    },
    "papermill": {
     "duration": 0.617682,
     "end_time": "2023-12-13T23:23:05.859569",
     "exception": false,
     "start_time": "2023-12-13T23:23:05.241887",
     "status": "completed"
    },
    "tags": []
   },
   "outputs": [],
   "source": [
    "#  Ascites & Edema\n",
    "fig, ax = plt.subplots(1,2,figsize = (8,8), sharey = True)\n",
    "sns.countplot(data = data, x = 'Edema', hue = 'Status', ax = ax[0])\n",
    "sns.countplot(data = data, x = 'Ascites', hue = 'Status', ax = ax[1])\n",
    "ax[0].set_title('Edema')\n",
    "ax[1].set_title('Ascites');\n"
   ]
  },
  {
   "cell_type": "markdown",
   "id": "4e1e2a76",
   "metadata": {
    "execution": {
     "iopub.execute_input": "2023-12-12T02:43:30.337210Z",
     "iopub.status.busy": "2023-12-12T02:43:30.336663Z",
     "iopub.status.idle": "2023-12-12T02:43:30.378971Z",
     "shell.execute_reply": "2023-12-12T02:43:30.377707Z",
     "shell.execute_reply.started": "2023-12-12T02:43:30.337168Z"
    },
    "papermill": {
     "duration": 0.014374,
     "end_time": "2023-12-13T23:23:05.888378",
     "exception": false,
     "start_time": "2023-12-13T23:23:05.874004",
     "status": "completed"
    },
    "tags": []
   },
   "source": [
    "### II.ii  Prepare dataset"
   ]
  },
  {
   "cell_type": "code",
   "execution_count": null,
   "id": "68ba70bb",
   "metadata": {
    "execution": {
     "iopub.execute_input": "2023-12-13T23:23:05.981060Z",
     "iopub.status.busy": "2023-12-13T23:23:05.980572Z",
     "iopub.status.idle": "2023-12-13T23:23:06.104470Z",
     "shell.execute_reply": "2023-12-13T23:23:06.102866Z"
    },
    "papermill": {
     "duration": 0.143529,
     "end_time": "2023-12-13T23:23:06.107550",
     "exception": false,
     "start_time": "2023-12-13T23:23:05.964021",
     "status": "completed"
    },
    "tags": []
   },
   "outputs": [],
   "source": [
    "# --- Split dataset\n",
    "from sklearn.model_selection import train_test_split\n",
    "X = data.drop(columns = 'Status')\n",
    "y = data.Status\n",
    "\n",
    "X_train, X_test, y_train, y_test = train_test_split(X,y, test_size = 0.2, random_state = 42, shuffle = True)\n",
    "\n",
    "# --- Creating a valdiation set \n",
    "train_split = int(len(X_train) * 0.10) # 10 percent of the split training set will be used for the evalution set \n",
    "X_val, y_val = X_train[(len(X_train) - train_split):], y_train[(len(y_train) - train_split):]\n",
    "X_train, y_train = X_train[:(len(X_train) - train_split)], y_train[:(len(y_train) - train_split)]"
   ]
  },
  {
   "cell_type": "code",
   "execution_count": null,
   "id": "2fa9c429",
   "metadata": {
    "execution": {
     "iopub.execute_input": "2023-12-13T23:23:06.140031Z",
     "iopub.status.busy": "2023-12-13T23:23:06.139531Z",
     "iopub.status.idle": "2023-12-13T23:23:06.146120Z",
     "shell.execute_reply": "2023-12-13T23:23:06.144860Z"
    },
    "papermill": {
     "duration": 0.025985,
     "end_time": "2023-12-13T23:23:06.148744",
     "exception": false,
     "start_time": "2023-12-13T23:23:06.122759",
     "status": "completed"
    },
    "tags": []
   },
   "outputs": [],
   "source": [
    "# --- Scaling dataset (not truly needed for tree based classifiers)\n",
    "from sklearn.preprocessing import StandardScaler\n",
    "\n",
    "def scale_dataframes(dataframe: pd.DataFrame):\n",
    "    scaler = StandardScaler()\n",
    "    df = pd.DataFrame(data = scaler.fit_transform(dataframe), columns = dataframe.columns)\n",
    "    return df"
   ]
  },
  {
   "cell_type": "code",
   "execution_count": null,
   "id": "8215d69a",
   "metadata": {
    "execution": {
     "iopub.execute_input": "2023-12-13T23:23:06.180299Z",
     "iopub.status.busy": "2023-12-13T23:23:06.179804Z",
     "iopub.status.idle": "2023-12-13T23:23:06.200483Z",
     "shell.execute_reply": "2023-12-13T23:23:06.199356Z"
    },
    "papermill": {
     "duration": 0.040145,
     "end_time": "2023-12-13T23:23:06.203572",
     "exception": false,
     "start_time": "2023-12-13T23:23:06.163427",
     "status": "completed"
    },
    "tags": []
   },
   "outputs": [],
   "source": [
    "X_train_sc = scale_dataframes(X_train)\n",
    "X_val_sc = scale_dataframes(X_val)\n",
    "X_test_sc =  scale_dataframes(X_test)"
   ]
  },
  {
   "cell_type": "markdown",
   "id": "3a53b94f",
   "metadata": {
    "execution": {
     "iopub.execute_input": "2023-12-12T20:35:24.865419Z",
     "iopub.status.busy": "2023-12-12T20:35:24.864784Z",
     "iopub.status.idle": "2023-12-12T20:35:24.894476Z",
     "shell.execute_reply": "2023-12-12T20:35:24.893179Z",
     "shell.execute_reply.started": "2023-12-12T20:35:24.865367Z"
    },
    "papermill": {
     "duration": 0.016314,
     "end_time": "2023-12-13T23:23:06.234909",
     "exception": false,
     "start_time": "2023-12-13T23:23:06.218595",
     "status": "completed"
    },
    "tags": []
   },
   "source": [
    "## III. Classification Modeling"
   ]
  },
  {
   "cell_type": "markdown",
   "id": "7845b106",
   "metadata": {
    "papermill": {
     "duration": 0.01427,
     "end_time": "2023-12-13T23:23:06.263905",
     "exception": false,
     "start_time": "2023-12-13T23:23:06.249635",
     "status": "completed"
    },
    "tags": []
   },
   "source": [
    "### III.ii Decision Tree Classifier (SKLEARN)"
   ]
  },
  {
   "cell_type": "code",
   "execution_count": null,
   "id": "48c3d959",
   "metadata": {
    "execution": {
     "iopub.execute_input": "2023-12-13T23:23:06.295299Z",
     "iopub.status.busy": "2023-12-13T23:23:06.294839Z",
     "iopub.status.idle": "2023-12-13T23:23:06.598358Z",
     "shell.execute_reply": "2023-12-13T23:23:06.597009Z"
    },
    "papermill": {
     "duration": 0.323585,
     "end_time": "2023-12-13T23:23:06.602200",
     "exception": false,
     "start_time": "2023-12-13T23:23:06.278615",
     "status": "completed"
    },
    "tags": []
   },
   "outputs": [],
   "source": [
    "# --- Sklearn Decision Tree Classifier \n",
    "from sklearn.tree import DecisionTreeClassifier\n",
    "\n",
    "dt_sk = DecisionTreeClassifier(random_state = 42)\n",
    "dt_sk.fit(X_train_sc, y_train)\n",
    "y_dt_pred = dt_sk.predict(X_test_sc)"
   ]
  },
  {
   "cell_type": "markdown",
   "id": "63bb5a9b",
   "metadata": {
    "papermill": {
     "duration": 0.014407,
     "end_time": "2023-12-13T23:23:06.638026",
     "exception": false,
     "start_time": "2023-12-13T23:23:06.623619",
     "status": "completed"
    },
    "tags": []
   },
   "source": [
    "### III.iii Random Forest Classifier (SKLEARN)"
   ]
  },
  {
   "cell_type": "code",
   "execution_count": null,
   "id": "cd021953",
   "metadata": {
    "execution": {
     "iopub.execute_input": "2023-12-13T23:23:06.762458Z",
     "iopub.status.busy": "2023-12-13T23:23:06.761822Z",
     "iopub.status.idle": "2023-12-13T23:23:08.461387Z",
     "shell.execute_reply": "2023-12-13T23:23:08.460079Z"
    },
    "papermill": {
     "duration": 1.812143,
     "end_time": "2023-12-13T23:23:08.464690",
     "exception": false,
     "start_time": "2023-12-13T23:23:06.652547",
     "status": "completed"
    },
    "tags": []
   },
   "outputs": [],
   "source": [
    "# --- Sklearn Random Forest Tree Classifier\n",
    "from sklearn.ensemble import RandomForestClassifier\n",
    "\n",
    "rf_sk = RandomForestClassifier(random_state = 42)\n",
    "rf_sk.fit(X_train_sc, y_train)\n",
    "y_rf_pred = rf_sk.predict(X_test_sc)"
   ]
  },
  {
   "cell_type": "markdown",
   "id": "d8a81789",
   "metadata": {
    "papermill": {
     "duration": 0.015868,
     "end_time": "2023-12-13T23:23:08.498025",
     "exception": false,
     "start_time": "2023-12-13T23:23:08.482157",
     "status": "completed"
    },
    "tags": []
   },
   "source": [
    "### III.iv Random Forest XGBoost Classifier (Gradient Boosting) "
   ]
  },
  {
   "cell_type": "code",
   "execution_count": null,
   "metadata": {},
   "outputs": [],
   "source": [
    "# --- Check if a GPU is available and set device to built in GPU support (MPS)\n",
    "import torch\n",
    "device = torch.device('mps') if torch.backends.mps.is_available() else 'cuda' if torch.cuda.is_available() else 'cpu'\n",
    "device"
   ]
  },
  {
   "cell_type": "code",
   "execution_count": null,
   "id": "e3d859a8",
   "metadata": {
    "execution": {
     "iopub.execute_input": "2023-12-13T23:23:08.531328Z",
     "iopub.status.busy": "2023-12-13T23:23:08.530834Z",
     "iopub.status.idle": "2023-12-13T23:23:10.135768Z",
     "shell.execute_reply": "2023-12-13T23:23:10.134646Z"
    },
    "papermill": {
     "duration": 1.625711,
     "end_time": "2023-12-13T23:23:10.138987",
     "exception": false,
     "start_time": "2023-12-13T23:23:08.513276",
     "status": "completed"
    },
    "tags": []
   },
   "outputs": [],
   "source": [
    "# --- XGBoost Classifier and Random Forest Classifier\n",
    "from xgboost import XGBClassifier, XGBRFClassifier\n",
    "\n",
    "# Gradient Boosting\n",
    "params = {\n",
    "    'random_state': 42,\n",
    "    'n_jobs': 4,\n",
    "    'verbosity': 1,\n",
    "    'device': device,\n",
    "    'early_stopping_rounds': 10\n",
    "    # eval_metric: # change log loss to multiclass entropy loss\n",
    "}\n",
    "\n",
    "params2 = {\n",
    "    'random_state': 42,\n",
    "    'n_jobs': 4,\n",
    "    'verbosity': 1,\n",
    "    'device': device\n",
    "    # eval_metric: # change log loss to multiclass entropy loss\n",
    "}\n",
    "\n",
    "xgb_clf = XGBClassifier(**params)\n",
    "xgb_clf.fit(X_train_sc, y_train, eval_set = [(X_train_sc, y_train),(X_val_sc, y_val)])\n",
    "y_xgbclf_pred = xgb_clf.predict(X_test_sc)\n",
    "\n",
    "# Random Forest\n",
    "xgbrf_clf = XGBRFClassifier(**params2)\n",
    "xgbrf_clf.fit(X_train_sc, y_train, eval_set = [(X_train_sc, y_train), (X_val_sc, y_val)])\n",
    "y_xgbrf_pred = xgbrf_clf.predict(X_test_sc)"
   ]
  },
  {
   "cell_type": "code",
   "execution_count": null,
   "metadata": {},
   "outputs": [],
   "source": [
    "# --- xgbclassifier evaluation metrics\n",
    "xgb_results = xgb_clf.evals_result_\n",
    "\n",
    "plt.figure(figsize=(10,7))\n",
    "plt.plot(xgb_results[\"validation_0\"][\"mlogloss\"], label=\"Training loss\")\n",
    "plt.plot(xgb_results[\"validation_1\"][\"mlogloss\"], label=\"Validation loss\")\n",
    "plt.axvline(xgb_clf.best_iteration, color=\"gray\", label=\"Optimal tree number\")\n",
    "plt.xlabel(\"Number of trees\")\n",
    "plt.ylabel(\"Loss\")\n",
    "plt.legend();"
   ]
  },
  {
   "cell_type": "markdown",
   "id": "01151c89",
   "metadata": {
    "papermill": {
     "duration": 0.015119,
     "end_time": "2023-12-13T23:23:10.170650",
     "exception": false,
     "start_time": "2023-12-13T23:23:10.155531",
     "status": "completed"
    },
    "tags": []
   },
   "source": [
    "### III.v. Classifier Catboost"
   ]
  },
  {
   "cell_type": "code",
   "execution_count": null,
   "id": "c3fcded3",
   "metadata": {
    "execution": {
     "iopub.execute_input": "2023-12-13T23:23:10.204337Z",
     "iopub.status.busy": "2023-12-13T23:23:10.202970Z",
     "iopub.status.idle": "2023-12-13T23:23:10.208848Z",
     "shell.execute_reply": "2023-12-13T23:23:10.207757Z"
    },
    "papermill": {
     "duration": 0.026149,
     "end_time": "2023-12-13T23:23:10.212143",
     "exception": false,
     "start_time": "2023-12-13T23:23:10.185994",
     "status": "completed"
    },
    "tags": []
   },
   "outputs": [],
   "source": [
    "# --- Catboost Classifier\n",
    "from catboost import CatBoostClassifier\n",
    "import ipywidgets # required for plotting with catboosts\n",
    "\n",
    "params = {\n",
    "    'random_seed': 42, \n",
    "    'verbose': True,\n",
    "    'thread_count': 4,\n",
    "    'devices': 'CPU',\n",
    "    'early_stopping_rounds': 25\n",
    "}\n",
    "\n",
    "cb_clf = CatBoostClassifier(**params)\n",
    "cb_clf.fit(X_train_sc,y_train, verbose = True, early_stopping_rounds = 25, eval_set = (X_val_sc, y_val))"
   ]
  },
  {
   "cell_type": "code",
   "execution_count": null,
   "metadata": {},
   "outputs": [],
   "source": [
    "cb_clf.evals_result_"
   ]
  },
  {
   "cell_type": "code",
   "execution_count": null,
   "metadata": {},
   "outputs": [],
   "source": [
    "cb_clf.get_eval_result"
   ]
  },
  {
   "cell_type": "markdown",
   "id": "87cb3324",
   "metadata": {
    "papermill": {
     "duration": 0.014627,
     "end_time": "2023-12-13T23:23:10.242009",
     "exception": false,
     "start_time": "2023-12-13T23:23:10.227382",
     "status": "completed"
    },
    "tags": []
   },
   "source": [
    "## IV. Metrics"
   ]
  },
  {
   "cell_type": "code",
   "execution_count": null,
   "metadata": {},
   "outputs": [],
   "source": [
    "class Metric:\n",
    "    \n",
    "    metric_list = []\n",
    "     \n",
    "    def __init__(self, name_of_classifier, y_pred, classifier):\n",
    "        self.name = name_of_classifier\n",
    "        self.y_pred = y_pred\n",
    "        self.classifier = classifier\n",
    "        \n",
    "    def metrics_func(self):\n",
    "        pass\n",
    "        \n",
    "        "
   ]
  },
  {
   "cell_type": "code",
   "execution_count": null,
   "id": "a38b2b0d",
   "metadata": {
    "execution": {
     "iopub.execute_input": "2023-12-13T23:23:10.275830Z",
     "iopub.status.busy": "2023-12-13T23:23:10.274620Z",
     "iopub.status.idle": "2023-12-13T23:23:10.284830Z",
     "shell.execute_reply": "2023-12-13T23:23:10.283681Z"
    },
    "papermill": {
     "duration": 0.030339,
     "end_time": "2023-12-13T23:23:10.287895",
     "exception": false,
     "start_time": "2023-12-13T23:23:10.257556",
     "status": "completed"
    },
    "tags": []
   },
   "outputs": [],
   "source": [
    "# --- Metrics\n",
    "from sklearn.metrics import accuracy_score, balanced_accuracy_score, roc_auc_score, confusion_matrix, ConfusionMatrixDisplay, classification_report\n",
    "\n",
    "def metrics_func(y_pred, classifier):\n",
    "    acc = accuracy_score(y_test,y_pred)\n",
    "    bal_acc = balanced_accuracy_score(y_test, y_pred)\n",
    "\n",
    "    # --- Confusion Matrix\n",
    "    cm = confusion_matrix(y_test,y_pred, labels = classifier.classes_)\n",
    "    disp = ConfusionMatrixDisplay(confusion_matrix= cm, display_labels = classifier.classes_)\n",
    "    disp.plot()\n",
    "    plt.show()\n",
    "\n",
    "    print(classification_report(y_test, y_pred))\n",
    "    print('*'*75,'\\n')\n",
    "    print(f'Accuracy: {acc}\\nBalanced Accuracy: {bal_acc}')\n",
    "    \n",
    "#     return acc, bal_acc\n"
   ]
  },
  {
   "cell_type": "code",
   "execution_count": null,
   "id": "f7e1fb3f",
   "metadata": {
    "execution": {
     "iopub.execute_input": "2023-12-13T23:23:10.320404Z",
     "iopub.status.busy": "2023-12-13T23:23:10.319863Z",
     "iopub.status.idle": "2023-12-13T23:23:10.658926Z",
     "shell.execute_reply": "2023-12-13T23:23:10.657760Z"
    },
    "papermill": {
     "duration": 0.358578,
     "end_time": "2023-12-13T23:23:10.661670",
     "exception": false,
     "start_time": "2023-12-13T23:23:10.303092",
     "status": "completed"
    },
    "tags": []
   },
   "outputs": [],
   "source": [
    "# XGBRFBoosting (Random Forest)\n",
    "print('XGBRF Classifier')\n",
    "metrics_func(y_xgbrf_pred, xgbrf_clf)"
   ]
  },
  {
   "cell_type": "code",
   "execution_count": null,
   "id": "3cfdaadd",
   "metadata": {
    "execution": {
     "iopub.execute_input": "2023-12-13T23:23:10.698211Z",
     "iopub.status.busy": "2023-12-13T23:23:10.697046Z",
     "iopub.status.idle": "2023-12-13T23:23:11.046772Z",
     "shell.execute_reply": "2023-12-13T23:23:11.045097Z"
    },
    "papermill": {
     "duration": 0.370413,
     "end_time": "2023-12-13T23:23:11.049747",
     "exception": false,
     "start_time": "2023-12-13T23:23:10.679334",
     "status": "completed"
    },
    "tags": []
   },
   "outputs": [],
   "source": [
    "# XGBoosting (Gradient Boosting)\n",
    "print('XGBoost Classifier')\n",
    "metrics_func(y_xgbclf_pred, xgb_clf)"
   ]
  },
  {
   "cell_type": "code",
   "execution_count": null,
   "id": "2efe7a1f",
   "metadata": {
    "execution": {
     "iopub.execute_input": "2023-12-13T23:23:11.085209Z",
     "iopub.status.busy": "2023-12-13T23:23:11.084718Z",
     "iopub.status.idle": "2023-12-13T23:23:11.417121Z",
     "shell.execute_reply": "2023-12-13T23:23:11.415676Z"
    },
    "papermill": {
     "duration": 0.353305,
     "end_time": "2023-12-13T23:23:11.419958",
     "exception": false,
     "start_time": "2023-12-13T23:23:11.066653",
     "status": "completed"
    },
    "tags": []
   },
   "outputs": [],
   "source": [
    "# Random Forest (SK)\n",
    "print('Random Forest')\n",
    "metrics_func(y_rf_pred,rf_sk)"
   ]
  },
  {
   "cell_type": "code",
   "execution_count": null,
   "id": "4c245ce8",
   "metadata": {
    "execution": {
     "iopub.execute_input": "2023-12-13T23:23:11.458717Z",
     "iopub.status.busy": "2023-12-13T23:23:11.457246Z",
     "iopub.status.idle": "2023-12-13T23:23:11.933924Z",
     "shell.execute_reply": "2023-12-13T23:23:11.930609Z"
    },
    "papermill": {
     "duration": 0.501129,
     "end_time": "2023-12-13T23:23:11.938379",
     "exception": false,
     "start_time": "2023-12-13T23:23:11.437250",
     "status": "completed"
    },
    "tags": []
   },
   "outputs": [],
   "source": [
    "# Decision Tree (SK)\n",
    "print('Decision Tree')\n",
    "metrics_func(y_dt_pred, dt_sk)"
   ]
  },
  {
   "cell_type": "markdown",
   "id": "94af4abe",
   "metadata": {
    "papermill": {
     "duration": 0.020732,
     "end_time": "2023-12-13T23:23:11.990047",
     "exception": false,
     "start_time": "2023-12-13T23:23:11.969315",
     "status": "completed"
    },
    "tags": []
   },
   "source": [
    "**Notes:** Need to handle class imbalance. Big disparity in class labeling."
   ]
  },
  {
   "cell_type": "code",
   "execution_count": null,
   "id": "1035f936",
   "metadata": {
    "papermill": {
     "duration": 0.017723,
     "end_time": "2023-12-13T23:23:12.029212",
     "exception": false,
     "start_time": "2023-12-13T23:23:12.011489",
     "status": "completed"
    },
    "tags": []
   },
   "outputs": [],
   "source": []
  }
 ],
 "metadata": {
  "kaggle": {
   "accelerator": "none",
   "dataSources": [
    {
     "databundleVersionId": 7000181,
     "sourceId": 60893,
     "sourceType": "competition"
    }
   ],
   "dockerImageVersionId": 30615,
   "isGpuEnabled": false,
   "isInternetEnabled": true,
   "language": "python",
   "sourceType": "notebook"
  },
  "kernelspec": {
   "display_name": "Python 3",
   "language": "python",
   "name": "python3"
  },
  "language_info": {
   "codemirror_mode": {
    "name": "ipython",
    "version": 3
   },
   "file_extension": ".py",
   "mimetype": "text/x-python",
   "name": "python",
   "nbconvert_exporter": "python",
   "pygments_lexer": "ipython3",
   "version": "3.11.0"
  },
  "papermill": {
   "default_parameters": {},
   "duration": 17.420322,
   "end_time": "2023-12-13T23:23:13.073100",
   "environment_variables": {},
   "exception": null,
   "input_path": "__notebook__.ipynb",
   "output_path": "__notebook__.ipynb",
   "parameters": {},
   "start_time": "2023-12-13T23:22:55.652778",
   "version": "2.4.0"
  }
 },
 "nbformat": 4,
 "nbformat_minor": 5
}
